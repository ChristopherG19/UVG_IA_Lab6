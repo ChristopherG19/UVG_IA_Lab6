{
 "cells": [
  {
   "cell_type": "code",
   "execution_count": 74,
   "id": "6427cf0e-404a-44eb-9e8c-45a756c1cd5e",
   "metadata": {},
   "outputs": [],
   "source": [
    "import pandas as pd # Import Pandas for data manipulation using dataframes\n",
    "import numpy as np # Import Numpy for data statistical analysis \n",
    "import matplotlib.pyplot as plt # Import matplotlib for data visualisation\n",
    "import seaborn as sns # Statistical data visualization\n",
    "import ydata_profiling\n",
    "from quickda.clean_data import *"
   ]
  },
  {
   "cell_type": "code",
   "execution_count": 75,
   "id": "d2fd7c40-d0a7-4199-aec7-f406c06b01f7",
   "metadata": {},
   "outputs": [
    {
     "name": "stdout",
     "output_type": "stream",
     "text": [
      "<class 'pandas.core.frame.DataFrame'>\n",
      "RangeIndex: 17981 entries, 0 to 17980\n",
      "Data columns (total 75 columns):\n",
      " #   Column               Non-Null Count  Dtype  \n",
      "---  ------               --------------  -----  \n",
      " 0   Unnamed: 0           17981 non-null  int64  \n",
      " 1   Name                 17981 non-null  object \n",
      " 2   Age                  17981 non-null  int64  \n",
      " 3   Photo                17981 non-null  object \n",
      " 4   Nationality          17981 non-null  object \n",
      " 5   Flag                 17981 non-null  object \n",
      " 6   Overall              17981 non-null  int64  \n",
      " 7   Potential            17981 non-null  int64  \n",
      " 8   Club                 17733 non-null  object \n",
      " 9   Club Logo            17981 non-null  object \n",
      " 10  Value                17981 non-null  object \n",
      " 11  Wage                 17981 non-null  object \n",
      " 12  Special              17981 non-null  int64  \n",
      " 13  Acceleration         17981 non-null  object \n",
      " 14  Aggression           17981 non-null  object \n",
      " 15  Agility              17981 non-null  object \n",
      " 16  Balance              17981 non-null  object \n",
      " 17  Ball control         17981 non-null  object \n",
      " 18  Composure            17981 non-null  object \n",
      " 19  Crossing             17981 non-null  object \n",
      " 20  Curve                17981 non-null  object \n",
      " 21  Dribbling            17981 non-null  object \n",
      " 22  Finishing            17981 non-null  object \n",
      " 23  Free kick accuracy   17981 non-null  object \n",
      " 24  GK diving            17981 non-null  object \n",
      " 25  GK handling          17981 non-null  object \n",
      " 26  GK kicking           17981 non-null  object \n",
      " 27  GK positioning       17981 non-null  object \n",
      " 28  GK reflexes          17981 non-null  object \n",
      " 29  Heading accuracy     17981 non-null  object \n",
      " 30  Interceptions        17981 non-null  object \n",
      " 31  Jumping              17981 non-null  object \n",
      " 32  Long passing         17981 non-null  object \n",
      " 33  Long shots           17981 non-null  object \n",
      " 34  Marking              17981 non-null  object \n",
      " 35  Penalties            17981 non-null  object \n",
      " 36  Positioning          17981 non-null  object \n",
      " 37  Reactions            17981 non-null  object \n",
      " 38  Short passing        17981 non-null  object \n",
      " 39  Shot power           17981 non-null  object \n",
      " 40  Sliding tackle       17981 non-null  object \n",
      " 41  Sprint speed         17981 non-null  object \n",
      " 42  Stamina              17981 non-null  object \n",
      " 43  Standing tackle      17981 non-null  object \n",
      " 44  Strength             17981 non-null  object \n",
      " 45  Vision               17981 non-null  object \n",
      " 46  Volleys              17981 non-null  object \n",
      " 47  CAM                  15952 non-null  float64\n",
      " 48  CB                   15952 non-null  float64\n",
      " 49  CDM                  15952 non-null  float64\n",
      " 50  CF                   15952 non-null  float64\n",
      " 51  CM                   15952 non-null  float64\n",
      " 52  ID                   17981 non-null  int64  \n",
      " 53  LAM                  15952 non-null  float64\n",
      " 54  LB                   15952 non-null  float64\n",
      " 55  LCB                  15952 non-null  float64\n",
      " 56  LCM                  15952 non-null  float64\n",
      " 57  LDM                  15952 non-null  float64\n",
      " 58  LF                   15952 non-null  float64\n",
      " 59  LM                   15952 non-null  float64\n",
      " 60  LS                   15952 non-null  float64\n",
      " 61  LW                   15952 non-null  float64\n",
      " 62  LWB                  15952 non-null  float64\n",
      " 63  Preferred Positions  17981 non-null  object \n",
      " 64  RAM                  15952 non-null  float64\n",
      " 65  RB                   15952 non-null  float64\n",
      " 66  RCB                  15952 non-null  float64\n",
      " 67  RCM                  15952 non-null  float64\n",
      " 68  RDM                  15952 non-null  float64\n",
      " 69  RF                   15952 non-null  float64\n",
      " 70  RM                   15952 non-null  float64\n",
      " 71  RS                   15952 non-null  float64\n",
      " 72  RW                   15952 non-null  float64\n",
      " 73  RWB                  15952 non-null  float64\n",
      " 74  ST                   15952 non-null  float64\n",
      "dtypes: float64(26), int64(6), object(43)\n",
      "memory usage: 10.3+ MB\n"
     ]
    }
   ],
   "source": [
    "# Leer archivo csv\n",
    "df = pd.read_csv('./Datasets/CompleteDataset.csv', low_memory=False)\n",
    "df.info()"
   ]
  },
  {
   "cell_type": "code",
   "execution_count": 76,
   "id": "aa6b9529-43a6-4d7f-8995-5d9bdc30cd3c",
   "metadata": {},
   "outputs": [
    {
     "data": {
      "text/html": [
       "<div>\n",
       "<style scoped>\n",
       "    .dataframe tbody tr th:only-of-type {\n",
       "        vertical-align: middle;\n",
       "    }\n",
       "\n",
       "    .dataframe tbody tr th {\n",
       "        vertical-align: top;\n",
       "    }\n",
       "\n",
       "    .dataframe thead th {\n",
       "        text-align: right;\n",
       "    }\n",
       "</style>\n",
       "<table border=\"1\" class=\"dataframe\">\n",
       "  <thead>\n",
       "    <tr style=\"text-align: right;\">\n",
       "      <th></th>\n",
       "      <th>Unnamed: 0</th>\n",
       "      <th>Age</th>\n",
       "      <th>Overall</th>\n",
       "      <th>Potential</th>\n",
       "      <th>Special</th>\n",
       "      <th>CAM</th>\n",
       "      <th>CB</th>\n",
       "      <th>CDM</th>\n",
       "      <th>CF</th>\n",
       "      <th>CM</th>\n",
       "      <th>...</th>\n",
       "      <th>RB</th>\n",
       "      <th>RCB</th>\n",
       "      <th>RCM</th>\n",
       "      <th>RDM</th>\n",
       "      <th>RF</th>\n",
       "      <th>RM</th>\n",
       "      <th>RS</th>\n",
       "      <th>RW</th>\n",
       "      <th>RWB</th>\n",
       "      <th>ST</th>\n",
       "    </tr>\n",
       "  </thead>\n",
       "  <tbody>\n",
       "    <tr>\n",
       "      <th>count</th>\n",
       "      <td>17981.000000</td>\n",
       "      <td>17981.000000</td>\n",
       "      <td>17981.000000</td>\n",
       "      <td>17981.000000</td>\n",
       "      <td>17981.000000</td>\n",
       "      <td>15952.000000</td>\n",
       "      <td>15952.000000</td>\n",
       "      <td>15952.000000</td>\n",
       "      <td>15952.000000</td>\n",
       "      <td>15952.000000</td>\n",
       "      <td>...</td>\n",
       "      <td>15952.000000</td>\n",
       "      <td>15952.000000</td>\n",
       "      <td>15952.000000</td>\n",
       "      <td>15952.000000</td>\n",
       "      <td>15952.000000</td>\n",
       "      <td>15952.000000</td>\n",
       "      <td>15952.000000</td>\n",
       "      <td>15952.000000</td>\n",
       "      <td>15952.000000</td>\n",
       "      <td>15952.000000</td>\n",
       "    </tr>\n",
       "    <tr>\n",
       "      <th>mean</th>\n",
       "      <td>8990.000000</td>\n",
       "      <td>25.144541</td>\n",
       "      <td>66.247984</td>\n",
       "      <td>71.190813</td>\n",
       "      <td>1594.095100</td>\n",
       "      <td>59.251755</td>\n",
       "      <td>55.550464</td>\n",
       "      <td>56.865283</td>\n",
       "      <td>59.030028</td>\n",
       "      <td>58.506833</td>\n",
       "      <td>...</td>\n",
       "      <td>56.979689</td>\n",
       "      <td>55.550464</td>\n",
       "      <td>58.506833</td>\n",
       "      <td>56.865283</td>\n",
       "      <td>59.030028</td>\n",
       "      <td>60.057736</td>\n",
       "      <td>58.204050</td>\n",
       "      <td>59.359265</td>\n",
       "      <td>57.698721</td>\n",
       "      <td>58.204050</td>\n",
       "    </tr>\n",
       "    <tr>\n",
       "      <th>std</th>\n",
       "      <td>5190.811931</td>\n",
       "      <td>4.614272</td>\n",
       "      <td>6.987965</td>\n",
       "      <td>6.102199</td>\n",
       "      <td>272.151435</td>\n",
       "      <td>9.880164</td>\n",
       "      <td>12.192579</td>\n",
       "      <td>10.310178</td>\n",
       "      <td>9.926988</td>\n",
       "      <td>8.888040</td>\n",
       "      <td>...</td>\n",
       "      <td>9.791627</td>\n",
       "      <td>12.192579</td>\n",
       "      <td>8.888040</td>\n",
       "      <td>10.310178</td>\n",
       "      <td>9.926988</td>\n",
       "      <td>9.349180</td>\n",
       "      <td>9.181392</td>\n",
       "      <td>9.978084</td>\n",
       "      <td>9.142825</td>\n",
       "      <td>9.181392</td>\n",
       "    </tr>\n",
       "    <tr>\n",
       "      <th>min</th>\n",
       "      <td>0.000000</td>\n",
       "      <td>16.000000</td>\n",
       "      <td>46.000000</td>\n",
       "      <td>46.000000</td>\n",
       "      <td>728.000000</td>\n",
       "      <td>27.000000</td>\n",
       "      <td>25.000000</td>\n",
       "      <td>26.000000</td>\n",
       "      <td>27.000000</td>\n",
       "      <td>30.000000</td>\n",
       "      <td>...</td>\n",
       "      <td>30.000000</td>\n",
       "      <td>25.000000</td>\n",
       "      <td>30.000000</td>\n",
       "      <td>26.000000</td>\n",
       "      <td>27.000000</td>\n",
       "      <td>28.000000</td>\n",
       "      <td>31.000000</td>\n",
       "      <td>26.000000</td>\n",
       "      <td>31.000000</td>\n",
       "      <td>31.000000</td>\n",
       "    </tr>\n",
       "    <tr>\n",
       "      <th>25%</th>\n",
       "      <td>4495.000000</td>\n",
       "      <td>21.000000</td>\n",
       "      <td>62.000000</td>\n",
       "      <td>67.000000</td>\n",
       "      <td>1449.000000</td>\n",
       "      <td>53.000000</td>\n",
       "      <td>45.000000</td>\n",
       "      <td>49.000000</td>\n",
       "      <td>53.000000</td>\n",
       "      <td>53.000000</td>\n",
       "      <td>...</td>\n",
       "      <td>50.000000</td>\n",
       "      <td>45.000000</td>\n",
       "      <td>53.000000</td>\n",
       "      <td>49.000000</td>\n",
       "      <td>53.000000</td>\n",
       "      <td>54.000000</td>\n",
       "      <td>52.000000</td>\n",
       "      <td>53.000000</td>\n",
       "      <td>51.000000</td>\n",
       "      <td>52.000000</td>\n",
       "    </tr>\n",
       "    <tr>\n",
       "      <th>50%</th>\n",
       "      <td>8990.000000</td>\n",
       "      <td>25.000000</td>\n",
       "      <td>66.000000</td>\n",
       "      <td>71.000000</td>\n",
       "      <td>1633.000000</td>\n",
       "      <td>60.000000</td>\n",
       "      <td>57.000000</td>\n",
       "      <td>58.000000</td>\n",
       "      <td>60.000000</td>\n",
       "      <td>59.000000</td>\n",
       "      <td>...</td>\n",
       "      <td>58.000000</td>\n",
       "      <td>57.000000</td>\n",
       "      <td>59.000000</td>\n",
       "      <td>58.000000</td>\n",
       "      <td>60.000000</td>\n",
       "      <td>61.000000</td>\n",
       "      <td>59.000000</td>\n",
       "      <td>60.000000</td>\n",
       "      <td>58.000000</td>\n",
       "      <td>59.000000</td>\n",
       "    </tr>\n",
       "    <tr>\n",
       "      <th>75%</th>\n",
       "      <td>13485.000000</td>\n",
       "      <td>28.000000</td>\n",
       "      <td>71.000000</td>\n",
       "      <td>75.000000</td>\n",
       "      <td>1786.000000</td>\n",
       "      <td>66.000000</td>\n",
       "      <td>65.000000</td>\n",
       "      <td>65.000000</td>\n",
       "      <td>66.000000</td>\n",
       "      <td>65.000000</td>\n",
       "      <td>...</td>\n",
       "      <td>64.000000</td>\n",
       "      <td>65.000000</td>\n",
       "      <td>65.000000</td>\n",
       "      <td>65.000000</td>\n",
       "      <td>66.000000</td>\n",
       "      <td>67.000000</td>\n",
       "      <td>65.000000</td>\n",
       "      <td>66.000000</td>\n",
       "      <td>64.000000</td>\n",
       "      <td>65.000000</td>\n",
       "    </tr>\n",
       "    <tr>\n",
       "      <th>max</th>\n",
       "      <td>17980.000000</td>\n",
       "      <td>47.000000</td>\n",
       "      <td>94.000000</td>\n",
       "      <td>94.000000</td>\n",
       "      <td>2291.000000</td>\n",
       "      <td>92.000000</td>\n",
       "      <td>87.000000</td>\n",
       "      <td>85.000000</td>\n",
       "      <td>92.000000</td>\n",
       "      <td>87.000000</td>\n",
       "      <td>...</td>\n",
       "      <td>84.000000</td>\n",
       "      <td>87.000000</td>\n",
       "      <td>87.000000</td>\n",
       "      <td>85.000000</td>\n",
       "      <td>92.000000</td>\n",
       "      <td>90.000000</td>\n",
       "      <td>92.000000</td>\n",
       "      <td>91.000000</td>\n",
       "      <td>84.000000</td>\n",
       "      <td>92.000000</td>\n",
       "    </tr>\n",
       "  </tbody>\n",
       "</table>\n",
       "<p>8 rows × 32 columns</p>\n",
       "</div>"
      ],
      "text/plain": [
       "         Unnamed: 0           Age       Overall     Potential       Special  \\\n",
       "count  17981.000000  17981.000000  17981.000000  17981.000000  17981.000000   \n",
       "mean    8990.000000     25.144541     66.247984     71.190813   1594.095100   \n",
       "std     5190.811931      4.614272      6.987965      6.102199    272.151435   \n",
       "min        0.000000     16.000000     46.000000     46.000000    728.000000   \n",
       "25%     4495.000000     21.000000     62.000000     67.000000   1449.000000   \n",
       "50%     8990.000000     25.000000     66.000000     71.000000   1633.000000   \n",
       "75%    13485.000000     28.000000     71.000000     75.000000   1786.000000   \n",
       "max    17980.000000     47.000000     94.000000     94.000000   2291.000000   \n",
       "\n",
       "                CAM            CB           CDM            CF            CM  \\\n",
       "count  15952.000000  15952.000000  15952.000000  15952.000000  15952.000000   \n",
       "mean      59.251755     55.550464     56.865283     59.030028     58.506833   \n",
       "std        9.880164     12.192579     10.310178      9.926988      8.888040   \n",
       "min       27.000000     25.000000     26.000000     27.000000     30.000000   \n",
       "25%       53.000000     45.000000     49.000000     53.000000     53.000000   \n",
       "50%       60.000000     57.000000     58.000000     60.000000     59.000000   \n",
       "75%       66.000000     65.000000     65.000000     66.000000     65.000000   \n",
       "max       92.000000     87.000000     85.000000     92.000000     87.000000   \n",
       "\n",
       "       ...            RB           RCB           RCM           RDM  \\\n",
       "count  ...  15952.000000  15952.000000  15952.000000  15952.000000   \n",
       "mean   ...     56.979689     55.550464     58.506833     56.865283   \n",
       "std    ...      9.791627     12.192579      8.888040     10.310178   \n",
       "min    ...     30.000000     25.000000     30.000000     26.000000   \n",
       "25%    ...     50.000000     45.000000     53.000000     49.000000   \n",
       "50%    ...     58.000000     57.000000     59.000000     58.000000   \n",
       "75%    ...     64.000000     65.000000     65.000000     65.000000   \n",
       "max    ...     84.000000     87.000000     87.000000     85.000000   \n",
       "\n",
       "                 RF            RM            RS            RW           RWB  \\\n",
       "count  15952.000000  15952.000000  15952.000000  15952.000000  15952.000000   \n",
       "mean      59.030028     60.057736     58.204050     59.359265     57.698721   \n",
       "std        9.926988      9.349180      9.181392      9.978084      9.142825   \n",
       "min       27.000000     28.000000     31.000000     26.000000     31.000000   \n",
       "25%       53.000000     54.000000     52.000000     53.000000     51.000000   \n",
       "50%       60.000000     61.000000     59.000000     60.000000     58.000000   \n",
       "75%       66.000000     67.000000     65.000000     66.000000     64.000000   \n",
       "max       92.000000     90.000000     92.000000     91.000000     84.000000   \n",
       "\n",
       "                 ST  \n",
       "count  15952.000000  \n",
       "mean      58.204050  \n",
       "std        9.181392  \n",
       "min       31.000000  \n",
       "25%       52.000000  \n",
       "50%       59.000000  \n",
       "75%       65.000000  \n",
       "max       92.000000  \n",
       "\n",
       "[8 rows x 32 columns]"
      ]
     },
     "execution_count": 76,
     "metadata": {},
     "output_type": "execute_result"
    }
   ],
   "source": [
    "df.describe()"
   ]
  },
  {
   "cell_type": "markdown",
   "id": "0b8df924-8057-47be-ad4e-bf292b9f5fb4",
   "metadata": {},
   "source": [
    "En esta ocasión, y debido a la gran cantidad de columnas, se decidió no utilizar el profiler de pandas. Pero, se revisó en la página de dónde se obtuvieron los datos las gráficas sobre cada columna que este brindaba. De ella se pueden hacer las siguientes observaciones: \n",
    "- En las últimas columnas, el 10% de los datos son nulos. \n",
    "- Existen muchos datos atípicos\n",
    "- No se pueden observar muy bien, pero las gráficas de GK son especiales, probablemente porque la mayoría de ellas aplican solo a los porteros. \n"
   ]
  },
  {
   "cell_type": "markdown",
   "id": "4fafc6d2-2315-4a22-89bd-a393a3681540",
   "metadata": {},
   "source": [
    "## Limpieza de datos"
   ]
  },
  {
   "cell_type": "code",
   "execution_count": 77,
   "id": "0a807567-9462-4227-8ed6-bd92afedc6ad",
   "metadata": {},
   "outputs": [
    {
     "data": {
      "text/plain": [
       "'60+7'"
      ]
     },
     "execution_count": 77,
     "metadata": {},
     "output_type": "execute_result"
    }
   ],
   "source": [
    "df['Curve'][412] # Se puede observar que los números no son todos numéricos"
   ]
  },
  {
   "cell_type": "code",
   "execution_count": 78,
   "id": "56d02c58-f4a8-4070-aeb8-ed01388836f2",
   "metadata": {},
   "outputs": [],
   "source": [
    "# Convertir las columnas no númericas a numéricas"
   ]
  },
  {
   "cell_type": "code",
   "execution_count": 79,
   "id": "48bad577-532d-40cc-82e5-b5f96c204524",
   "metadata": {},
   "outputs": [
    {
     "data": {
      "text/plain": [
       "'€95.5M'"
      ]
     },
     "execution_count": 79,
     "metadata": {},
     "output_type": "execute_result"
    }
   ],
   "source": [
    "df['Value'][0]"
   ]
  },
  {
   "cell_type": "code",
   "execution_count": 80,
   "id": "4d67397a-bbce-44a5-b77d-1154d191436b",
   "metadata": {},
   "outputs": [
    {
     "data": {
      "text/plain": [
       "0         95500000\n",
       "1        105000000\n",
       "2        123000000\n",
       "3         97000000\n",
       "4         61000000\n",
       "           ...    \n",
       "17976        50000\n",
       "17977            0\n",
       "17978        60000\n",
       "17979        60000\n",
       "17980        50000\n",
       "Name: Value, Length: 17981, dtype: int32"
      ]
     },
     "execution_count": 80,
     "metadata": {},
     "output_type": "execute_result"
    }
   ],
   "source": [
    "# Columna value de dinero a valor\n",
    "\n",
    "for x in range(len(df['Value'])):\n",
    "    og = df['Value'][x]\n",
    "    temp = og.removeprefix('€')\n",
    "    temp = temp.removesuffix('M')\n",
    "    temp = temp.removesuffix('K')\n",
    "    temp = float(temp)\n",
    "    # convertir los números que eran\n",
    "    if (og[len(og) - 1] == 'M'):\n",
    "        temp = temp * 1000000\n",
    "    if (og[len(og) - 1] == 'K'):\n",
    "        temp = temp * 1000\n",
    "    temp = int(temp)\n",
    "    df.loc[x, 'Value'] = temp\n",
    "\n",
    "df = df.astype({'Value':'int'})\n",
    "df['Value']"
   ]
  },
  {
   "cell_type": "code",
   "execution_count": 81,
   "id": "e58ca43d-ead1-4c35-8d1a-6843f0407291",
   "metadata": {},
   "outputs": [
    {
     "data": {
      "text/plain": [
       "0        565000\n",
       "1        565000\n",
       "2        280000\n",
       "3        510000\n",
       "4        230000\n",
       "          ...  \n",
       "17976      1000\n",
       "17977      1000\n",
       "17978      1000\n",
       "17979      1000\n",
       "17980      1000\n",
       "Name: Wage, Length: 17981, dtype: int32"
      ]
     },
     "execution_count": 81,
     "metadata": {},
     "output_type": "execute_result"
    }
   ],
   "source": [
    "# Columna Wage de dinero a valor\n",
    "\n",
    "for x in range(len(df['Wage'])):\n",
    "    og = df['Wage'][x]\n",
    "    temp = og.removeprefix('€')\n",
    "    temp = temp.removesuffix('M')\n",
    "    temp = temp.removesuffix('K')\n",
    "    temp = float(temp)\n",
    "    # convertir los números que eran\n",
    "    if (og[len(og) - 1] == 'M'):\n",
    "        temp = temp * 1000000\n",
    "    if (og[len(og) - 1] == 'K'):\n",
    "        temp = temp * 1000\n",
    "    temp = int(temp)\n",
    "    df.loc[x, 'Wage'] = temp\n",
    "\n",
    "df = df.astype({'Wage':'int'})\n",
    "df['Wage']"
   ]
  },
  {
   "cell_type": "code",
   "execution_count": 82,
   "id": "134a327d-2ccf-4ab5-a041-a1f38732a92d",
   "metadata": {},
   "outputs": [],
   "source": [
    "# De num + num a total\n",
    "masCols = ['Acceleration', 'Aggression', 'Agility', 'Balance', 'Ball control', 'Composure', 'Crossing',\n",
    "           'Curve', 'Dribbling', 'Finishing', 'Free kick accuracy', 'GK diving', 'GK handling', 'GK positioning', \n",
    "           'GK kicking', 'GK reflexes', 'Heading accuracy', 'Interceptions', 'Jumping', 'Long passing', 'Long shots',\n",
    "           'Marking', 'Penalties', 'Positioning', 'Reactions', 'Short passing', 'Shot power', 'Sliding tackle',\n",
    "           'Sprint speed', 'Stamina', 'Standing tackle', 'Sprint speed', 'Stamina', 'Strength', 'Vision',\n",
    "           'Volleys'\n",
    "          ] # Columnas que sufren de este formato\n",
    "\n",
    "for col in masCols:\n",
    "    for x in range(len(df[col])):\n",
    "        temp = df[col][x]\n",
    "        if (type(temp) != int and type(temp) != np.int32): \n",
    "            if temp.__contains__('+'):\n",
    "                temp2 = temp.split('+')\n",
    "                a = int(temp2[0])\n",
    "                b = int(temp2[1])\n",
    "                temp = a + b\n",
    "            elif temp.__contains__('-'):\n",
    "                a = int(temp2[0])\n",
    "                b = int(temp2[1])\n",
    "                temp = a - b\n",
    "            temp = int(temp)\n",
    "        df.loc[x, col] = temp\n",
    "        \n",
    "    # cambiar el tipo de dato \n",
    "    df = df.astype({col: 'int'})"
   ]
  },
  {
   "cell_type": "code",
   "execution_count": 83,
   "id": "0b2a506b-f936-4e01-8315-08b487c0bffa",
   "metadata": {},
   "outputs": [
    {
     "name": "stdout",
     "output_type": "stream",
     "text": [
      "<class 'pandas.core.frame.DataFrame'>\n",
      "RangeIndex: 17981 entries, 0 to 17980\n",
      "Data columns (total 75 columns):\n",
      " #   Column               Non-Null Count  Dtype  \n",
      "---  ------               --------------  -----  \n",
      " 0   Unnamed: 0           17981 non-null  int64  \n",
      " 1   Name                 17981 non-null  object \n",
      " 2   Age                  17981 non-null  int64  \n",
      " 3   Photo                17981 non-null  object \n",
      " 4   Nationality          17981 non-null  object \n",
      " 5   Flag                 17981 non-null  object \n",
      " 6   Overall              17981 non-null  int64  \n",
      " 7   Potential            17981 non-null  int64  \n",
      " 8   Club                 17733 non-null  object \n",
      " 9   Club Logo            17981 non-null  object \n",
      " 10  Value                17981 non-null  int32  \n",
      " 11  Wage                 17981 non-null  int32  \n",
      " 12  Special              17981 non-null  int64  \n",
      " 13  Acceleration         17981 non-null  int32  \n",
      " 14  Aggression           17981 non-null  int32  \n",
      " 15  Agility              17981 non-null  int32  \n",
      " 16  Balance              17981 non-null  int32  \n",
      " 17  Ball control         17981 non-null  int32  \n",
      " 18  Composure            17981 non-null  int32  \n",
      " 19  Crossing             17981 non-null  int32  \n",
      " 20  Curve                17981 non-null  int32  \n",
      " 21  Dribbling            17981 non-null  int32  \n",
      " 22  Finishing            17981 non-null  int32  \n",
      " 23  Free kick accuracy   17981 non-null  int32  \n",
      " 24  GK diving            17981 non-null  int32  \n",
      " 25  GK handling          17981 non-null  int32  \n",
      " 26  GK kicking           17981 non-null  int32  \n",
      " 27  GK positioning       17981 non-null  int32  \n",
      " 28  GK reflexes          17981 non-null  int32  \n",
      " 29  Heading accuracy     17981 non-null  int32  \n",
      " 30  Interceptions        17981 non-null  int32  \n",
      " 31  Jumping              17981 non-null  int32  \n",
      " 32  Long passing         17981 non-null  int32  \n",
      " 33  Long shots           17981 non-null  int32  \n",
      " 34  Marking              17981 non-null  int32  \n",
      " 35  Penalties            17981 non-null  int32  \n",
      " 36  Positioning          17981 non-null  int32  \n",
      " 37  Reactions            17981 non-null  int32  \n",
      " 38  Short passing        17981 non-null  int32  \n",
      " 39  Shot power           17981 non-null  int32  \n",
      " 40  Sliding tackle       17981 non-null  int32  \n",
      " 41  Sprint speed         17981 non-null  int32  \n",
      " 42  Stamina              17981 non-null  int32  \n",
      " 43  Standing tackle      17981 non-null  int32  \n",
      " 44  Strength             17981 non-null  int32  \n",
      " 45  Vision               17981 non-null  int32  \n",
      " 46  Volleys              17981 non-null  int32  \n",
      " 47  CAM                  15952 non-null  float64\n",
      " 48  CB                   15952 non-null  float64\n",
      " 49  CDM                  15952 non-null  float64\n",
      " 50  CF                   15952 non-null  float64\n",
      " 51  CM                   15952 non-null  float64\n",
      " 52  ID                   17981 non-null  int64  \n",
      " 53  LAM                  15952 non-null  float64\n",
      " 54  LB                   15952 non-null  float64\n",
      " 55  LCB                  15952 non-null  float64\n",
      " 56  LCM                  15952 non-null  float64\n",
      " 57  LDM                  15952 non-null  float64\n",
      " 58  LF                   15952 non-null  float64\n",
      " 59  LM                   15952 non-null  float64\n",
      " 60  LS                   15952 non-null  float64\n",
      " 61  LW                   15952 non-null  float64\n",
      " 62  LWB                  15952 non-null  float64\n",
      " 63  Preferred Positions  17981 non-null  object \n",
      " 64  RAM                  15952 non-null  float64\n",
      " 65  RB                   15952 non-null  float64\n",
      " 66  RCB                  15952 non-null  float64\n",
      " 67  RCM                  15952 non-null  float64\n",
      " 68  RDM                  15952 non-null  float64\n",
      " 69  RF                   15952 non-null  float64\n",
      " 70  RM                   15952 non-null  float64\n",
      " 71  RS                   15952 non-null  float64\n",
      " 72  RW                   15952 non-null  float64\n",
      " 73  RWB                  15952 non-null  float64\n",
      " 74  ST                   15952 non-null  float64\n",
      "dtypes: float64(26), int32(36), int64(6), object(7)\n",
      "memory usage: 7.8+ MB\n"
     ]
    }
   ],
   "source": [
    "df.info()"
   ]
  },
  {
   "cell_type": "code",
   "execution_count": 84,
   "id": "4b30deae-325c-46af-9406-f2905c597c40",
   "metadata": {},
   "outputs": [
    {
     "data": {
      "text/plain": [
       "<AxesSubplot:>"
      ]
     },
     "execution_count": 84,
     "metadata": {},
     "output_type": "execute_result"
    },
    {
     "data": {
      "image/png": "[encoded data removed]",
      "text/plain": [
       "<Figure size 432x288 with 1 Axes>"
      ]
     },
     "metadata": {},
     "output_type": "display_data"
    }
   ],
   "source": [
    "# Revisar datos nulos\n",
    "sns.heatmap(df.isnull(), yticklabels = False, cbar = False, cmap = 'viridis')"
   ]
  },
  {
   "cell_type": "code",
   "execution_count": 85,
   "id": "391c78a5-cda9-41fe-a8f7-6135f88f8448",
   "metadata": {},
   "outputs": [],
   "source": [
    "# Botar las vacías en club\n",
    "df.dropna(subset = ['Club'], inplace = True)"
   ]
  },
  {
   "cell_type": "markdown",
   "id": "bbc91fa3-db29-442b-bb15-c09a83ffbce4",
   "metadata": {},
   "source": [
    "Según los las tablas que muestra donde se consiguieron los datos, para las columnas que se encuentran al final el 11% de los datos falta. Investigando sobre la data y sobre los jugadores, se pudo notar que Todos estos datos faltantes son de jugadores que juegan la posición\n",
    "de portero, por lo que muchos de los atributos no cuentan para ellos. \n",
    "\n",
    "Por esa misma razón se decidión eliminar las columnas con datos faltantes en vez de elimninar a los jugadores para que de esa manera no se tomaran en cuenta todos los jugadores menos porteros. "
   ]
  },
  {
   "cell_type": "code",
   "execution_count": 86,
   "id": "2b64c257-57bc-4893-bd4b-5286b6acd48c",
   "metadata": {},
   "outputs": [],
   "source": [
    "df.dropna(how='any', axis=1, inplace = True)"
   ]
  },
  {
   "cell_type": "code",
   "execution_count": 87,
   "id": "e53732ba-6f42-49bd-b7a8-2b39649ee0b3",
   "metadata": {},
   "outputs": [
    {
     "data": {
      "text/plain": [
       "<AxesSubplot:>"
      ]
     },
     "execution_count": 87,
     "metadata": {},
     "output_type": "execute_result"
    },
    {
     "data": {
      "image/png": "[encoded data removed]",
      "text/plain": [
       "<Figure size 432x288 with 1 Axes>"
      ]
     },
     "metadata": {},
     "output_type": "display_data"
    }
   ],
   "source": [
    "# Revisar si quedaron datos nulos\n",
    "sns.heatmap(df.isnull(), yticklabels = False, cbar = False, cmap = 'viridis')"
   ]
  },
  {
   "cell_type": "code",
   "execution_count": 88,
   "id": "b2931f9e-9c42-4db6-ba44-8741f2299fb8",
   "metadata": {},
   "outputs": [],
   "source": [
    "# botamos otra columnas como el nombre, foto y bandera que no ayudan en el modelo\n",
    "df = df.drop('Unnamed: 0', axis = 1)\n",
    "df = df.drop('Name', axis = 1)\n",
    "df = df.drop('Photo', axis = 1)\n",
    "df = df.drop('Flag', axis = 1)\n",
    "df = df.drop('Club Logo', axis = 1)\n",
    "df = df.drop('ID', axis = 1)"
   ]
  },
  {
   "cell_type": "code",
   "execution_count": 89,
   "id": "6fc70b34-cdeb-41de-9aab-33ab9f1e35a4",
   "metadata": {},
   "outputs": [
    {
     "name": "stdout",
     "output_type": "stream",
     "text": [
      "<class 'pandas.core.frame.DataFrame'>\n",
      "Int64Index: 17733 entries, 0 to 17980\n",
      "Data columns (total 43 columns):\n",
      " #   Column               Non-Null Count  Dtype \n",
      "---  ------               --------------  ----- \n",
      " 0   Age                  17733 non-null  int64 \n",
      " 1   Nationality          17733 non-null  object\n",
      " 2   Overall              17733 non-null  int64 \n",
      " 3   Potential            17733 non-null  int64 \n",
      " 4   Club                 17733 non-null  object\n",
      " 5   Value                17733 non-null  int32 \n",
      " 6   Wage                 17733 non-null  int32 \n",
      " 7   Special              17733 non-null  int64 \n",
      " 8   Acceleration         17733 non-null  int32 \n",
      " 9   Aggression           17733 non-null  int32 \n",
      " 10  Agility              17733 non-null  int32 \n",
      " 11  Balance              17733 non-null  int32 \n",
      " 12  Ball control         17733 non-null  int32 \n",
      " 13  Composure            17733 non-null  int32 \n",
      " 14  Crossing             17733 non-null  int32 \n",
      " 15  Curve                17733 non-null  int32 \n",
      " 16  Dribbling            17733 non-null  int32 \n",
      " 17  Finishing            17733 non-null  int32 \n",
      " 18  Free kick accuracy   17733 non-null  int32 \n",
      " 19  GK diving            17733 non-null  int32 \n",
      " 20  GK handling          17733 non-null  int32 \n",
      " 21  GK kicking           17733 non-null  int32 \n",
      " 22  GK positioning       17733 non-null  int32 \n",
      " 23  GK reflexes          17733 non-null  int32 \n",
      " 24  Heading accuracy     17733 non-null  int32 \n",
      " 25  Interceptions        17733 non-null  int32 \n",
      " 26  Jumping              17733 non-null  int32 \n",
      " 27  Long passing         17733 non-null  int32 \n",
      " 28  Long shots           17733 non-null  int32 \n",
      " 29  Marking              17733 non-null  int32 \n",
      " 30  Penalties            17733 non-null  int32 \n",
      " 31  Positioning          17733 non-null  int32 \n",
      " 32  Reactions            17733 non-null  int32 \n",
      " 33  Short passing        17733 non-null  int32 \n",
      " 34  Shot power           17733 non-null  int32 \n",
      " 35  Sliding tackle       17733 non-null  int32 \n",
      " 36  Sprint speed         17733 non-null  int32 \n",
      " 37  Stamina              17733 non-null  int32 \n",
      " 38  Standing tackle      17733 non-null  int32 \n",
      " 39  Strength             17733 non-null  int32 \n",
      " 40  Vision               17733 non-null  int32 \n",
      " 41  Volleys              17733 non-null  int32 \n",
      " 42  Preferred Positions  17733 non-null  object\n",
      "dtypes: int32(36), int64(4), object(3)\n",
      "memory usage: 3.5+ MB\n"
     ]
    }
   ],
   "source": [
    "df.info()"
   ]
  },
  {
   "cell_type": "markdown",
   "id": "ba0811da-e319-443c-8d49-1a78b5603eb3",
   "metadata": {},
   "source": [
    "### Normalización"
   ]
  },
  {
   "cell_type": "code",
   "execution_count": 90,
   "id": "188f3e42-d041-4c8a-b05d-5526d424b68c",
   "metadata": {},
   "outputs": [],
   "source": [
    "dummies_n = pd.get_dummies(df['Nationality'])\n",
    "dummies_c = pd.get_dummies(df['Club'])\n",
    "dummies_pp = pd.get_dummies(df['Preferred Positions'])"
   ]
  },
  {
   "cell_type": "code",
   "execution_count": 91,
   "id": "9502c361-0c9f-4899-9f26-80a4963456a9",
   "metadata": {},
   "outputs": [],
   "source": [
    "df = pd.concat([df, dummies_n, dummies_c, dummies_pp], axis = 1)"
   ]
  },
  {
   "cell_type": "code",
   "execution_count": 92,
   "id": "94a690cf-c95b-4ce8-8bec-63aaf5bc8f18",
   "metadata": {},
   "outputs": [],
   "source": [
    "df = df.drop(['Nationality', 'Club', 'Preferred Positions'], axis = 1)"
   ]
  },
  {
   "cell_type": "code",
   "execution_count": 93,
   "id": "f7a6b6c7-4289-4d40-a154-138604be4b4f",
   "metadata": {},
   "outputs": [
    {
     "data": {
      "text/html": [
       "<div>\n",
       "<style scoped>\n",
       "    .dataframe tbody tr th:only-of-type {\n",
       "        vertical-align: middle;\n",
       "    }\n",
       "\n",
       "    .dataframe tbody tr th {\n",
       "        vertical-align: top;\n",
       "    }\n",
       "\n",
       "    .dataframe thead th {\n",
       "        text-align: right;\n",
       "    }\n",
       "</style>\n",
       "<table border=\"1\" class=\"dataframe\">\n",
       "  <thead>\n",
       "    <tr style=\"text-align: right;\">\n",
       "      <th></th>\n",
       "      <th>Age</th>\n",
       "      <th>Overall</th>\n",
       "      <th>Potential</th>\n",
       "      <th>Value</th>\n",
       "      <th>Wage</th>\n",
       "      <th>Special</th>\n",
       "      <th>Acceleration</th>\n",
       "      <th>Aggression</th>\n",
       "      <th>Agility</th>\n",
       "      <th>Balance</th>\n",
       "      <th>...</th>\n",
       "      <th>ST RM CF</th>\n",
       "      <th>ST RM LM</th>\n",
       "      <th>ST RM LM CAM</th>\n",
       "      <th>ST RM LW</th>\n",
       "      <th>ST RM RB</th>\n",
       "      <th>ST RM RW</th>\n",
       "      <th>ST RW</th>\n",
       "      <th>ST RW CAM</th>\n",
       "      <th>ST RW LW</th>\n",
       "      <th>ST RW RM</th>\n",
       "    </tr>\n",
       "  </thead>\n",
       "  <tbody>\n",
       "    <tr>\n",
       "      <th>0</th>\n",
       "      <td>32</td>\n",
       "      <td>94</td>\n",
       "      <td>94</td>\n",
       "      <td>95500000</td>\n",
       "      <td>565000</td>\n",
       "      <td>2228</td>\n",
       "      <td>89</td>\n",
       "      <td>63</td>\n",
       "      <td>89</td>\n",
       "      <td>63</td>\n",
       "      <td>...</td>\n",
       "      <td>0</td>\n",
       "      <td>0</td>\n",
       "      <td>0</td>\n",
       "      <td>0</td>\n",
       "      <td>0</td>\n",
       "      <td>0</td>\n",
       "      <td>0</td>\n",
       "      <td>0</td>\n",
       "      <td>0</td>\n",
       "      <td>0</td>\n",
       "    </tr>\n",
       "    <tr>\n",
       "      <th>1</th>\n",
       "      <td>30</td>\n",
       "      <td>93</td>\n",
       "      <td>93</td>\n",
       "      <td>105000000</td>\n",
       "      <td>565000</td>\n",
       "      <td>2154</td>\n",
       "      <td>92</td>\n",
       "      <td>48</td>\n",
       "      <td>90</td>\n",
       "      <td>95</td>\n",
       "      <td>...</td>\n",
       "      <td>0</td>\n",
       "      <td>0</td>\n",
       "      <td>0</td>\n",
       "      <td>0</td>\n",
       "      <td>0</td>\n",
       "      <td>0</td>\n",
       "      <td>0</td>\n",
       "      <td>0</td>\n",
       "      <td>0</td>\n",
       "      <td>0</td>\n",
       "    </tr>\n",
       "    <tr>\n",
       "      <th>2</th>\n",
       "      <td>25</td>\n",
       "      <td>92</td>\n",
       "      <td>94</td>\n",
       "      <td>123000000</td>\n",
       "      <td>280000</td>\n",
       "      <td>2100</td>\n",
       "      <td>94</td>\n",
       "      <td>56</td>\n",
       "      <td>96</td>\n",
       "      <td>82</td>\n",
       "      <td>...</td>\n",
       "      <td>0</td>\n",
       "      <td>0</td>\n",
       "      <td>0</td>\n",
       "      <td>0</td>\n",
       "      <td>0</td>\n",
       "      <td>0</td>\n",
       "      <td>0</td>\n",
       "      <td>0</td>\n",
       "      <td>0</td>\n",
       "      <td>0</td>\n",
       "    </tr>\n",
       "    <tr>\n",
       "      <th>3</th>\n",
       "      <td>30</td>\n",
       "      <td>92</td>\n",
       "      <td>92</td>\n",
       "      <td>97000000</td>\n",
       "      <td>510000</td>\n",
       "      <td>2291</td>\n",
       "      <td>88</td>\n",
       "      <td>78</td>\n",
       "      <td>86</td>\n",
       "      <td>60</td>\n",
       "      <td>...</td>\n",
       "      <td>0</td>\n",
       "      <td>0</td>\n",
       "      <td>0</td>\n",
       "      <td>0</td>\n",
       "      <td>0</td>\n",
       "      <td>0</td>\n",
       "      <td>0</td>\n",
       "      <td>0</td>\n",
       "      <td>0</td>\n",
       "      <td>0</td>\n",
       "    </tr>\n",
       "    <tr>\n",
       "      <th>4</th>\n",
       "      <td>31</td>\n",
       "      <td>92</td>\n",
       "      <td>92</td>\n",
       "      <td>61000000</td>\n",
       "      <td>230000</td>\n",
       "      <td>1493</td>\n",
       "      <td>58</td>\n",
       "      <td>29</td>\n",
       "      <td>52</td>\n",
       "      <td>35</td>\n",
       "      <td>...</td>\n",
       "      <td>0</td>\n",
       "      <td>0</td>\n",
       "      <td>0</td>\n",
       "      <td>0</td>\n",
       "      <td>0</td>\n",
       "      <td>0</td>\n",
       "      <td>0</td>\n",
       "      <td>0</td>\n",
       "      <td>0</td>\n",
       "      <td>0</td>\n",
       "    </tr>\n",
       "  </tbody>\n",
       "</table>\n",
       "<p>5 rows × 1644 columns</p>\n",
       "</div>"
      ],
      "text/plain": [
       "   Age  Overall  Potential      Value    Wage  Special  Acceleration  \\\n",
       "0   32       94         94   95500000  565000     2228            89   \n",
       "1   30       93         93  105000000  565000     2154            92   \n",
       "2   25       92         94  123000000  280000     2100            94   \n",
       "3   30       92         92   97000000  510000     2291            88   \n",
       "4   31       92         92   61000000  230000     1493            58   \n",
       "\n",
       "   Aggression  Agility  Balance  ...  ST RM CF   ST RM LM   ST RM LM CAM   \\\n",
       "0          63       89       63  ...          0          0              0   \n",
       "1          48       90       95  ...          0          0              0   \n",
       "2          56       96       82  ...          0          0              0   \n",
       "3          78       86       60  ...          0          0              0   \n",
       "4          29       52       35  ...          0          0              0   \n",
       "\n",
       "   ST RM LW   ST RM RB   ST RM RW   ST RW   ST RW CAM   ST RW LW   ST RW RM   \n",
       "0          0          0          0       0           0          0          0  \n",
       "1          0          0          0       0           0          0          0  \n",
       "2          0          0          0       0           0          0          0  \n",
       "3          0          0          0       0           0          0          0  \n",
       "4          0          0          0       0           0          0          0  \n",
       "\n",
       "[5 rows x 1644 columns]"
      ]
     },
     "execution_count": 93,
     "metadata": {},
     "output_type": "execute_result"
    }
   ],
   "source": [
    "df.head()"
   ]
  },
  {
   "cell_type": "code",
   "execution_count": 94,
   "id": "96509574-cc08-4a6c-9e98-2875dd1f0490",
   "metadata": {},
   "outputs": [
    {
     "name": "stdout",
     "output_type": "stream",
     "text": [
      "<class 'pandas.core.frame.DataFrame'>\n",
      "Int64Index: 17733 entries, 0 to 17980\n",
      "Columns: 1644 entries, Age to ST RW RM \n",
      "dtypes: int32(36), int64(4), uint8(1604)\n",
      "memory usage: 30.2 MB\n"
     ]
    }
   ],
   "source": [
    "df.info()"
   ]
  },
  {
   "cell_type": "markdown",
   "id": "09d976b9-3e82-4d47-9d4e-6b43952a52d9",
   "metadata": {},
   "source": [
    "## Modelo\n",
    "\n",
    "Basado en: https://anderfernandez.com/en/blog/code-decision-tree-python-from-scratch/"
   ]
  },
  {
   "cell_type": "markdown",
   "id": "cc5dfb2e-5ae7-4875-bf97-ec3af4b95338",
   "metadata": {},
   "source": [
    "### Generación de dataframe con valores"
   ]
  },
  {
   "cell_type": "code",
   "execution_count": 95,
   "id": "60730a9a-7c8f-44ce-9e8a-1c03b73450b1",
   "metadata": {},
   "outputs": [
    {
     "data": {
      "text/plain": [
       "array([[       32,        94,  95500000, ...,         0,         0,\n",
       "                0],\n",
       "       [       30,        93, 105000000, ...,         0,         0,\n",
       "                0],\n",
       "       [       25,        92, 123000000, ...,         0,         0,\n",
       "                0],\n",
       "       ...,\n",
       "       [       17,        46,     60000, ...,         0,         0,\n",
       "                0],\n",
       "       [       18,        46,     60000, ...,         0,         0,\n",
       "                0],\n",
       "       [       18,        46,     50000, ...,         0,         0,\n",
       "                0]], dtype=int64)"
      ]
     },
     "execution_count": 95,
     "metadata": {},
     "output_type": "execute_result"
    }
   ],
   "source": [
    "df_X = df.drop(['Potential'], axis = 1) # Potential es nuestro y\n",
    "X = df_X.iloc[:, :].values\n",
    "X"
   ]
  },
  {
   "cell_type": "code",
   "execution_count": 96,
   "id": "75f72231-1ca9-423d-82a5-620c332e829a",
   "metadata": {},
   "outputs": [
    {
     "data": {
      "text/plain": [
       "array([63, 48, 56, ..., 26, 46, 52])"
      ]
     },
     "execution_count": 96,
     "metadata": {},
     "output_type": "execute_result"
    }
   ],
   "source": [
    "# y = df.iloc[:, 7].values\n",
    "y = df.iloc[:, 7].values\n",
    "y"
   ]
  },
  {
   "cell_type": "markdown",
   "id": "8304d61f-f080-491a-a57f-01239312ae64",
   "metadata": {},
   "source": [
    "### Separación del modelo"
   ]
  },
  {
   "cell_type": "code",
   "execution_count": 97,
   "id": "abd251ad-b012-4065-8d73-167a85e163b1",
   "metadata": {},
   "outputs": [],
   "source": [
    "from sklearn.model_selection import train_test_split\n",
    "X_entreno, X_prueba, y_entreno, y_prueba = train_test_split(X, y, test_size = 0.2, random_state = 100)\n"
   ]
  },
  {
   "cell_type": "code",
   "execution_count": 98,
   "id": "c056bc15-3063-4e8a-a877-587af61c6c6c",
   "metadata": {},
   "outputs": [
    {
     "data": {
      "text/plain": [
       "array([[     19,      55,  160000, ...,       0,       0,       0],\n",
       "       [     25,      68, 1200000, ...,       0,       0,       0],\n",
       "       [     23,      60,  230000, ...,       0,       0,       0],\n",
       "       ...,\n",
       "       [     25,      63,  400000, ...,       0,       0,       0],\n",
       "       [     24,      60,  280000, ...,       0,       0,       0],\n",
       "       [     28,      70, 1800000, ...,       0,       0,       0]],\n",
       "      dtype=int64)"
      ]
     },
     "execution_count": 98,
     "metadata": {},
     "output_type": "execute_result"
    }
   ],
   "source": [
    "X_entreno "
   ]
  },
  {
   "cell_type": "code",
   "execution_count": 99,
   "id": "232b9f91-7504-4308-a39a-cc5d881d6ac9",
   "metadata": {},
   "outputs": [
    {
     "data": {
      "text/plain": [
       "array([26, 31, 20, ..., 22, 41, 53])"
      ]
     },
     "execution_count": 99,
     "metadata": {},
     "output_type": "execute_result"
    }
   ],
   "source": [
    "y_entreno"
   ]
  },
  {
   "cell_type": "markdown",
   "id": "e34eeb1b-bb23-43c2-b022-26e14dd927c0",
   "metadata": {},
   "source": [
    "## Implementación sin librerías"
   ]
  },
  {
   "cell_type": "code",
   "execution_count": 100,
   "id": "19512f3e",
   "metadata": {},
   "outputs": [
    {
     "data": {
      "text/plain": [
       "Index(['Age', 'Overall', 'Potential', 'Value', 'Wage', 'Special',\n",
       "       'Acceleration', 'Aggression', 'Agility', 'Balance',\n",
       "       ...\n",
       "       'ST RM CF ', 'ST RM LM ', 'ST RM LM CAM ', 'ST RM LW ', 'ST RM RB ',\n",
       "       'ST RM RW ', 'ST RW ', 'ST RW CAM ', 'ST RW LW ', 'ST RW RM '],\n",
       "      dtype='object', length=1644)"
      ]
     },
     "execution_count": 100,
     "metadata": {},
     "output_type": "execute_result"
    }
   ],
   "source": [
    "df.columns"
   ]
  },
  {
   "cell_type": "code",
   "execution_count": 101,
   "id": "57a58969-3522-4e85-a401-e732b61d14ed",
   "metadata": {},
   "outputs": [
    {
     "data": {
      "text/plain": [
       "0.9788785790964503"
      ]
     },
     "execution_count": 101,
     "metadata": {},
     "output_type": "execute_result"
    }
   ],
   "source": [
    "import pandas as pd\n",
    "import numpy as np\n",
    "\n",
    "def gini_impurity(y):\n",
    "    '''\n",
    "    Given a Pandas Series, it calculates the Gini Impurity. \n",
    "    y: variable with which calculate Gini Impurity.\n",
    "    '''\n",
    "    if isinstance(y, pd.Series):\n",
    "        p = y.value_counts()/y.shape[0]\n",
    "        gini = 1-np.sum(p**2)\n",
    "        return(gini)\n",
    "\n",
    "    else:\n",
    "        raise('Object must be a Pandas Series.')\n",
    "\n",
    "gini_impurity(df.Balance) \n",
    "# df.columns"
   ]
  },
  {
   "cell_type": "code",
   "execution_count": 102,
   "id": "8049c7e2-8ffd-4280-a3b1-733142f3e647",
   "metadata": {},
   "outputs": [
    {
     "data": {
      "text/plain": [
       "5.797150609804382"
      ]
     },
     "execution_count": 102,
     "metadata": {},
     "output_type": "execute_result"
    }
   ],
   "source": [
    "def entropy(y):\n",
    "    '''\n",
    "    Given a Pandas Series, it calculates the entropy. \n",
    "    y: variable with which calculate entropy.\n",
    "    '''\n",
    "    if isinstance(y, pd.Series):\n",
    "        a = y.value_counts()/y.shape[0]\n",
    "        entropy = np.sum(-a*np.log2(a+1e-9))\n",
    "        return(entropy)\n",
    "\n",
    "    else:\n",
    "        raise('Object must be a Pandas Series.')\n",
    "\n",
    "entropy(df.Balance)"
   ]
  },
  {
   "cell_type": "code",
   "execution_count": 103,
   "id": "5e058d90-5ab2-412c-8f73-ad8af972c9ea",
   "metadata": {},
   "outputs": [
    {
     "data": {
      "text/plain": [
       "5.112155109071296"
      ]
     },
     "execution_count": 103,
     "metadata": {},
     "output_type": "execute_result"
    }
   ],
   "source": [
    "def variance(y):\n",
    "    '''\n",
    "    Function to help calculate the variance avoiding nan.\n",
    "    y: variable to calculate variance to. It should be a Pandas Series.\n",
    "    '''\n",
    "    if(len(y) == 1):\n",
    "        return 0\n",
    "    else:\n",
    "        return y.var()\n",
    "\n",
    "def information_gain(y, mask, func=entropy):\n",
    "    '''\n",
    "    It returns the Information Gain of a variable given a loss function.\n",
    "    y: target variable.\n",
    "    mask: split choice.\n",
    "    func: function to be used to calculate Information Gain in case os classification.\n",
    "    '''\n",
    "    \n",
    "    a = sum(mask)\n",
    "    b = mask.shape[0] - a\n",
    "    \n",
    "    if(a == 0 or b ==0): \n",
    "        ig = 0\n",
    "    \n",
    "    else:\n",
    "        if y.dtypes != 'O':\n",
    "            ig = variance(y) - (a/(a+b)* variance(y[mask])) - (b/(a+b)*variance(y[-mask]))\n",
    "        else:\n",
    "            ig = func(y)-a/(a+b)*func(y[mask])-b/(a+b)*func(y[-mask])\n",
    "    \n",
    "    return ig\n",
    "\n",
    "information_gain(df['Potential'], df['Overall'] >= 60)"
   ]
  },
  {
   "cell_type": "code",
   "execution_count": 104,
   "id": "a3fb7cdd-c4c3-45b1-b9f0-9a7cab988fbe",
   "metadata": {},
   "outputs": [
    {
     "name": "stdout",
     "output_type": "stream",
     "text": [
      "El mejor split para Nationality es cuando la variable es inferior a  74 \n",
      "El Information Gain para ese corte es: 0.6163617220036297\n"
     ]
    }
   ],
   "source": [
    "import itertools\n",
    "\n",
    "def categorical_options(a):\n",
    "    '''\n",
    "    Creates all possible combinations from a Pandas Series.\n",
    "    a: Pandas Series from where to get all possible combinations. \n",
    "    '''\n",
    "    a = a.unique()\n",
    "\n",
    "    opciones = []\n",
    "    for L in range(0, len(a)+1):\n",
    "        for subset in itertools.combinations(a, L):\n",
    "            subset = list(subset)\n",
    "            opciones.append(subset)\n",
    "\n",
    "    return opciones[1:-1]\n",
    "\n",
    "def max_information_gain_split(x, y, func=entropy):\n",
    "    '''\n",
    "    Given a predictor & target variable, returns the best split, the error and the type of variable based on a selected cost function.\n",
    "    x: predictor variable as Pandas Series.\n",
    "    y: target variable as Pandas Series.\n",
    "    func: function to be used to calculate the best split.\n",
    "    '''\n",
    "\n",
    "    split_value = []\n",
    "    ig = [] \n",
    "\n",
    "    numeric_variable = True if x.dtypes != 'O' else False\n",
    "\n",
    "    # Create options according to variable type\n",
    "    if numeric_variable:\n",
    "        options = x.sort_values().unique()[1:]\n",
    "    else: \n",
    "        options = categorical_options(x)\n",
    "\n",
    "    # Calculate ig for all values\n",
    "    for val in options:\n",
    "        mask =   x < val if numeric_variable else x.isin(val)\n",
    "        val_ig = information_gain(y, mask, func)\n",
    "        # Append results\n",
    "        ig.append(val_ig)\n",
    "        split_value.append(val)\n",
    "\n",
    "    # Check if there are more than 1 results if not, return False\n",
    "    if len(ig) == 0:\n",
    "        return(None,None,None, False)\n",
    "\n",
    "    else:\n",
    "    # Get results with highest IG\n",
    "        best_ig = max(ig)\n",
    "        best_ig_index = ig.index(best_ig)\n",
    "        best_split = split_value[best_ig_index]\n",
    "        return(best_ig,best_split,numeric_variable, True)\n",
    "\n",
    "\n",
    "weight_ig, weight_slpit, _, _ = max_information_gain_split(df['Balance'], df['Potential'],)  \n",
    "\n",
    "\n",
    "print(\n",
    "\"El mejor split para Nationality es cuando la variable es inferior a \",\n",
    "weight_slpit,\"\\nEl Information Gain para ese corte es:\", weight_ig\n",
    ")"
   ]
  },
  {
   "cell_type": "code",
   "execution_count": 105,
   "id": "12d24ffd",
   "metadata": {},
   "outputs": [
    {
     "data": {
      "text/html": [
       "<div>\n",
       "<style scoped>\n",
       "    .dataframe tbody tr th:only-of-type {\n",
       "        vertical-align: middle;\n",
       "    }\n",
       "\n",
       "    .dataframe tbody tr th {\n",
       "        vertical-align: top;\n",
       "    }\n",
       "\n",
       "    .dataframe thead th {\n",
       "        text-align: right;\n",
       "    }\n",
       "</style>\n",
       "<table border=\"1\" class=\"dataframe\">\n",
       "  <thead>\n",
       "    <tr style=\"text-align: right;\">\n",
       "      <th></th>\n",
       "      <th>Age</th>\n",
       "      <th>Overall</th>\n",
       "      <th>Value</th>\n",
       "      <th>Wage</th>\n",
       "      <th>Special</th>\n",
       "      <th>Acceleration</th>\n",
       "      <th>Aggression</th>\n",
       "      <th>Agility</th>\n",
       "      <th>Balance</th>\n",
       "      <th>Ball control</th>\n",
       "      <th>...</th>\n",
       "      <th>ST RM CF</th>\n",
       "      <th>ST RM LM</th>\n",
       "      <th>ST RM LM CAM</th>\n",
       "      <th>ST RM LW</th>\n",
       "      <th>ST RM RB</th>\n",
       "      <th>ST RM RW</th>\n",
       "      <th>ST RW</th>\n",
       "      <th>ST RW CAM</th>\n",
       "      <th>ST RW LW</th>\n",
       "      <th>ST RW RM</th>\n",
       "    </tr>\n",
       "  </thead>\n",
       "  <tbody>\n",
       "    <tr>\n",
       "      <th>0</th>\n",
       "      <td>1.821318</td>\n",
       "      <td>12.258315</td>\n",
       "      <td>15.769018</td>\n",
       "      <td>10.850447</td>\n",
       "      <td>5.606915</td>\n",
       "      <td>1.725097</td>\n",
       "      <td>1.307642</td>\n",
       "      <td>1.806885</td>\n",
       "      <td>0.616362</td>\n",
       "      <td>7.892556</td>\n",
       "      <td>...</td>\n",
       "      <td>0.009223</td>\n",
       "      <td>0.000943</td>\n",
       "      <td>-0.000446</td>\n",
       "      <td>0.000035</td>\n",
       "      <td>0.000002</td>\n",
       "      <td>-0.003035</td>\n",
       "      <td>-0.000724</td>\n",
       "      <td>-0.001325</td>\n",
       "      <td>0.002943</td>\n",
       "      <td>0.000125</td>\n",
       "    </tr>\n",
       "    <tr>\n",
       "      <th>1</th>\n",
       "      <td>25</td>\n",
       "      <td>70</td>\n",
       "      <td>925000</td>\n",
       "      <td>10000</td>\n",
       "      <td>1835</td>\n",
       "      <td>75</td>\n",
       "      <td>67</td>\n",
       "      <td>74</td>\n",
       "      <td>74</td>\n",
       "      <td>71</td>\n",
       "      <td>...</td>\n",
       "      <td>1</td>\n",
       "      <td>1</td>\n",
       "      <td>1</td>\n",
       "      <td>1</td>\n",
       "      <td>1</td>\n",
       "      <td>1</td>\n",
       "      <td>1</td>\n",
       "      <td>1</td>\n",
       "      <td>1</td>\n",
       "      <td>1</td>\n",
       "    </tr>\n",
       "    <tr>\n",
       "      <th>2</th>\n",
       "      <td>True</td>\n",
       "      <td>True</td>\n",
       "      <td>True</td>\n",
       "      <td>True</td>\n",
       "      <td>True</td>\n",
       "      <td>True</td>\n",
       "      <td>True</td>\n",
       "      <td>True</td>\n",
       "      <td>True</td>\n",
       "      <td>True</td>\n",
       "      <td>...</td>\n",
       "      <td>True</td>\n",
       "      <td>True</td>\n",
       "      <td>True</td>\n",
       "      <td>True</td>\n",
       "      <td>True</td>\n",
       "      <td>True</td>\n",
       "      <td>True</td>\n",
       "      <td>True</td>\n",
       "      <td>True</td>\n",
       "      <td>True</td>\n",
       "    </tr>\n",
       "    <tr>\n",
       "      <th>3</th>\n",
       "      <td>True</td>\n",
       "      <td>True</td>\n",
       "      <td>True</td>\n",
       "      <td>True</td>\n",
       "      <td>True</td>\n",
       "      <td>True</td>\n",
       "      <td>True</td>\n",
       "      <td>True</td>\n",
       "      <td>True</td>\n",
       "      <td>True</td>\n",
       "      <td>...</td>\n",
       "      <td>True</td>\n",
       "      <td>True</td>\n",
       "      <td>True</td>\n",
       "      <td>True</td>\n",
       "      <td>True</td>\n",
       "      <td>True</td>\n",
       "      <td>True</td>\n",
       "      <td>True</td>\n",
       "      <td>True</td>\n",
       "      <td>True</td>\n",
       "    </tr>\n",
       "  </tbody>\n",
       "</table>\n",
       "<p>4 rows × 1643 columns</p>\n",
       "</div>"
      ],
      "text/plain": [
       "        Age    Overall      Value       Wage   Special Acceleration  \\\n",
       "0  1.821318  12.258315  15.769018  10.850447  5.606915     1.725097   \n",
       "1        25         70     925000      10000      1835           75   \n",
       "2      True       True       True       True      True         True   \n",
       "3      True       True       True       True      True         True   \n",
       "\n",
       "  Aggression   Agility   Balance Ball control  ... ST RM CF  ST RM LM   \\\n",
       "0   1.307642  1.806885  0.616362     7.892556  ...  0.009223  0.000943   \n",
       "1         67        74        74           71  ...         1         1   \n",
       "2       True      True      True         True  ...      True      True   \n",
       "3       True      True      True         True  ...      True      True   \n",
       "\n",
       "  ST RM LM CAM  ST RM LW  ST RM RB  ST RM RW     ST RW  ST RW CAM  ST RW LW   \\\n",
       "0     -0.000446  0.000035  0.000002 -0.003035 -0.000724  -0.001325  0.002943   \n",
       "1             1         1         1         1         1          1         1   \n",
       "2          True      True      True      True      True       True      True   \n",
       "3          True      True      True      True      True       True      True   \n",
       "\n",
       "  ST RW RM   \n",
       "0  0.000125  \n",
       "1         1  \n",
       "2      True  \n",
       "3      True  \n",
       "\n",
       "[4 rows x 1643 columns]"
      ]
     },
     "execution_count": 105,
     "metadata": {},
     "output_type": "execute_result"
    }
   ],
   "source": [
    "df.drop('Potential', axis= 1).apply(max_information_gain_split, y = df['Potential'])"
   ]
  },
  {
   "cell_type": "code",
   "execution_count": 106,
   "id": "9a717025",
   "metadata": {},
   "outputs": [],
   "source": [
    "def get_best_split(y, data):\n",
    "    '''\n",
    "    Given a data, select the best split and return the variable, the value, the variable type and the information gain.\n",
    "    y: name of the target variable\n",
    "    data: dataframe where to find the best split.\n",
    "    '''\n",
    "    masks = data.drop(y, axis= 1).apply(max_information_gain_split, y = data[y])\n",
    "    if sum(masks.loc[3,:]) == 0:\n",
    "        return(None, None, None, None)\n",
    "\n",
    "    else:\n",
    "    # Get only masks that can be splitted\n",
    "        masks = masks.loc[:,masks.loc[3,:]]\n",
    "\n",
    "        # Get the results for split with highest IG\n",
    "        split_variable = masks.iloc[0].astype(np.float32).idxmax()\n",
    "        #split_valid = masks[split_variable][]\n",
    "        split_value = masks[split_variable][1] \n",
    "        split_ig = masks[split_variable][0]\n",
    "        split_numeric = masks[split_variable][2]\n",
    "\n",
    "        return(split_variable, split_value, split_ig, split_numeric)\n",
    "\n",
    "\n",
    "def make_split(variable, value, data, is_numeric):\n",
    "    '''\n",
    "    Given a data and a split conditions, do the split.\n",
    "    variable: variable with which make the split.\n",
    "    value: value of the variable to make the split.\n",
    "    data: data to be splitted.\n",
    "    is_numeric: boolean considering if the variable to be splitted is numeric or not.\n",
    "    '''\n",
    "    if is_numeric:\n",
    "        data_1 = data[data[variable] < value]\n",
    "        data_2 = data[(data[variable] < value) == False]\n",
    "\n",
    "    else:\n",
    "        data_1 = data[data[variable].isin(value)]\n",
    "        data_2 = data[(data[variable].isin(value)) == False]\n",
    "\n",
    "    return(data_1,data_2)\n",
    "\n",
    "def make_prediction(data, target_factor):\n",
    "    '''\n",
    "    Given the target variable, make a prediction.\n",
    "    data: pandas series for target variable\n",
    "    target_factor: boolean considering if the variable is a factor or not\n",
    "    '''\n",
    "\n",
    "    # Make predictions\n",
    "    if target_factor:\n",
    "        pred = data.value_counts().idxmax()\n",
    "    else:\n",
    "        pred = data.mean()\n",
    "\n",
    "    return pred"
   ]
  },
  {
   "cell_type": "code",
   "execution_count": 107,
   "id": "c13503cf",
   "metadata": {},
   "outputs": [
    {
     "data": {
      "text/plain": [
       "{'Value <=  925000': [{'Age <=  24': [{'Value <=  180000': [{'Age <=  20': [{'Value <=  110000': [64,\n",
       "          68]},\n",
       "        {'Value <=  110000': [61, 67]}]},\n",
       "      {'Age <=  20': [{'Value <=  500000': [72, 75]},\n",
       "        {'Value <=  450000': [69, 72]}]}]},\n",
       "    {'Overall <=  64': [{'Value <=  140000': [{'Overall <=  55': [54, 59]},\n",
       "        {'Age <=  26': [65, 63]}]},\n",
       "      {'Value <=  600000': [{'Overall <=  68': [65, 68]},\n",
       "        {'Age <=  25': [70, 68]}]}]}]},\n",
       "  {'Value <=  7000000': [{'Age <=  24': [{'Value <=  1600000': [{'Age <=  21': [78,\n",
       "          75]},\n",
       "        {'Age <=  21': [82, 79]}]},\n",
       "      {'Value <=  2600000': [{'Age <=  25': [74, 71]},\n",
       "        {'Value <=  4099999': [73, 74]}]}]},\n",
       "    {'Value <=  11500000': [{'Age <=  24': [{'Age <=  22': [83, 82]},\n",
       "        {'Value <=  8500000': [76, 78]}]},\n",
       "      {'Value <=  28500000': [{'Age <=  24': [85, 82]},\n",
       "        {'Value <=  51500000': [88, 90]}]}]}]}]}"
      ]
     },
     "execution_count": 107,
     "metadata": {},
     "output_type": "execute_result"
    }
   ],
   "source": [
    "def train_tree(data,y, target_factor, max_depth = None,min_samples_split = None, min_information_gain = 1e-20, counter=0, max_categories = 20):\n",
    "    '''\n",
    "    Trains a Decission Tree\n",
    "    data: Data to be used to train the Decission Tree\n",
    "    y: target variable column name\n",
    "    target_factor: boolean to consider if target variable is factor or numeric.\n",
    "    max_depth: maximum depth to stop splitting.\n",
    "    min_samples_split: minimum number of observations to make a split.\n",
    "    min_information_gain: minimum ig gain to consider a split to be valid.\n",
    "    max_categories: maximum number of different values accepted for categorical values. High number of values will slow down learning process. R\n",
    "    '''\n",
    "\n",
    "    # Check that max_categories is fulfilled\n",
    "    if counter==0:\n",
    "        types = data.dtypes\n",
    "        check_columns = types[types == \"object\"].index\n",
    "        for column in check_columns:\n",
    "            var_length = len(data[column].value_counts()) \n",
    "            if var_length > max_categories:\n",
    "                raise ValueError('The variable ' + column + ' has '+ str(var_length) + ' unique values, which is more than the accepted ones: ' +  str(max_categories))\n",
    "\n",
    "    # Check for depth conditions\n",
    "    if max_depth == None:\n",
    "        depth_cond = True\n",
    "\n",
    "    else:\n",
    "        if counter < max_depth:\n",
    "            depth_cond = True\n",
    "\n",
    "        else:\n",
    "            depth_cond = False\n",
    "\n",
    "    # Check for sample conditions\n",
    "    if min_samples_split == None:\n",
    "        sample_cond = True\n",
    "\n",
    "    else:\n",
    "        if data.shape[0] > min_samples_split:\n",
    "            sample_cond = True\n",
    "\n",
    "        else:\n",
    "            sample_cond = False\n",
    "\n",
    "    # Check for ig condition\n",
    "    if depth_cond & sample_cond:\n",
    "\n",
    "        var,val,ig,var_type = get_best_split(y, data)\n",
    "\n",
    "        # If ig condition is fulfilled, make split \n",
    "        if ig is not None and ig >= min_information_gain:\n",
    "\n",
    "            counter += 1\n",
    "\n",
    "            left,right = make_split(var, val, data,var_type)\n",
    "\n",
    "            # Instantiate sub-tree\n",
    "            split_type = \"<=\" if var_type else \"in\"\n",
    "            question =   \"{} {}  {}\".format(var,split_type,val)\n",
    "            # question = \"\\n\" + counter*\" \" + \"|->\" + var + \" \" + split_type + \" \" + str(val) \n",
    "            subtree = {question: []}\n",
    "\n",
    "\n",
    "            # Find answers (recursion)\n",
    "            yes_answer = train_tree(left,y, target_factor, max_depth,min_samples_split,min_information_gain, counter)\n",
    "\n",
    "            no_answer = train_tree(right,y, target_factor, max_depth,min_samples_split,min_information_gain, counter)\n",
    "\n",
    "            if yes_answer == no_answer:\n",
    "                subtree = yes_answer\n",
    "\n",
    "            else:\n",
    "                subtree[question].append(yes_answer)\n",
    "                subtree[question].append(no_answer)\n",
    "\n",
    "        # If it doesn't match IG condition, make prediction\n",
    "        else:\n",
    "            pred = make_prediction(data[y],target_factor)\n",
    "            return pred\n",
    "\n",
    "    # Drop dataset if doesn't match depth or sample conditions\n",
    "    else:\n",
    "        pred = make_prediction(data[y],target_factor)\n",
    "        return pred\n",
    "\n",
    "    return subtree\n",
    "\n",
    "\n",
    "max_depth = 5\n",
    "min_samples_split = 20\n",
    "min_information_gain  = 1e-5\n",
    "\n",
    "\n",
    "decisiones = train_tree(df,'Potential',True, max_depth,min_samples_split,min_information_gain)\n",
    "\n",
    "\n",
    "decisiones"
   ]
  },
  {
   "cell_type": "code",
   "execution_count": 108,
   "id": "39f4f487",
   "metadata": {},
   "outputs": [
    {
     "name": "stdout",
     "output_type": "stream",
     "text": [
      "61\n"
     ]
    }
   ],
   "source": [
    "def clasificar_datos(observacion, arbol):\n",
    "    question = list(arbol.keys())[0] \n",
    "\n",
    "\n",
    "    if question.split()[1] == '<=':\n",
    "\n",
    "        if observacion[question.split()[0]] <= float(question.split()[2]):\n",
    "            answer = arbol[question][0]\n",
    "        else:\n",
    "            answer = arbol[question][1]\n",
    "\n",
    "    else:\n",
    "\n",
    "        if observacion[question.split()[0]] in (question.split()[2]):\n",
    "            answer = arbol[question][0]\n",
    "        else:\n",
    "            answer = arbol[question][1]\n",
    "\n",
    "\n",
    "    # Si la respuesta no es un diccionario\n",
    "    if not isinstance(answer, dict):\n",
    "        return answer\n",
    "    else:\n",
    "        residual_tree = answer\n",
    "        return clasificar_datos(observacion, answer)\n",
    "observacion = {'Value': 100000, 'Age': 22, 'Overall': 60}\n",
    "print(clasificar_datos(observacion, decisiones))\n"
   ]
  },
  {
   "cell_type": "code",
   "execution_count": null,
   "id": "653527db",
   "metadata": {},
   "outputs": [],
   "source": [
    "\n"
   ]
  },
  {
   "cell_type": "markdown",
   "id": "80a003a6-3f50-4b5e-b00f-93ddc0bd54f5",
   "metadata": {},
   "source": [
    "## Comparación con sklearn"
   ]
  },
  {
   "cell_type": "code",
   "execution_count": 109,
   "id": "30006f2e-f60e-4279-8ad6-47c965bb9f4d",
   "metadata": {},
   "outputs": [],
   "source": [
    "from sklearn.tree import DecisionTreeRegressor"
   ]
  },
  {
   "cell_type": "code",
   "execution_count": 110,
   "id": "16fd0920-cba1-46f3-af66-043061893c9b",
   "metadata": {},
   "outputs": [],
   "source": [
    "modeloR = DecisionTreeRegressor()"
   ]
  },
  {
   "cell_type": "code",
   "execution_count": 111,
   "id": "721b81b0-8b54-4d4f-b849-5a5830f7666c",
   "metadata": {},
   "outputs": [
    {
     "data": {
      "text/html": [
       "<style>#sk-container-id-2 {color: black;background-color: white;}#sk-container-id-2 pre{padding: 0;}#sk-container-id-2 div.sk-toggleable {background-color: white;}#sk-container-id-2 label.sk-toggleable__label {cursor: pointer;display: block;width: 100%;margin-bottom: 0;padding: 0.3em;box-sizing: border-box;text-align: center;}#sk-container-id-2 label.sk-toggleable__label-arrow:before {content: \"▸\";float: left;margin-right: 0.25em;color: #696969;}#sk-container-id-2 label.sk-toggleable__label-arrow:hover:before {color: black;}#sk-container-id-2 div.sk-estimator:hover label.sk-toggleable__label-arrow:before {color: black;}#sk-container-id-2 div.sk-toggleable__content {max-height: 0;max-width: 0;overflow: hidden;text-align: left;background-color: #f0f8ff;}#sk-container-id-2 div.sk-toggleable__content pre {margin: 0.2em;color: black;border-radius: 0.25em;background-color: #f0f8ff;}#sk-container-id-2 input.sk-toggleable__control:checked~div.sk-toggleable__content {max-height: 200px;max-width: 100%;overflow: auto;}#sk-container-id-2 input.sk-toggleable__control:checked~label.sk-toggleable__label-arrow:before {content: \"▾\";}#sk-container-id-2 div.sk-estimator input.sk-toggleable__control:checked~label.sk-toggleable__label {background-color: #d4ebff;}#sk-container-id-2 div.sk-label input.sk-toggleable__control:checked~label.sk-toggleable__label {background-color: #d4ebff;}#sk-container-id-2 input.sk-hidden--visually {border: 0;clip: rect(1px 1px 1px 1px);clip: rect(1px, 1px, 1px, 1px);height: 1px;margin: -1px;overflow: hidden;padding: 0;position: absolute;width: 1px;}#sk-container-id-2 div.sk-estimator {font-family: monospace;background-color: #f0f8ff;border: 1px dotted black;border-radius: 0.25em;box-sizing: border-box;margin-bottom: 0.5em;}#sk-container-id-2 div.sk-estimator:hover {background-color: #d4ebff;}#sk-container-id-2 div.sk-parallel-item::after {content: \"\";width: 100%;border-bottom: 1px solid gray;flex-grow: 1;}#sk-container-id-2 div.sk-label:hover label.sk-toggleable__label {background-color: #d4ebff;}#sk-container-id-2 div.sk-serial::before {content: \"\";position: absolute;border-left: 1px solid gray;box-sizing: border-box;top: 0;bottom: 0;left: 50%;z-index: 0;}#sk-container-id-2 div.sk-serial {display: flex;flex-direction: column;align-items: center;background-color: white;padding-right: 0.2em;padding-left: 0.2em;position: relative;}#sk-container-id-2 div.sk-item {position: relative;z-index: 1;}#sk-container-id-2 div.sk-parallel {display: flex;align-items: stretch;justify-content: center;background-color: white;position: relative;}#sk-container-id-2 div.sk-item::before, #sk-container-id-2 div.sk-parallel-item::before {content: \"\";position: absolute;border-left: 1px solid gray;box-sizing: border-box;top: 0;bottom: 0;left: 50%;z-index: -1;}#sk-container-id-2 div.sk-parallel-item {display: flex;flex-direction: column;z-index: 1;position: relative;background-color: white;}#sk-container-id-2 div.sk-parallel-item:first-child::after {align-self: flex-end;width: 50%;}#sk-container-id-2 div.sk-parallel-item:last-child::after {align-self: flex-start;width: 50%;}#sk-container-id-2 div.sk-parallel-item:only-child::after {width: 0;}#sk-container-id-2 div.sk-dashed-wrapped {border: 1px dashed gray;margin: 0 0.4em 0.5em 0.4em;box-sizing: border-box;padding-bottom: 0.4em;background-color: white;}#sk-container-id-2 div.sk-label label {font-family: monospace;font-weight: bold;display: inline-block;line-height: 1.2em;}#sk-container-id-2 div.sk-label-container {text-align: center;}#sk-container-id-2 div.sk-container {/* jupyter's `normalize.less` sets `[hidden] { display: none; }` but bootstrap.min.css set `[hidden] { display: none !important; }` so we also need the `!important` here to be able to override the default hidden behavior on the sphinx rendered scikit-learn.org. See: https://github.com/scikit-learn/scikit-learn/issues/21755 */display: inline-block !important;position: relative;}#sk-container-id-2 div.sk-text-repr-fallback {display: none;}</style><div id=\"sk-container-id-2\" class=\"sk-top-container\"><div class=\"sk-text-repr-fallback\"><pre>DecisionTreeRegressor()</pre><b>In a Jupyter environment, please rerun this cell to show the HTML representation or trust the notebook. <br />On GitHub, the HTML representation is unable to render, please try loading this page with nbviewer.org.</b></div><div class=\"sk-container\" hidden><div class=\"sk-item\"><div class=\"sk-estimator sk-toggleable\"><input class=\"sk-toggleable__control sk-hidden--visually\" id=\"sk-estimator-id-2\" type=\"checkbox\" checked><label for=\"sk-estimator-id-2\" class=\"sk-toggleable__label sk-toggleable__label-arrow\">DecisionTreeRegressor</label><div class=\"sk-toggleable__content\"><pre>DecisionTreeRegressor()</pre></div></div></div></div></div>"
      ],
      "text/plain": [
       "DecisionTreeRegressor()"
      ]
     },
     "execution_count": 111,
     "metadata": {},
     "output_type": "execute_result"
    }
   ],
   "source": [
    "modeloR.fit(X_entreno, y_entreno)"
   ]
  },
  {
   "cell_type": "code",
   "execution_count": 112,
   "id": "11635c30-5090-484a-858c-f45ebe92bee7",
   "metadata": {},
   "outputs": [],
   "source": [
    "y_predicciones = modeloR.predict(X_prueba)"
   ]
  },
  {
   "cell_type": "code",
   "execution_count": 113,
   "id": "0d8a989f-5ba2-4cbf-a6cd-c0d2ba38b3d7",
   "metadata": {},
   "outputs": [
    {
     "data": {
      "text/plain": [
       "<seaborn.axisgrid.FacetGrid at 0x16a02a85b70>"
      ]
     },
     "execution_count": 113,
     "metadata": {},
     "output_type": "execute_result"
    },
    {
     "data": {
      "image/png": "[encoded data removed]",
      "text/plain": [
       "<Figure size 360x360 with 1 Axes>"
      ]
     },
     "metadata": {},
     "output_type": "display_data"
    },
    {
     "data": {
      "image/png": "[encoded data removed]",
      "text/plain": [
       "<Figure size 360x360 with 1 Axes>"
      ]
     },
     "metadata": {},
     "output_type": "display_data"
    }
   ],
   "source": [
    "sns.displot(y_prueba, kind=\"kde\")\n",
    "sns.displot(y_predicciones, kind=\"kde\")"
   ]
  },
  {
   "cell_type": "code",
   "execution_count": 114,
   "id": "d691d8d4-3cd5-4670-a289-f121a88cf157",
   "metadata": {},
   "outputs": [],
   "source": [
    "from sklearn.metrics import confusion_matrix, classification_report"
   ]
  },
  {
   "cell_type": "code",
   "execution_count": 115,
   "id": "ca311c23-8bcb-45f9-af81-3e70eeba623c",
   "metadata": {},
   "outputs": [
    {
     "data": {
      "text/plain": [
       "array([[1, 0, 0, ..., 0, 0, 0],\n",
       "       [0, 2, 0, ..., 0, 0, 0],\n",
       "       [0, 0, 1, ..., 0, 0, 0],\n",
       "       ...,\n",
       "       [0, 0, 0, ..., 6, 0, 0],\n",
       "       [0, 0, 0, ..., 0, 5, 0],\n",
       "       [0, 0, 0, ..., 0, 0, 1]], dtype=int64)"
      ]
     },
     "execution_count": 115,
     "metadata": {},
     "output_type": "execute_result"
    }
   ],
   "source": [
    "confusion_matrix(y_prueba, y_predicciones)"
   ]
  },
  {
   "cell_type": "code",
   "execution_count": 116,
   "id": "36d22d30-35fb-422b-bcaa-248b88de3266",
   "metadata": {},
   "outputs": [
    {
     "data": {
      "text/plain": [
       "1.0"
      ]
     },
     "execution_count": 116,
     "metadata": {},
     "output_type": "execute_result"
    }
   ],
   "source": [
    "from sklearn.metrics import accuracy_score\n",
    "accuracy_score(y_prueba, y_predicciones)"
   ]
  },
  {
   "cell_type": "code",
   "execution_count": null,
   "id": "833cfa93-186c-4fd8-9dd6-0bf12f866f4d",
   "metadata": {},
   "outputs": [],
   "source": []
  }
 ],
 "metadata": {
  "kernelspec": {
   "display_name": "Python 3 (ipykernel)",
   "language": "python",
   "name": "python3"
  },
  "language_info": {
   "codemirror_mode": {
    "name": "ipython",
    "version": 3
   },
   "file_extension": ".py",
   "mimetype": "text/x-python",
   "name": "python",
   "nbconvert_exporter": "python",
   "pygments_lexer": "ipython3",
   "version": "3.10.2"
  }
 },
 "nbformat": 4,
 "nbformat_minor": 5
}
