{
 "cells": [
  {
   "cell_type": "code",
   "execution_count": 93,
   "id": "6427cf0e-404a-44eb-9e8c-45a756c1cd5e",
   "metadata": {},
   "outputs": [],
   "source": [
    "import pandas as pd # Import Pandas for data manipulation using dataframes\n",
    "import numpy as np # Import Numpy for data statistical analysis \n",
    "import matplotlib.pyplot as plt # Import matplotlib for data visualisation\n",
    "import seaborn as sns # Statistical data visualization\n",
    "import ydata_profiling\n",
    "from quickda.clean_data import *"
   ]
  },
  {
   "cell_type": "code",
   "execution_count": 94,
   "id": "d2fd7c40-d0a7-4199-aec7-f406c06b01f7",
   "metadata": {},
   "outputs": [
    {
     "name": "stdout",
     "output_type": "stream",
     "text": [
      "<class 'pandas.core.frame.DataFrame'>\n",
      "RangeIndex: 17981 entries, 0 to 17980\n",
      "Data columns (total 75 columns):\n",
      " #   Column               Non-Null Count  Dtype  \n",
      "---  ------               --------------  -----  \n",
      " 0   Unnamed: 0           17981 non-null  int64  \n",
      " 1   Name                 17981 non-null  object \n",
      " 2   Age                  17981 non-null  int64  \n",
      " 3   Photo                17981 non-null  object \n",
      " 4   Nationality          17981 non-null  object \n",
      " 5   Flag                 17981 non-null  object \n",
      " 6   Overall              17981 non-null  int64  \n",
      " 7   Potential            17981 non-null  int64  \n",
      " 8   Club                 17733 non-null  object \n",
      " 9   Club Logo            17981 non-null  object \n",
      " 10  Value                17981 non-null  object \n",
      " 11  Wage                 17981 non-null  object \n",
      " 12  Special              17981 non-null  int64  \n",
      " 13  Acceleration         17981 non-null  object \n",
      " 14  Aggression           17981 non-null  object \n",
      " 15  Agility              17981 non-null  object \n",
      " 16  Balance              17981 non-null  object \n",
      " 17  Ball control         17981 non-null  object \n",
      " 18  Composure            17981 non-null  object \n",
      " 19  Crossing             17981 non-null  object \n",
      " 20  Curve                17981 non-null  object \n",
      " 21  Dribbling            17981 non-null  object \n",
      " 22  Finishing            17981 non-null  object \n",
      " 23  Free kick accuracy   17981 non-null  object \n",
      " 24  GK diving            17981 non-null  object \n",
      " 25  GK handling          17981 non-null  object \n",
      " 26  GK kicking           17981 non-null  object \n",
      " 27  GK positioning       17981 non-null  object \n",
      " 28  GK reflexes          17981 non-null  object \n",
      " 29  Heading accuracy     17981 non-null  object \n",
      " 30  Interceptions        17981 non-null  object \n",
      " 31  Jumping              17981 non-null  object \n",
      " 32  Long passing         17981 non-null  object \n",
      " 33  Long shots           17981 non-null  object \n",
      " 34  Marking              17981 non-null  object \n",
      " 35  Penalties            17981 non-null  object \n",
      " 36  Positioning          17981 non-null  object \n",
      " 37  Reactions            17981 non-null  object \n",
      " 38  Short passing        17981 non-null  object \n",
      " 39  Shot power           17981 non-null  object \n",
      " 40  Sliding tackle       17981 non-null  object \n",
      " 41  Sprint speed         17981 non-null  object \n",
      " 42  Stamina              17981 non-null  object \n",
      " 43  Standing tackle      17981 non-null  object \n",
      " 44  Strength             17981 non-null  object \n",
      " 45  Vision               17981 non-null  object \n",
      " 46  Volleys              17981 non-null  object \n",
      " 47  CAM                  15952 non-null  float64\n",
      " 48  CB                   15952 non-null  float64\n",
      " 49  CDM                  15952 non-null  float64\n",
      " 50  CF                   15952 non-null  float64\n",
      " 51  CM                   15952 non-null  float64\n",
      " 52  ID                   17981 non-null  int64  \n",
      " 53  LAM                  15952 non-null  float64\n",
      " 54  LB                   15952 non-null  float64\n",
      " 55  LCB                  15952 non-null  float64\n",
      " 56  LCM                  15952 non-null  float64\n",
      " 57  LDM                  15952 non-null  float64\n",
      " 58  LF                   15952 non-null  float64\n",
      " 59  LM                   15952 non-null  float64\n",
      " 60  LS                   15952 non-null  float64\n",
      " 61  LW                   15952 non-null  float64\n",
      " 62  LWB                  15952 non-null  float64\n",
      " 63  Preferred Positions  17981 non-null  object \n",
      " 64  RAM                  15952 non-null  float64\n",
      " 65  RB                   15952 non-null  float64\n",
      " 66  RCB                  15952 non-null  float64\n",
      " 67  RCM                  15952 non-null  float64\n",
      " 68  RDM                  15952 non-null  float64\n",
      " 69  RF                   15952 non-null  float64\n",
      " 70  RM                   15952 non-null  float64\n",
      " 71  RS                   15952 non-null  float64\n",
      " 72  RW                   15952 non-null  float64\n",
      " 73  RWB                  15952 non-null  float64\n",
      " 74  ST                   15952 non-null  float64\n",
      "dtypes: float64(26), int64(6), object(43)\n",
      "memory usage: 10.3+ MB\n"
     ]
    }
   ],
   "source": [
    "# Leer archivo csv\n",
    "df = pd.read_csv('./Datasets/CompleteDataset.csv', low_memory=False)\n",
    "df.info()"
   ]
  },
  {
   "cell_type": "code",
   "execution_count": 95,
   "id": "0a807567-9462-4227-8ed6-bd92afedc6ad",
   "metadata": {},
   "outputs": [
    {
     "data": {
      "text/plain": [
       "'60+7'"
      ]
     },
     "execution_count": 95,
     "metadata": {},
     "output_type": "execute_result"
    }
   ],
   "source": [
    "df['Curve'][412] # Se puede observar que los números no son todos numéricos"
   ]
  },
  {
   "cell_type": "code",
   "execution_count": 96,
   "id": "56d02c58-f4a8-4070-aeb8-ed01388836f2",
   "metadata": {},
   "outputs": [],
   "source": [
    "# Convertir las columnas no númericas a numéricas"
   ]
  },
  {
   "cell_type": "code",
   "execution_count": 97,
   "id": "48bad577-532d-40cc-82e5-b5f96c204524",
   "metadata": {},
   "outputs": [
    {
     "data": {
      "text/plain": [
       "'€95.5M'"
      ]
     },
     "execution_count": 97,
     "metadata": {},
     "output_type": "execute_result"
    }
   ],
   "source": [
    "df['Value'][0]"
   ]
  },
  {
   "cell_type": "code",
   "execution_count": 98,
   "id": "4d67397a-bbce-44a5-b77d-1154d191436b",
   "metadata": {},
   "outputs": [
    {
     "data": {
      "text/plain": [
       "0         95500000\n",
       "1        105000000\n",
       "2        123000000\n",
       "3         97000000\n",
       "4         61000000\n",
       "           ...    \n",
       "17976        50000\n",
       "17977            0\n",
       "17978        60000\n",
       "17979        60000\n",
       "17980        50000\n",
       "Name: Value, Length: 17981, dtype: int32"
      ]
     },
     "execution_count": 98,
     "metadata": {},
     "output_type": "execute_result"
    }
   ],
   "source": [
    "# Columna value de dinero a valor\n",
    "\n",
    "for x in range(len(df['Value'])):\n",
    "    og = df['Value'][x]\n",
    "    temp = og.removeprefix('€')\n",
    "    temp = temp.removesuffix('M')\n",
    "    temp = temp.removesuffix('K')\n",
    "    temp = float(temp)\n",
    "    # convertir los números que eran\n",
    "    if (og[len(og) - 1] == 'M'):\n",
    "        temp = temp * 1000000\n",
    "    if (og[len(og) - 1] == 'K'):\n",
    "        temp = temp * 1000\n",
    "    temp = int(temp)\n",
    "    df.loc[x, 'Value'] = temp\n",
    "\n",
    "df = df.astype({'Value':'int'})\n",
    "df['Value']"
   ]
  },
  {
   "cell_type": "code",
   "execution_count": 99,
   "id": "134a327d-2ccf-4ab5-a041-a1f38732a92d",
   "metadata": {},
   "outputs": [],
   "source": [
    "# De num + num a total\n",
    "masCols = ['Acceleration', 'Aggression', 'Agility', 'Balance', 'Ball control', 'Composure', 'Crossing',\n",
    "           'Curve', 'Dribbling', 'Finishing', 'Free kick accuracy', 'GK diving', 'GK handling', 'GK positioning', \n",
    "           'GK kicking', 'GK reflexes', 'Heading accuracy', 'Interceptions', 'Jumping', 'Long passing', 'Long shots',\n",
    "           'Marking', 'Penalties', 'Positioning', 'Reactions', 'Short passing', 'Shot power', 'Sliding tackle',\n",
    "           'Sprint speed', 'Stamina', 'Standing tackle', 'Sprint speed', 'Stamina', 'Strength', 'Vision',\n",
    "           'Volleys'\n",
    "          ] # Columnas que sufren de este formato\n",
    "\n",
    "for col in masCols:\n",
    "    for x in range(len(df[col])):\n",
    "        temp = df[col][x]\n",
    "        if (type(temp) != int and type(temp) != np.int32): \n",
    "            if temp.__contains__('+'):\n",
    "                temp2 = temp.split('+')\n",
    "                a = int(temp2[0])\n",
    "                b = int(temp2[1])\n",
    "                temp = a + b\n",
    "            elif temp.__contains__('-'):\n",
    "                a = int(temp2[0])\n",
    "                b = int(temp2[1])\n",
    "                temp = a - b\n",
    "            temp = int(temp)\n",
    "        df.loc[x, col] = temp\n",
    "        \n",
    "    # cambiar el tipo de dato \n",
    "    df = df.astype({col: 'int'})"
   ]
  },
  {
   "cell_type": "code",
   "execution_count": 100,
   "id": "0b2a506b-f936-4e01-8315-08b487c0bffa",
   "metadata": {},
   "outputs": [
    {
     "name": "stdout",
     "output_type": "stream",
     "text": [
      "<class 'pandas.core.frame.DataFrame'>\n",
      "RangeIndex: 17981 entries, 0 to 17980\n",
      "Data columns (total 75 columns):\n",
      " #   Column               Non-Null Count  Dtype  \n",
      "---  ------               --------------  -----  \n",
      " 0   Unnamed: 0           17981 non-null  int64  \n",
      " 1   Name                 17981 non-null  object \n",
      " 2   Age                  17981 non-null  int64  \n",
      " 3   Photo                17981 non-null  object \n",
      " 4   Nationality          17981 non-null  object \n",
      " 5   Flag                 17981 non-null  object \n",
      " 6   Overall              17981 non-null  int64  \n",
      " 7   Potential            17981 non-null  int64  \n",
      " 8   Club                 17733 non-null  object \n",
      " 9   Club Logo            17981 non-null  object \n",
      " 10  Value                17981 non-null  int32  \n",
      " 11  Wage                 17981 non-null  object \n",
      " 12  Special              17981 non-null  int64  \n",
      " 13  Acceleration         17981 non-null  int32  \n",
      " 14  Aggression           17981 non-null  int32  \n",
      " 15  Agility              17981 non-null  int32  \n",
      " 16  Balance              17981 non-null  int32  \n",
      " 17  Ball control         17981 non-null  int32  \n",
      " 18  Composure            17981 non-null  int32  \n",
      " 19  Crossing             17981 non-null  int32  \n",
      " 20  Curve                17981 non-null  int32  \n",
      " 21  Dribbling            17981 non-null  int32  \n",
      " 22  Finishing            17981 non-null  int32  \n",
      " 23  Free kick accuracy   17981 non-null  int32  \n",
      " 24  GK diving            17981 non-null  int32  \n",
      " 25  GK handling          17981 non-null  int32  \n",
      " 26  GK kicking           17981 non-null  int32  \n",
      " 27  GK positioning       17981 non-null  int32  \n",
      " 28  GK reflexes          17981 non-null  int32  \n",
      " 29  Heading accuracy     17981 non-null  int32  \n",
      " 30  Interceptions        17981 non-null  int32  \n",
      " 31  Jumping              17981 non-null  int32  \n",
      " 32  Long passing         17981 non-null  int32  \n",
      " 33  Long shots           17981 non-null  int32  \n",
      " 34  Marking              17981 non-null  int32  \n",
      " 35  Penalties            17981 non-null  int32  \n",
      " 36  Positioning          17981 non-null  int32  \n",
      " 37  Reactions            17981 non-null  int32  \n",
      " 38  Short passing        17981 non-null  int32  \n",
      " 39  Shot power           17981 non-null  int32  \n",
      " 40  Sliding tackle       17981 non-null  int32  \n",
      " 41  Sprint speed         17981 non-null  int32  \n",
      " 42  Stamina              17981 non-null  int32  \n",
      " 43  Standing tackle      17981 non-null  int32  \n",
      " 44  Strength             17981 non-null  int32  \n",
      " 45  Vision               17981 non-null  int32  \n",
      " 46  Volleys              17981 non-null  int32  \n",
      " 47  CAM                  15952 non-null  float64\n",
      " 48  CB                   15952 non-null  float64\n",
      " 49  CDM                  15952 non-null  float64\n",
      " 50  CF                   15952 non-null  float64\n",
      " 51  CM                   15952 non-null  float64\n",
      " 52  ID                   17981 non-null  int64  \n",
      " 53  LAM                  15952 non-null  float64\n",
      " 54  LB                   15952 non-null  float64\n",
      " 55  LCB                  15952 non-null  float64\n",
      " 56  LCM                  15952 non-null  float64\n",
      " 57  LDM                  15952 non-null  float64\n",
      " 58  LF                   15952 non-null  float64\n",
      " 59  LM                   15952 non-null  float64\n",
      " 60  LS                   15952 non-null  float64\n",
      " 61  LW                   15952 non-null  float64\n",
      " 62  LWB                  15952 non-null  float64\n",
      " 63  Preferred Positions  17981 non-null  object \n",
      " 64  RAM                  15952 non-null  float64\n",
      " 65  RB                   15952 non-null  float64\n",
      " 66  RCB                  15952 non-null  float64\n",
      " 67  RCM                  15952 non-null  float64\n",
      " 68  RDM                  15952 non-null  float64\n",
      " 69  RF                   15952 non-null  float64\n",
      " 70  RM                   15952 non-null  float64\n",
      " 71  RS                   15952 non-null  float64\n",
      " 72  RW                   15952 non-null  float64\n",
      " 73  RWB                  15952 non-null  float64\n",
      " 74  ST                   15952 non-null  float64\n",
      "dtypes: float64(26), int32(35), int64(6), object(8)\n",
      "memory usage: 7.9+ MB\n"
     ]
    }
   ],
   "source": [
    "df.info()"
   ]
  },
  {
   "cell_type": "code",
   "execution_count": null,
   "id": "4b30deae-325c-46af-9406-f2905c597c40",
   "metadata": {},
   "outputs": [],
   "source": []
  }
 ],
 "metadata": {
  "kernelspec": {
   "display_name": "Python 3 (ipykernel)",
   "language": "python",
   "name": "python3"
  },
  "language_info": {
   "codemirror_mode": {
    "name": "ipython",
    "version": 3
   },
   "file_extension": ".py",
   "mimetype": "text/x-python",
   "name": "python",
   "nbconvert_exporter": "python",
   "pygments_lexer": "ipython3",
   "version": "3.10.2"
  }
 },
 "nbformat": 4,
 "nbformat_minor": 5
}
