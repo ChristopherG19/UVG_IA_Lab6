{
 "cells": [
  {
   "cell_type": "code",
   "execution_count": 118,
   "id": "6427cf0e-404a-44eb-9e8c-45a756c1cd5e",
   "metadata": {},
   "outputs": [],
   "source": [
    "import pandas as pd # Import Pandas for data manipulation using dataframes\n",
    "import numpy as np # Import Numpy for data statistical analysis \n",
    "import matplotlib.pyplot as plt # Import matplotlib for data visualisation\n",
    "import seaborn as sns # Statistical data visualization\n",
    "import ydata_profiling\n",
    "from quickda.clean_data import *"
   ]
  },
  {
   "cell_type": "code",
   "execution_count": 119,
   "id": "d2fd7c40-d0a7-4199-aec7-f406c06b01f7",
   "metadata": {},
   "outputs": [
    {
     "name": "stdout",
     "output_type": "stream",
     "text": [
      "<class 'pandas.core.frame.DataFrame'>\n",
      "RangeIndex: 17981 entries, 0 to 17980\n",
      "Data columns (total 75 columns):\n",
      " #   Column               Non-Null Count  Dtype  \n",
      "---  ------               --------------  -----  \n",
      " 0   Unnamed: 0           17981 non-null  int64  \n",
      " 1   Name                 17981 non-null  object \n",
      " 2   Age                  17981 non-null  int64  \n",
      " 3   Photo                17981 non-null  object \n",
      " 4   Nationality          17981 non-null  object \n",
      " 5   Flag                 17981 non-null  object \n",
      " 6   Overall              17981 non-null  int64  \n",
      " 7   Potential            17981 non-null  int64  \n",
      " 8   Club                 17733 non-null  object \n",
      " 9   Club Logo            17981 non-null  object \n",
      " 10  Value                17981 non-null  object \n",
      " 11  Wage                 17981 non-null  object \n",
      " 12  Special              17981 non-null  int64  \n",
      " 13  Acceleration         17981 non-null  object \n",
      " 14  Aggression           17981 non-null  object \n",
      " 15  Agility              17981 non-null  object \n",
      " 16  Balance              17981 non-null  object \n",
      " 17  Ball control         17981 non-null  object \n",
      " 18  Composure            17981 non-null  object \n",
      " 19  Crossing             17981 non-null  object \n",
      " 20  Curve                17981 non-null  object \n",
      " 21  Dribbling            17981 non-null  object \n",
      " 22  Finishing            17981 non-null  object \n",
      " 23  Free kick accuracy   17981 non-null  object \n",
      " 24  GK diving            17981 non-null  object \n",
      " 25  GK handling          17981 non-null  object \n",
      " 26  GK kicking           17981 non-null  object \n",
      " 27  GK positioning       17981 non-null  object \n",
      " 28  GK reflexes          17981 non-null  object \n",
      " 29  Heading accuracy     17981 non-null  object \n",
      " 30  Interceptions        17981 non-null  object \n",
      " 31  Jumping              17981 non-null  object \n",
      " 32  Long passing         17981 non-null  object \n",
      " 33  Long shots           17981 non-null  object \n",
      " 34  Marking              17981 non-null  object \n",
      " 35  Penalties            17981 non-null  object \n",
      " 36  Positioning          17981 non-null  object \n",
      " 37  Reactions            17981 non-null  object \n",
      " 38  Short passing        17981 non-null  object \n",
      " 39  Shot power           17981 non-null  object \n",
      " 40  Sliding tackle       17981 non-null  object \n",
      " 41  Sprint speed         17981 non-null  object \n",
      " 42  Stamina              17981 non-null  object \n",
      " 43  Standing tackle      17981 non-null  object \n",
      " 44  Strength             17981 non-null  object \n",
      " 45  Vision               17981 non-null  object \n",
      " 46  Volleys              17981 non-null  object \n",
      " 47  CAM                  15952 non-null  float64\n",
      " 48  CB                   15952 non-null  float64\n",
      " 49  CDM                  15952 non-null  float64\n",
      " 50  CF                   15952 non-null  float64\n",
      " 51  CM                   15952 non-null  float64\n",
      " 52  ID                   17981 non-null  int64  \n",
      " 53  LAM                  15952 non-null  float64\n",
      " 54  LB                   15952 non-null  float64\n",
      " 55  LCB                  15952 non-null  float64\n",
      " 56  LCM                  15952 non-null  float64\n",
      " 57  LDM                  15952 non-null  float64\n",
      " 58  LF                   15952 non-null  float64\n",
      " 59  LM                   15952 non-null  float64\n",
      " 60  LS                   15952 non-null  float64\n",
      " 61  LW                   15952 non-null  float64\n",
      " 62  LWB                  15952 non-null  float64\n",
      " 63  Preferred Positions  17981 non-null  object \n",
      " 64  RAM                  15952 non-null  float64\n",
      " 65  RB                   15952 non-null  float64\n",
      " 66  RCB                  15952 non-null  float64\n",
      " 67  RCM                  15952 non-null  float64\n",
      " 68  RDM                  15952 non-null  float64\n",
      " 69  RF                   15952 non-null  float64\n",
      " 70  RM                   15952 non-null  float64\n",
      " 71  RS                   15952 non-null  float64\n",
      " 72  RW                   15952 non-null  float64\n",
      " 73  RWB                  15952 non-null  float64\n",
      " 74  ST                   15952 non-null  float64\n",
      "dtypes: float64(26), int64(6), object(43)\n",
      "memory usage: 10.3+ MB\n"
     ]
    }
   ],
   "source": [
    "# Leer archivo csv\n",
    "df = pd.read_csv('./Datasets/CompleteDataset.csv', low_memory=False)\n",
    "df.info()"
   ]
  },
  {
   "cell_type": "code",
   "execution_count": 120,
   "id": "aa6b9529-43a6-4d7f-8995-5d9bdc30cd3c",
   "metadata": {},
   "outputs": [
    {
     "data": {
      "text/html": [
       "<div>\n",
       "<style scoped>\n",
       "    .dataframe tbody tr th:only-of-type {\n",
       "        vertical-align: middle;\n",
       "    }\n",
       "\n",
       "    .dataframe tbody tr th {\n",
       "        vertical-align: top;\n",
       "    }\n",
       "\n",
       "    .dataframe thead th {\n",
       "        text-align: right;\n",
       "    }\n",
       "</style>\n",
       "<table border=\"1\" class=\"dataframe\">\n",
       "  <thead>\n",
       "    <tr style=\"text-align: right;\">\n",
       "      <th></th>\n",
       "      <th>Unnamed: 0</th>\n",
       "      <th>Age</th>\n",
       "      <th>Overall</th>\n",
       "      <th>Potential</th>\n",
       "      <th>Special</th>\n",
       "      <th>CAM</th>\n",
       "      <th>CB</th>\n",
       "      <th>CDM</th>\n",
       "      <th>CF</th>\n",
       "      <th>CM</th>\n",
       "      <th>...</th>\n",
       "      <th>RB</th>\n",
       "      <th>RCB</th>\n",
       "      <th>RCM</th>\n",
       "      <th>RDM</th>\n",
       "      <th>RF</th>\n",
       "      <th>RM</th>\n",
       "      <th>RS</th>\n",
       "      <th>RW</th>\n",
       "      <th>RWB</th>\n",
       "      <th>ST</th>\n",
       "    </tr>\n",
       "  </thead>\n",
       "  <tbody>\n",
       "    <tr>\n",
       "      <th>count</th>\n",
       "      <td>17981.000000</td>\n",
       "      <td>17981.000000</td>\n",
       "      <td>17981.000000</td>\n",
       "      <td>17981.000000</td>\n",
       "      <td>17981.000000</td>\n",
       "      <td>15952.000000</td>\n",
       "      <td>15952.000000</td>\n",
       "      <td>15952.000000</td>\n",
       "      <td>15952.000000</td>\n",
       "      <td>15952.000000</td>\n",
       "      <td>...</td>\n",
       "      <td>15952.000000</td>\n",
       "      <td>15952.000000</td>\n",
       "      <td>15952.000000</td>\n",
       "      <td>15952.000000</td>\n",
       "      <td>15952.000000</td>\n",
       "      <td>15952.000000</td>\n",
       "      <td>15952.000000</td>\n",
       "      <td>15952.000000</td>\n",
       "      <td>15952.000000</td>\n",
       "      <td>15952.000000</td>\n",
       "    </tr>\n",
       "    <tr>\n",
       "      <th>mean</th>\n",
       "      <td>8990.000000</td>\n",
       "      <td>25.144541</td>\n",
       "      <td>66.247984</td>\n",
       "      <td>71.190813</td>\n",
       "      <td>1594.095100</td>\n",
       "      <td>59.251755</td>\n",
       "      <td>55.550464</td>\n",
       "      <td>56.865283</td>\n",
       "      <td>59.030028</td>\n",
       "      <td>58.506833</td>\n",
       "      <td>...</td>\n",
       "      <td>56.979689</td>\n",
       "      <td>55.550464</td>\n",
       "      <td>58.506833</td>\n",
       "      <td>56.865283</td>\n",
       "      <td>59.030028</td>\n",
       "      <td>60.057736</td>\n",
       "      <td>58.204050</td>\n",
       "      <td>59.359265</td>\n",
       "      <td>57.698721</td>\n",
       "      <td>58.204050</td>\n",
       "    </tr>\n",
       "    <tr>\n",
       "      <th>std</th>\n",
       "      <td>5190.811931</td>\n",
       "      <td>4.614272</td>\n",
       "      <td>6.987965</td>\n",
       "      <td>6.102199</td>\n",
       "      <td>272.151435</td>\n",
       "      <td>9.880164</td>\n",
       "      <td>12.192579</td>\n",
       "      <td>10.310178</td>\n",
       "      <td>9.926988</td>\n",
       "      <td>8.888040</td>\n",
       "      <td>...</td>\n",
       "      <td>9.791627</td>\n",
       "      <td>12.192579</td>\n",
       "      <td>8.888040</td>\n",
       "      <td>10.310178</td>\n",
       "      <td>9.926988</td>\n",
       "      <td>9.349180</td>\n",
       "      <td>9.181392</td>\n",
       "      <td>9.978084</td>\n",
       "      <td>9.142825</td>\n",
       "      <td>9.181392</td>\n",
       "    </tr>\n",
       "    <tr>\n",
       "      <th>min</th>\n",
       "      <td>0.000000</td>\n",
       "      <td>16.000000</td>\n",
       "      <td>46.000000</td>\n",
       "      <td>46.000000</td>\n",
       "      <td>728.000000</td>\n",
       "      <td>27.000000</td>\n",
       "      <td>25.000000</td>\n",
       "      <td>26.000000</td>\n",
       "      <td>27.000000</td>\n",
       "      <td>30.000000</td>\n",
       "      <td>...</td>\n",
       "      <td>30.000000</td>\n",
       "      <td>25.000000</td>\n",
       "      <td>30.000000</td>\n",
       "      <td>26.000000</td>\n",
       "      <td>27.000000</td>\n",
       "      <td>28.000000</td>\n",
       "      <td>31.000000</td>\n",
       "      <td>26.000000</td>\n",
       "      <td>31.000000</td>\n",
       "      <td>31.000000</td>\n",
       "    </tr>\n",
       "    <tr>\n",
       "      <th>25%</th>\n",
       "      <td>4495.000000</td>\n",
       "      <td>21.000000</td>\n",
       "      <td>62.000000</td>\n",
       "      <td>67.000000</td>\n",
       "      <td>1449.000000</td>\n",
       "      <td>53.000000</td>\n",
       "      <td>45.000000</td>\n",
       "      <td>49.000000</td>\n",
       "      <td>53.000000</td>\n",
       "      <td>53.000000</td>\n",
       "      <td>...</td>\n",
       "      <td>50.000000</td>\n",
       "      <td>45.000000</td>\n",
       "      <td>53.000000</td>\n",
       "      <td>49.000000</td>\n",
       "      <td>53.000000</td>\n",
       "      <td>54.000000</td>\n",
       "      <td>52.000000</td>\n",
       "      <td>53.000000</td>\n",
       "      <td>51.000000</td>\n",
       "      <td>52.000000</td>\n",
       "    </tr>\n",
       "    <tr>\n",
       "      <th>50%</th>\n",
       "      <td>8990.000000</td>\n",
       "      <td>25.000000</td>\n",
       "      <td>66.000000</td>\n",
       "      <td>71.000000</td>\n",
       "      <td>1633.000000</td>\n",
       "      <td>60.000000</td>\n",
       "      <td>57.000000</td>\n",
       "      <td>58.000000</td>\n",
       "      <td>60.000000</td>\n",
       "      <td>59.000000</td>\n",
       "      <td>...</td>\n",
       "      <td>58.000000</td>\n",
       "      <td>57.000000</td>\n",
       "      <td>59.000000</td>\n",
       "      <td>58.000000</td>\n",
       "      <td>60.000000</td>\n",
       "      <td>61.000000</td>\n",
       "      <td>59.000000</td>\n",
       "      <td>60.000000</td>\n",
       "      <td>58.000000</td>\n",
       "      <td>59.000000</td>\n",
       "    </tr>\n",
       "    <tr>\n",
       "      <th>75%</th>\n",
       "      <td>13485.000000</td>\n",
       "      <td>28.000000</td>\n",
       "      <td>71.000000</td>\n",
       "      <td>75.000000</td>\n",
       "      <td>1786.000000</td>\n",
       "      <td>66.000000</td>\n",
       "      <td>65.000000</td>\n",
       "      <td>65.000000</td>\n",
       "      <td>66.000000</td>\n",
       "      <td>65.000000</td>\n",
       "      <td>...</td>\n",
       "      <td>64.000000</td>\n",
       "      <td>65.000000</td>\n",
       "      <td>65.000000</td>\n",
       "      <td>65.000000</td>\n",
       "      <td>66.000000</td>\n",
       "      <td>67.000000</td>\n",
       "      <td>65.000000</td>\n",
       "      <td>66.000000</td>\n",
       "      <td>64.000000</td>\n",
       "      <td>65.000000</td>\n",
       "    </tr>\n",
       "    <tr>\n",
       "      <th>max</th>\n",
       "      <td>17980.000000</td>\n",
       "      <td>47.000000</td>\n",
       "      <td>94.000000</td>\n",
       "      <td>94.000000</td>\n",
       "      <td>2291.000000</td>\n",
       "      <td>92.000000</td>\n",
       "      <td>87.000000</td>\n",
       "      <td>85.000000</td>\n",
       "      <td>92.000000</td>\n",
       "      <td>87.000000</td>\n",
       "      <td>...</td>\n",
       "      <td>84.000000</td>\n",
       "      <td>87.000000</td>\n",
       "      <td>87.000000</td>\n",
       "      <td>85.000000</td>\n",
       "      <td>92.000000</td>\n",
       "      <td>90.000000</td>\n",
       "      <td>92.000000</td>\n",
       "      <td>91.000000</td>\n",
       "      <td>84.000000</td>\n",
       "      <td>92.000000</td>\n",
       "    </tr>\n",
       "  </tbody>\n",
       "</table>\n",
       "<p>8 rows × 32 columns</p>\n",
       "</div>"
      ],
      "text/plain": [
       "         Unnamed: 0           Age       Overall     Potential       Special  \\\n",
       "count  17981.000000  17981.000000  17981.000000  17981.000000  17981.000000   \n",
       "mean    8990.000000     25.144541     66.247984     71.190813   1594.095100   \n",
       "std     5190.811931      4.614272      6.987965      6.102199    272.151435   \n",
       "min        0.000000     16.000000     46.000000     46.000000    728.000000   \n",
       "25%     4495.000000     21.000000     62.000000     67.000000   1449.000000   \n",
       "50%     8990.000000     25.000000     66.000000     71.000000   1633.000000   \n",
       "75%    13485.000000     28.000000     71.000000     75.000000   1786.000000   \n",
       "max    17980.000000     47.000000     94.000000     94.000000   2291.000000   \n",
       "\n",
       "                CAM            CB           CDM            CF            CM  \\\n",
       "count  15952.000000  15952.000000  15952.000000  15952.000000  15952.000000   \n",
       "mean      59.251755     55.550464     56.865283     59.030028     58.506833   \n",
       "std        9.880164     12.192579     10.310178      9.926988      8.888040   \n",
       "min       27.000000     25.000000     26.000000     27.000000     30.000000   \n",
       "25%       53.000000     45.000000     49.000000     53.000000     53.000000   \n",
       "50%       60.000000     57.000000     58.000000     60.000000     59.000000   \n",
       "75%       66.000000     65.000000     65.000000     66.000000     65.000000   \n",
       "max       92.000000     87.000000     85.000000     92.000000     87.000000   \n",
       "\n",
       "       ...            RB           RCB           RCM           RDM  \\\n",
       "count  ...  15952.000000  15952.000000  15952.000000  15952.000000   \n",
       "mean   ...     56.979689     55.550464     58.506833     56.865283   \n",
       "std    ...      9.791627     12.192579      8.888040     10.310178   \n",
       "min    ...     30.000000     25.000000     30.000000     26.000000   \n",
       "25%    ...     50.000000     45.000000     53.000000     49.000000   \n",
       "50%    ...     58.000000     57.000000     59.000000     58.000000   \n",
       "75%    ...     64.000000     65.000000     65.000000     65.000000   \n",
       "max    ...     84.000000     87.000000     87.000000     85.000000   \n",
       "\n",
       "                 RF            RM            RS            RW           RWB  \\\n",
       "count  15952.000000  15952.000000  15952.000000  15952.000000  15952.000000   \n",
       "mean      59.030028     60.057736     58.204050     59.359265     57.698721   \n",
       "std        9.926988      9.349180      9.181392      9.978084      9.142825   \n",
       "min       27.000000     28.000000     31.000000     26.000000     31.000000   \n",
       "25%       53.000000     54.000000     52.000000     53.000000     51.000000   \n",
       "50%       60.000000     61.000000     59.000000     60.000000     58.000000   \n",
       "75%       66.000000     67.000000     65.000000     66.000000     64.000000   \n",
       "max       92.000000     90.000000     92.000000     91.000000     84.000000   \n",
       "\n",
       "                 ST  \n",
       "count  15952.000000  \n",
       "mean      58.204050  \n",
       "std        9.181392  \n",
       "min       31.000000  \n",
       "25%       52.000000  \n",
       "50%       59.000000  \n",
       "75%       65.000000  \n",
       "max       92.000000  \n",
       "\n",
       "[8 rows x 32 columns]"
      ]
     },
     "execution_count": 120,
     "metadata": {},
     "output_type": "execute_result"
    }
   ],
   "source": [
    "df.describe()"
   ]
  },
  {
   "cell_type": "markdown",
   "id": "0b8df924-8057-47be-ad4e-bf292b9f5fb4",
   "metadata": {},
   "source": [
    "En esta ocasión, y debido a la gran cantidad de columnas, se decidió no utilizar el profiler de pandas. Pero, se revisó en la página de dónde se obtuvieron los datos las gráficas sobre cada columna que este brindaba. De ella se pueden hacer las siguientes observaciones: \n",
    "- En las últimas columnas, el 10% de los datos son nulos. \n",
    "- Existen muchos datos atípicos\n",
    "- No se pueden observar muy bien, pero las gráficas de GK son especiales, probablemente porque la mayoría de ellas aplican solo a los porteros. \n"
   ]
  },
  {
   "cell_type": "markdown",
   "id": "4fafc6d2-2315-4a22-89bd-a393a3681540",
   "metadata": {},
   "source": [
    "## Limpieza de datos"
   ]
  },
  {
   "cell_type": "code",
   "execution_count": 121,
   "id": "0a807567-9462-4227-8ed6-bd92afedc6ad",
   "metadata": {},
   "outputs": [
    {
     "data": {
      "text/plain": [
       "'60+7'"
      ]
     },
     "execution_count": 121,
     "metadata": {},
     "output_type": "execute_result"
    }
   ],
   "source": [
    "df['Curve'][412] # Se puede observar que los números no son todos numéricos"
   ]
  },
  {
   "cell_type": "code",
   "execution_count": 122,
   "id": "56d02c58-f4a8-4070-aeb8-ed01388836f2",
   "metadata": {},
   "outputs": [],
   "source": [
    "# Convertir las columnas no númericas a numéricas"
   ]
  },
  {
   "cell_type": "code",
   "execution_count": 123,
   "id": "48bad577-532d-40cc-82e5-b5f96c204524",
   "metadata": {},
   "outputs": [
    {
     "data": {
      "text/plain": [
       "'€95.5M'"
      ]
     },
     "execution_count": 123,
     "metadata": {},
     "output_type": "execute_result"
    }
   ],
   "source": [
    "df['Value'][0]"
   ]
  },
  {
   "cell_type": "code",
   "execution_count": 124,
   "id": "4d67397a-bbce-44a5-b77d-1154d191436b",
   "metadata": {},
   "outputs": [
    {
     "data": {
      "text/plain": [
       "0         95500000\n",
       "1        105000000\n",
       "2        123000000\n",
       "3         97000000\n",
       "4         61000000\n",
       "           ...    \n",
       "17976        50000\n",
       "17977            0\n",
       "17978        60000\n",
       "17979        60000\n",
       "17980        50000\n",
       "Name: Value, Length: 17981, dtype: int32"
      ]
     },
     "execution_count": 124,
     "metadata": {},
     "output_type": "execute_result"
    }
   ],
   "source": [
    "# Columna value de dinero a valor\n",
    "\n",
    "for x in range(len(df['Value'])):\n",
    "    og = df['Value'][x]\n",
    "    temp = og.removeprefix('€')\n",
    "    temp = temp.removesuffix('M')\n",
    "    temp = temp.removesuffix('K')\n",
    "    temp = float(temp)\n",
    "    # convertir los números que eran\n",
    "    if (og[len(og) - 1] == 'M'):\n",
    "        temp = temp * 1000000\n",
    "    if (og[len(og) - 1] == 'K'):\n",
    "        temp = temp * 1000\n",
    "    temp = int(temp)\n",
    "    df.loc[x, 'Value'] = temp\n",
    "\n",
    "df = df.astype({'Value':'int'})\n",
    "df['Value']"
   ]
  },
  {
   "cell_type": "code",
   "execution_count": 125,
   "id": "e58ca43d-ead1-4c35-8d1a-6843f0407291",
   "metadata": {},
   "outputs": [
    {
     "data": {
      "text/plain": [
       "0        565000\n",
       "1        565000\n",
       "2        280000\n",
       "3        510000\n",
       "4        230000\n",
       "          ...  \n",
       "17976      1000\n",
       "17977      1000\n",
       "17978      1000\n",
       "17979      1000\n",
       "17980      1000\n",
       "Name: Wage, Length: 17981, dtype: int32"
      ]
     },
     "execution_count": 125,
     "metadata": {},
     "output_type": "execute_result"
    }
   ],
   "source": [
    "# Columna Wage de dinero a valor\n",
    "\n",
    "for x in range(len(df['Wage'])):\n",
    "    og = df['Wage'][x]\n",
    "    temp = og.removeprefix('€')\n",
    "    temp = temp.removesuffix('M')\n",
    "    temp = temp.removesuffix('K')\n",
    "    temp = float(temp)\n",
    "    # convertir los números que eran\n",
    "    if (og[len(og) - 1] == 'M'):\n",
    "        temp = temp * 1000000\n",
    "    if (og[len(og) - 1] == 'K'):\n",
    "        temp = temp * 1000\n",
    "    temp = int(temp)\n",
    "    df.loc[x, 'Wage'] = temp\n",
    "\n",
    "df = df.astype({'Wage':'int'})\n",
    "df['Wage']"
   ]
  },
  {
   "cell_type": "code",
   "execution_count": 126,
   "id": "134a327d-2ccf-4ab5-a041-a1f38732a92d",
   "metadata": {},
   "outputs": [],
   "source": [
    "# De num + num a total\n",
    "masCols = ['Acceleration', 'Aggression', 'Agility', 'Balance', 'Ball control', 'Composure', 'Crossing',\n",
    "           'Curve', 'Dribbling', 'Finishing', 'Free kick accuracy', 'GK diving', 'GK handling', 'GK positioning', \n",
    "           'GK kicking', 'GK reflexes', 'Heading accuracy', 'Interceptions', 'Jumping', 'Long passing', 'Long shots',\n",
    "           'Marking', 'Penalties', 'Positioning', 'Reactions', 'Short passing', 'Shot power', 'Sliding tackle',\n",
    "           'Sprint speed', 'Stamina', 'Standing tackle', 'Sprint speed', 'Stamina', 'Strength', 'Vision',\n",
    "           'Volleys'\n",
    "          ] # Columnas que sufren de este formato\n",
    "\n",
    "for col in masCols:\n",
    "    for x in range(len(df[col])):\n",
    "        temp = df[col][x]\n",
    "        if (type(temp) != int and type(temp) != np.int32): \n",
    "            if temp.__contains__('+'):\n",
    "                temp2 = temp.split('+')\n",
    "                a = int(temp2[0])\n",
    "                b = int(temp2[1])\n",
    "                temp = a + b\n",
    "            elif temp.__contains__('-'):\n",
    "                a = int(temp2[0])\n",
    "                b = int(temp2[1])\n",
    "                temp = a - b\n",
    "            temp = int(temp)\n",
    "        df.loc[x, col] = temp\n",
    "        \n",
    "    # cambiar el tipo de dato \n",
    "    df = df.astype({col: 'int'})"
   ]
  },
  {
   "cell_type": "code",
   "execution_count": 127,
   "id": "0b2a506b-f936-4e01-8315-08b487c0bffa",
   "metadata": {},
   "outputs": [
    {
     "name": "stdout",
     "output_type": "stream",
     "text": [
      "<class 'pandas.core.frame.DataFrame'>\n",
      "RangeIndex: 17981 entries, 0 to 17980\n",
      "Data columns (total 75 columns):\n",
      " #   Column               Non-Null Count  Dtype  \n",
      "---  ------               --------------  -----  \n",
      " 0   Unnamed: 0           17981 non-null  int64  \n",
      " 1   Name                 17981 non-null  object \n",
      " 2   Age                  17981 non-null  int64  \n",
      " 3   Photo                17981 non-null  object \n",
      " 4   Nationality          17981 non-null  object \n",
      " 5   Flag                 17981 non-null  object \n",
      " 6   Overall              17981 non-null  int64  \n",
      " 7   Potential            17981 non-null  int64  \n",
      " 8   Club                 17733 non-null  object \n",
      " 9   Club Logo            17981 non-null  object \n",
      " 10  Value                17981 non-null  int32  \n",
      " 11  Wage                 17981 non-null  int32  \n",
      " 12  Special              17981 non-null  int64  \n",
      " 13  Acceleration         17981 non-null  int32  \n",
      " 14  Aggression           17981 non-null  int32  \n",
      " 15  Agility              17981 non-null  int32  \n",
      " 16  Balance              17981 non-null  int32  \n",
      " 17  Ball control         17981 non-null  int32  \n",
      " 18  Composure            17981 non-null  int32  \n",
      " 19  Crossing             17981 non-null  int32  \n",
      " 20  Curve                17981 non-null  int32  \n",
      " 21  Dribbling            17981 non-null  int32  \n",
      " 22  Finishing            17981 non-null  int32  \n",
      " 23  Free kick accuracy   17981 non-null  int32  \n",
      " 24  GK diving            17981 non-null  int32  \n",
      " 25  GK handling          17981 non-null  int32  \n",
      " 26  GK kicking           17981 non-null  int32  \n",
      " 27  GK positioning       17981 non-null  int32  \n",
      " 28  GK reflexes          17981 non-null  int32  \n",
      " 29  Heading accuracy     17981 non-null  int32  \n",
      " 30  Interceptions        17981 non-null  int32  \n",
      " 31  Jumping              17981 non-null  int32  \n",
      " 32  Long passing         17981 non-null  int32  \n",
      " 33  Long shots           17981 non-null  int32  \n",
      " 34  Marking              17981 non-null  int32  \n",
      " 35  Penalties            17981 non-null  int32  \n",
      " 36  Positioning          17981 non-null  int32  \n",
      " 37  Reactions            17981 non-null  int32  \n",
      " 38  Short passing        17981 non-null  int32  \n",
      " 39  Shot power           17981 non-null  int32  \n",
      " 40  Sliding tackle       17981 non-null  int32  \n",
      " 41  Sprint speed         17981 non-null  int32  \n",
      " 42  Stamina              17981 non-null  int32  \n",
      " 43  Standing tackle      17981 non-null  int32  \n",
      " 44  Strength             17981 non-null  int32  \n",
      " 45  Vision               17981 non-null  int32  \n",
      " 46  Volleys              17981 non-null  int32  \n",
      " 47  CAM                  15952 non-null  float64\n",
      " 48  CB                   15952 non-null  float64\n",
      " 49  CDM                  15952 non-null  float64\n",
      " 50  CF                   15952 non-null  float64\n",
      " 51  CM                   15952 non-null  float64\n",
      " 52  ID                   17981 non-null  int64  \n",
      " 53  LAM                  15952 non-null  float64\n",
      " 54  LB                   15952 non-null  float64\n",
      " 55  LCB                  15952 non-null  float64\n",
      " 56  LCM                  15952 non-null  float64\n",
      " 57  LDM                  15952 non-null  float64\n",
      " 58  LF                   15952 non-null  float64\n",
      " 59  LM                   15952 non-null  float64\n",
      " 60  LS                   15952 non-null  float64\n",
      " 61  LW                   15952 non-null  float64\n",
      " 62  LWB                  15952 non-null  float64\n",
      " 63  Preferred Positions  17981 non-null  object \n",
      " 64  RAM                  15952 non-null  float64\n",
      " 65  RB                   15952 non-null  float64\n",
      " 66  RCB                  15952 non-null  float64\n",
      " 67  RCM                  15952 non-null  float64\n",
      " 68  RDM                  15952 non-null  float64\n",
      " 69  RF                   15952 non-null  float64\n",
      " 70  RM                   15952 non-null  float64\n",
      " 71  RS                   15952 non-null  float64\n",
      " 72  RW                   15952 non-null  float64\n",
      " 73  RWB                  15952 non-null  float64\n",
      " 74  ST                   15952 non-null  float64\n",
      "dtypes: float64(26), int32(36), int64(6), object(7)\n",
      "memory usage: 7.8+ MB\n"
     ]
    }
   ],
   "source": [
    "df.info()"
   ]
  },
  {
   "cell_type": "code",
   "execution_count": 128,
   "id": "4b30deae-325c-46af-9406-f2905c597c40",
   "metadata": {},
   "outputs": [
    {
     "data": {
      "text/plain": [
       "<AxesSubplot: >"
      ]
     },
     "execution_count": 128,
     "metadata": {},
     "output_type": "execute_result"
    },
    {
     "data": {
      "image/png": "[encoded data removed]",
      "text/plain": [
       "<Figure size 640x480 with 1 Axes>"
      ]
     },
     "metadata": {},
     "output_type": "display_data"
    }
   ],
   "source": [
    "# Revisar datos nulos\n",
    "sns.heatmap(df.isnull(), yticklabels = False, cbar = False, cmap = 'viridis')"
   ]
  },
  {
   "cell_type": "code",
   "execution_count": 129,
   "id": "391c78a5-cda9-41fe-a8f7-6135f88f8448",
   "metadata": {},
   "outputs": [],
   "source": [
    "# Botar las vacías en club\n",
    "df.dropna(subset = ['Club'], inplace = True)"
   ]
  },
  {
   "cell_type": "markdown",
   "id": "bbc91fa3-db29-442b-bb15-c09a83ffbce4",
   "metadata": {},
   "source": [
    "Según los las tablas que muestra donde se consiguieron los datos, para las columnas que se encuentran al final el 11% de los datos falta. Investigando sobre la data y sobre los jugadores, se pudo notar que Todos estos datos faltantes son de jugadores que juegan la posición\n",
    "de portero, por lo que muchos de los atributos no cuentan para ellos. \n",
    "\n",
    "Por esa misma razón se decidión eliminar las columnas con datos faltantes en vez de elimninar a los jugadores para que de esa manera no se tomaran en cuenta todos los jugadores menos porteros. "
   ]
  },
  {
   "cell_type": "code",
   "execution_count": 130,
   "id": "2b64c257-57bc-4893-bd4b-5286b6acd48c",
   "metadata": {},
   "outputs": [],
   "source": [
    "df.dropna(how='any', axis=1, inplace = True)"
   ]
  },
  {
   "cell_type": "code",
   "execution_count": 131,
   "id": "e53732ba-6f42-49bd-b7a8-2b39649ee0b3",
   "metadata": {},
   "outputs": [
    {
     "data": {
      "text/plain": [
       "<AxesSubplot: >"
      ]
     },
     "execution_count": 131,
     "metadata": {},
     "output_type": "execute_result"
    },
    {
     "data": {
      "image/png": "[encoded data removed]",
      "text/plain": [
       "<Figure size 640x480 with 1 Axes>"
      ]
     },
     "metadata": {},
     "output_type": "display_data"
    }
   ],
   "source": [
    "# Revisar si quedaron datos nulos\n",
    "sns.heatmap(df.isnull(), yticklabels = False, cbar = False, cmap = 'viridis')"
   ]
  },
  {
   "cell_type": "code",
   "execution_count": 132,
   "id": "6fc70b34-cdeb-41de-9aab-33ab9f1e35a4",
   "metadata": {},
   "outputs": [
    {
     "name": "stdout",
     "output_type": "stream",
     "text": [
      "<class 'pandas.core.frame.DataFrame'>\n",
      "Int64Index: 17733 entries, 0 to 17980\n",
      "Data columns (total 49 columns):\n",
      " #   Column               Non-Null Count  Dtype \n",
      "---  ------               --------------  ----- \n",
      " 0   Unnamed: 0           17733 non-null  int64 \n",
      " 1   Name                 17733 non-null  object\n",
      " 2   Age                  17733 non-null  int64 \n",
      " 3   Photo                17733 non-null  object\n",
      " 4   Nationality          17733 non-null  object\n",
      " 5   Flag                 17733 non-null  object\n",
      " 6   Overall              17733 non-null  int64 \n",
      " 7   Potential            17733 non-null  int64 \n",
      " 8   Club                 17733 non-null  object\n",
      " 9   Club Logo            17733 non-null  object\n",
      " 10  Value                17733 non-null  int32 \n",
      " 11  Wage                 17733 non-null  int32 \n",
      " 12  Special              17733 non-null  int64 \n",
      " 13  Acceleration         17733 non-null  int32 \n",
      " 14  Aggression           17733 non-null  int32 \n",
      " 15  Agility              17733 non-null  int32 \n",
      " 16  Balance              17733 non-null  int32 \n",
      " 17  Ball control         17733 non-null  int32 \n",
      " 18  Composure            17733 non-null  int32 \n",
      " 19  Crossing             17733 non-null  int32 \n",
      " 20  Curve                17733 non-null  int32 \n",
      " 21  Dribbling            17733 non-null  int32 \n",
      " 22  Finishing            17733 non-null  int32 \n",
      " 23  Free kick accuracy   17733 non-null  int32 \n",
      " 24  GK diving            17733 non-null  int32 \n",
      " 25  GK handling          17733 non-null  int32 \n",
      " 26  GK kicking           17733 non-null  int32 \n",
      " 27  GK positioning       17733 non-null  int32 \n",
      " 28  GK reflexes          17733 non-null  int32 \n",
      " 29  Heading accuracy     17733 non-null  int32 \n",
      " 30  Interceptions        17733 non-null  int32 \n",
      " 31  Jumping              17733 non-null  int32 \n",
      " 32  Long passing         17733 non-null  int32 \n",
      " 33  Long shots           17733 non-null  int32 \n",
      " 34  Marking              17733 non-null  int32 \n",
      " 35  Penalties            17733 non-null  int32 \n",
      " 36  Positioning          17733 non-null  int32 \n",
      " 37  Reactions            17733 non-null  int32 \n",
      " 38  Short passing        17733 non-null  int32 \n",
      " 39  Shot power           17733 non-null  int32 \n",
      " 40  Sliding tackle       17733 non-null  int32 \n",
      " 41  Sprint speed         17733 non-null  int32 \n",
      " 42  Stamina              17733 non-null  int32 \n",
      " 43  Standing tackle      17733 non-null  int32 \n",
      " 44  Strength             17733 non-null  int32 \n",
      " 45  Vision               17733 non-null  int32 \n",
      " 46  Volleys              17733 non-null  int32 \n",
      " 47  ID                   17733 non-null  int64 \n",
      " 48  Preferred Positions  17733 non-null  object\n",
      "dtypes: int32(36), int64(6), object(7)\n",
      "memory usage: 4.3+ MB\n"
     ]
    }
   ],
   "source": [
    "df.info()"
   ]
  },
  {
   "cell_type": "markdown",
   "id": "09d976b9-3e82-4d47-9d4e-6b43952a52d9",
   "metadata": {},
   "source": [
    "## Modelo\n",
    "\n",
    "Basado en: https://anderfernandez.com/en/blog/code-decision-tree-python-from-scratch/"
   ]
  },
  {
   "cell_type": "markdown",
   "id": "cc5dfb2e-5ae7-4875-bf97-ec3af4b95338",
   "metadata": {},
   "source": [
    "### Generación de dataframe con valores"
   ]
  },
  {
   "cell_type": "code",
   "execution_count": 172,
   "id": "60730a9a-7c8f-44ce-9e8a-1c03b73450b1",
   "metadata": {},
   "outputs": [
    {
     "data": {
      "text/plain": [
       "array([[0, 'Cristiano Ronaldo', 32, ..., 88, 20801, 'ST LW '],\n",
       "       [1, 'L. Messi', 30, ..., 85, 158023, 'RW '],\n",
       "       [2, 'Neymar', 25, ..., 83, 190871, 'LW '],\n",
       "       ...,\n",
       "       [17978, 'J. Young', 17, ..., 33, 231381, 'ST '],\n",
       "       [17979, 'J. Lundstram', 18, ..., 25, 238813, 'CM '],\n",
       "       [17980, 'L. Sackey', 18, ..., 19, 238308, 'ST CB ']], dtype=object)"
      ]
     },
     "execution_count": 172,
     "metadata": {},
     "output_type": "execute_result"
    }
   ],
   "source": [
    "df_X = df.drop(['Photo', 'Flag', 'Club Logo', 'Potential'], axis = 1)\n",
    "X = df_X.iloc[:, :].values\n",
    "X"
   ]
  },
  {
   "cell_type": "code",
   "execution_count": 173,
   "id": "75f72231-1ca9-423d-82a5-620c332e829a",
   "metadata": {},
   "outputs": [
    {
     "data": {
      "text/plain": [
       "array([94, 93, 94, ..., 61, 64, 64], dtype=int64)"
      ]
     },
     "execution_count": 173,
     "metadata": {},
     "output_type": "execute_result"
    }
   ],
   "source": [
    "# y = df.iloc[:, 7].values\n",
    "y = df.iloc[:, 7].values\n",
    "y"
   ]
  },
  {
   "cell_type": "markdown",
   "id": "8304d61f-f080-491a-a57f-01239312ae64",
   "metadata": {},
   "source": [
    "### Separación del modelo"
   ]
  },
  {
   "cell_type": "code",
   "execution_count": 177,
   "id": "abd251ad-b012-4065-8d73-167a85e163b1",
   "metadata": {},
   "outputs": [],
   "source": [
    "from sklearn.model_selection import train_test_split\n",
    "X_entreno, X_prueba, y_entreno, y_prueba = train_test_split(X, y, test_size = 0.2, random_state = 100)\n"
   ]
  },
  {
   "cell_type": "code",
   "execution_count": 178,
   "id": "c056bc15-3063-4e8a-a877-587af61c6c6c",
   "metadata": {},
   "outputs": [
    {
     "data": {
      "text/plain": [
       "array([[16927, 'A. Galens', 19, ..., 5, 239309, 'GK '],\n",
       "       [6813, 'Wanderson', 25, ..., 55, 230693, 'ST '],\n",
       "       [14747, 'D. Evtimov', 23, ..., 21, 211090, 'GK '],\n",
       "       ...,\n",
       "       [12309, 'Maicon Sampinho', 25, ..., 58, 230499, 'RM CF ST '],\n",
       "       [14363, 'T. Taufflieb', 24, ..., 50, 233729, 'RM RW '],\n",
       "       [5730, 'T. Kempe', 28, ..., 62, 199413, 'RM ']], dtype=object)"
      ]
     },
     "execution_count": 178,
     "metadata": {},
     "output_type": "execute_result"
    }
   ],
   "source": [
    "X_entreno "
   ]
  },
  {
   "cell_type": "code",
   "execution_count": 179,
   "id": "232b9f91-7504-4308-a39a-cc5d881d6ac9",
   "metadata": {},
   "outputs": [
    {
     "data": {
      "text/plain": [
       "array([70, 72, 68, ..., 63, 66, 70], dtype=int64)"
      ]
     },
     "execution_count": 179,
     "metadata": {},
     "output_type": "execute_result"
    }
   ],
   "source": [
    "y_entreno"
   ]
  },
  {
   "cell_type": "markdown",
   "id": "e34eeb1b-bb23-43c2-b022-26e14dd927c0",
   "metadata": {},
   "source": [
    "## Impureza de Gini y otras funciones"
   ]
  },
  {
   "cell_type": "code",
   "execution_count": 212,
   "id": "cabd1f51-5e53-4c0f-8fa5-4a7451718eac",
   "metadata": {},
   "outputs": [],
   "source": [
    "def gini(y):\n",
    "    # p = y.value_counts()/y.shape[0]\n",
    "    p = np.unique(y, return_counts = True)[1]\n",
    "    gini = 1-np.sum(p**2)\n",
    "    return gini\n",
    "    "
   ]
  },
  {
   "cell_type": "code",
   "execution_count": 213,
   "id": "4fae8333-1a1f-461f-9fc9-9d06f6fcffa4",
   "metadata": {},
   "outputs": [],
   "source": [
    "def varianza(y):\n",
    "    if (len(y) == 1):\n",
    "        return 0\n",
    "    else:\n",
    "        return y.var();"
   ]
  },
  {
   "cell_type": "code",
   "execution_count": 214,
   "id": "19de3b52-961c-412e-8492-8b8106cc607f",
   "metadata": {},
   "outputs": [],
   "source": [
    "def ganancia_info(y, mask, fun = gini):\n",
    "    a = sum(mask)\n",
    "    b = mask.shape[0] - a\n",
    "    \n",
    "    if (a == 0 or b == 0):\n",
    "        ig  = 0\n",
    "        \n",
    "    else:\n",
    "        if y.dtypes != 'O':\n",
    "            ig = varianza(y) - (a/(a+b)* varianza(y[mask])) - (b/(a+b)*varianza(y[-mask]))\n",
    "        else:\n",
    "            ig = func(y)-a/(a+b)*func(y[mask])-b/(a+b)*func(y[-mask])\n",
    "            \n",
    "    return ig"
   ]
  },
  {
   "cell_type": "code",
   "execution_count": 218,
   "id": "55b9ec5d-3ecf-4aa8-a894-18227ee511c2",
   "metadata": {},
   "outputs": [],
   "source": [
    "import itertools\n",
    "\n",
    "def opciones_categoricas(a):\n",
    "    \n",
    "    a = np.unique(a, return_counts = True)[1]\n",
    "    \n",
    "    opciones = []\n",
    "    for L in range(len(a) + 1):\n",
    "        for subset in itertootls.combinations(a, L):\n",
    "            subset = list(subset)\n",
    "            opciones.append(subset)\n",
    "            \n",
    "    return opciones[0:-1]"
   ]
  },
  {
   "cell_type": "code",
   "execution_count": 220,
   "id": "b5b58b65-20eb-4d4d-bb62-c812548e1741",
   "metadata": {},
   "outputs": [],
   "source": [
    "def max_ganancia_info_split(x, y, func=gini):\n",
    "    \n",
    "    split_value = []\n",
    "    ig = []\n",
    "    \n",
    "    variable_num = True if x.dtypes != 'O' else FAlse\n",
    "    \n",
    "    # Crear opciones\n",
    "    if variable_num:\n",
    "        opciones = np.sort(np.unique(x))[1:]\n",
    "    else:\n",
    "        opciones = opciones_categoricas(x)\n",
    "        \n",
    "    # calcular ig para todos los valroes\n",
    "    for val in opciones:\n",
    "        mask = x < val if variable_num else x.isin(val)\n",
    "        val_ig = ganancia_info(y, mak, func)\n",
    "        \n",
    "        # Agregar resultado\n",
    "        ig.append(val_ig)\n",
    "        split_value.append(val)\n",
    "        \n",
    "        \n",
    "    if len(ig) == 0:\n",
    "        return(None, None, None, False)\n",
    "    \n",
    "    else:\n",
    "        best_gi = max(ig)\n",
    "        best_ig_index = ig.index(best_ig)\n",
    "        best_split = split_value[best_ig_index]\n",
    "        return(best_ig,best_split,numeric_variable, True)"
   ]
  },
  {
   "cell_type": "code",
   "execution_count": 222,
   "id": "c6868bba-729c-4725-9858-e552cc524200",
   "metadata": {},
   "outputs": [],
   "source": [
    "def get_mejor_split(y, data):\n",
    "    masks = data.drop(y, axis = 1)"
   ]
  },
  {
   "cell_type": "code",
   "execution_count": 224,
   "id": "e450c67a-3619-46be-afcb-a40ec29687a2",
   "metadata": {},
   "outputs": [],
   "source": [
    "# Basado en https://medium.datadriveninvestor.com/easy-implementation-of-decision-tree-with-python-numpy-9ec64f05f8ae\n",
    "\n",
    "class Nodo:\n",
    "    def __init__(self):\n",
    "        \n",
    "        self.left = None\n",
    "        self.right = None\n",
    "        \n",
    "        self.column = None\n",
    "        self.threshold = None\n",
    "        \n",
    "        self.probas = None\n",
    "        self.depht = None\n",
    "        \n",
    "        self.is_terminal = False"
   ]
  },
  {
   "cell_type": "code",
   "execution_count": 229,
   "id": "75fb2c1b-8a16-4ec8-bffa-e0ebab62b7f9",
   "metadata": {},
   "outputs": [],
   "source": [
    "class ArbolDecision:\n",
    "    def __init__(self, max_deph = 3, min_sample_leaf = 1, mins_sample_split = 2):\n",
    "        \n",
    "        self.max_deph = max_deph\n",
    "        self.min_samples_leaf = min_samples_leaf\n",
    "        self.min_sample_split = min_sample_split\n",
    "        \n",
    "        self.clases = None\n",
    "        \n",
    "        self.Tree = None\n",
    "        \n",
    "    def nodoProbas(self, y):\n",
    "        probas = []\n",
    "        \n",
    "        for c in self.clases:\n",
    "            proba = y[y == c].shape[0]/y.shape[0]\n",
    "            probas.append(proba)\n",
    "        return np.asarray(probas)\n",
    "    \n",
    "    def gini(self, probas):\n",
    "        return 1 - np.sum(probas**2)\n",
    "    \n",
    "    def calcImpureza(self, y):\n",
    "        return self.gini(self.nodoProbas(y))\n",
    "    \n",
    "    def calcMejorSplit(self, X, y):\n",
    "        bestSplitCol = None\n",
    "        bestTresh = None\n",
    "        bestInfoGain = -999\n",
    "        \n",
    "        impurezaAnterior = self.calcImpureza(y)\n",
    "        \n",
    "        for c in range(x.shape[1]):\n",
    "            x_col = x[:, c]\n",
    "            \n",
    "            for x_i in x_col:\n",
    "                t = x_i # threshold\n",
    "                y_der = u[x_col > t]\n",
    "                y_iz = y[x_col <= t]\n",
    "                \n",
    "                if y_der.shape[0] == 0 or y_iz.shape[0] == 0:\n",
    "                    continue\n",
    "                    \n",
    "                impurezaDer = self.calcImpureza(y_der)\n",
    "                impurezaIz = self.calcImpureza(y_iz)\n",
    "                \n",
    "                gananciaInfo = impurezaAnterior\n",
    "                gananciaInfo -= (impurezaIz * y_iz.shape[0])\n",
    "                \n",
    "                if gananciaInfo > bestInfoGain:\n",
    "                    bsetSplitCol = c\n",
    "                    bestThresh = t\n",
    "                    bestInfoGain = gananciaInfo\n",
    "                    \n",
    "        if bestInfoGain == -999:\n",
    "            return None, None, None, None, None, None\n",
    "        \n",
    "        x_col = X[:, bestSplitCol]\n",
    "        x_iz, x_der = X[x_col <= bestThresh, :], X[x_col > bestTresh, :]\n",
    "        y_iz, y_der = y[x_col <= bestThresh], y[x_col > bestThresh]\n",
    "        \n",
    "        return bestSplitCol, bestThresh, x_iz, y_iz, x_der, y_der\n",
    "    \n",
    "    def construccionArbl(self, X, y, nodo):\n",
    "        if nodo.depth >= self.max_depth:\n",
    "            node.is_terminal = True\n",
    "            return \n",
    "        \n",
    "        if X.shape[0] < self.min_samples_split:\n",
    "            nodo.in_terminal = True\n",
    "            return \n",
    "        \n",
    "        if np.unique(y).shape[0] == 1:\n",
    "            nodo.is_terminal = True\n",
    "            return\n",
    "        \n",
    "        splitCol, thresh, x_iz, y_iz, x_der, y_der = self.calcMejorSplit(X, y)\n",
    "        \n",
    "        if splitCol is None:\n",
    "            node.is_terminal = True\n",
    "            \n",
    "        if x_iz.shape[0] < self.min_samples_leafs or x_der.shape[0] < self.min_samples_leafs:\n",
    "            node.is_terminal = True\n",
    "            return\n",
    "        \n",
    "        nodo.column = splitCol\n",
    "        nodo.threshold = thresh\n",
    "        \n",
    "        nodo.left = Nodo()\n",
    "        nodo.left.depth = nodo.depth + 1\n",
    "        nodo.left.probas = self.nodoProbas(y_iz)\n",
    "        \n",
    "        nodo.right = Nodo()\n",
    "        nodo.right.depth = nodo.depth + 1\n",
    "        nodo.rigth.probas = self.nodoProbas(y_der)\n",
    "        \n",
    "        self.construccionArbol(x_der, y_der, nodo.right)\n",
    "        self.construccionArbol(x_iz, y_iz, nodo.left)\n",
    "              \n",
    "        \n",
    "    \n",
    "    def fit(self, X, y):\n",
    "        if type(X) == pd.DataFrame:\n",
    "            X = np.asarray(X)\n",
    "            \n",
    "        self.clases = np.unique(y)\n",
    "        \n",
    "        self.Tree = Nodo()\n",
    "        self.Tree.depth = 1\n",
    "        self.Tree.probas = self.nodoProbas(y)\n",
    "        \n",
    "    def predictSamples(self, x, nodo)\n",
    "    \n",
    "    if nodo.is_terminal:\n",
    "        return nodo.probas\n",
    "\n",
    "    if x[nodo.column] > nodo.threshold:\n",
    "        probas = self.predictSample(x, nodo.right)\n",
    "    else:\n",
    "        probas = self.predictSample(x, nodo.left)\n",
    "        \n",
    "    return probas\n",
    "    \n",
    "    def predict(self, x):\n",
    "        if type(X) == pd.DataFrame:\n",
    "            X = np.asarray(X)\n",
    "            \n",
    "        predicciones = []\n",
    "        \n",
    "        for x in X:\n",
    "            pred = np.argmax(self.predictSample(x, self.Tree))\n",
    "            predicciones.append(pred)\n",
    "        \n",
    "        return np.asarray(predicciones)"
   ]
  },
  {
   "cell_type": "code",
   "execution_count": null,
   "id": "50bdf008-d50d-4e44-9850-b8a7784d5b30",
   "metadata": {},
   "outputs": [],
   "source": []
  }
 ],
 "metadata": {
  "kernelspec": {
   "display_name": "Python 3 (ipykernel)",
   "language": "python",
   "name": "python3"
  },
  "language_info": {
   "codemirror_mode": {
    "name": "ipython",
    "version": 3
   },
   "file_extension": ".py",
   "mimetype": "text/x-python",
   "name": "python",
   "nbconvert_exporter": "python",
   "pygments_lexer": "ipython3",
   "version": "3.10.2"
  }
 },
 "nbformat": 4,
 "nbformat_minor": 5
}
