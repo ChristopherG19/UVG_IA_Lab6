{
 "cells": [
  {
   "cell_type": "code",
   "execution_count": 345,
   "id": "6427cf0e-404a-44eb-9e8c-45a756c1cd5e",
   "metadata": {},
   "outputs": [],
   "source": [
    "import pandas as pd # Import Pandas for data manipulation using dataframes\n",
    "import numpy as np # Import Numpy for data statistical analysis \n",
    "import matplotlib.pyplot as plt # Import matplotlib for data visualisation\n",
    "import seaborn as sns # Statistical data visualization\n",
    "import ydata_profiling\n",
    "from quickda.clean_data import *"
   ]
  },
  {
   "cell_type": "code",
   "execution_count": 346,
   "id": "d2fd7c40-d0a7-4199-aec7-f406c06b01f7",
   "metadata": {},
   "outputs": [
    {
     "name": "stdout",
     "output_type": "stream",
     "text": [
      "<class 'pandas.core.frame.DataFrame'>\n",
      "RangeIndex: 17981 entries, 0 to 17980\n",
      "Data columns (total 75 columns):\n",
      " #   Column               Non-Null Count  Dtype  \n",
      "---  ------               --------------  -----  \n",
      " 0   Unnamed: 0           17981 non-null  int64  \n",
      " 1   Name                 17981 non-null  object \n",
      " 2   Age                  17981 non-null  int64  \n",
      " 3   Photo                17981 non-null  object \n",
      " 4   Nationality          17981 non-null  object \n",
      " 5   Flag                 17981 non-null  object \n",
      " 6   Overall              17981 non-null  int64  \n",
      " 7   Potential            17981 non-null  int64  \n",
      " 8   Club                 17733 non-null  object \n",
      " 9   Club Logo            17981 non-null  object \n",
      " 10  Value                17981 non-null  object \n",
      " 11  Wage                 17981 non-null  object \n",
      " 12  Special              17981 non-null  int64  \n",
      " 13  Acceleration         17981 non-null  object \n",
      " 14  Aggression           17981 non-null  object \n",
      " 15  Agility              17981 non-null  object \n",
      " 16  Balance              17981 non-null  object \n",
      " 17  Ball control         17981 non-null  object \n",
      " 18  Composure            17981 non-null  object \n",
      " 19  Crossing             17981 non-null  object \n",
      " 20  Curve                17981 non-null  object \n",
      " 21  Dribbling            17981 non-null  object \n",
      " 22  Finishing            17981 non-null  object \n",
      " 23  Free kick accuracy   17981 non-null  object \n",
      " 24  GK diving            17981 non-null  object \n",
      " 25  GK handling          17981 non-null  object \n",
      " 26  GK kicking           17981 non-null  object \n",
      " 27  GK positioning       17981 non-null  object \n",
      " 28  GK reflexes          17981 non-null  object \n",
      " 29  Heading accuracy     17981 non-null  object \n",
      " 30  Interceptions        17981 non-null  object \n",
      " 31  Jumping              17981 non-null  object \n",
      " 32  Long passing         17981 non-null  object \n",
      " 33  Long shots           17981 non-null  object \n",
      " 34  Marking              17981 non-null  object \n",
      " 35  Penalties            17981 non-null  object \n",
      " 36  Positioning          17981 non-null  object \n",
      " 37  Reactions            17981 non-null  object \n",
      " 38  Short passing        17981 non-null  object \n",
      " 39  Shot power           17981 non-null  object \n",
      " 40  Sliding tackle       17981 non-null  object \n",
      " 41  Sprint speed         17981 non-null  object \n",
      " 42  Stamina              17981 non-null  object \n",
      " 43  Standing tackle      17981 non-null  object \n",
      " 44  Strength             17981 non-null  object \n",
      " 45  Vision               17981 non-null  object \n",
      " 46  Volleys              17981 non-null  object \n",
      " 47  CAM                  15952 non-null  float64\n",
      " 48  CB                   15952 non-null  float64\n",
      " 49  CDM                  15952 non-null  float64\n",
      " 50  CF                   15952 non-null  float64\n",
      " 51  CM                   15952 non-null  float64\n",
      " 52  ID                   17981 non-null  int64  \n",
      " 53  LAM                  15952 non-null  float64\n",
      " 54  LB                   15952 non-null  float64\n",
      " 55  LCB                  15952 non-null  float64\n",
      " 56  LCM                  15952 non-null  float64\n",
      " 57  LDM                  15952 non-null  float64\n",
      " 58  LF                   15952 non-null  float64\n",
      " 59  LM                   15952 non-null  float64\n",
      " 60  LS                   15952 non-null  float64\n",
      " 61  LW                   15952 non-null  float64\n",
      " 62  LWB                  15952 non-null  float64\n",
      " 63  Preferred Positions  17981 non-null  object \n",
      " 64  RAM                  15952 non-null  float64\n",
      " 65  RB                   15952 non-null  float64\n",
      " 66  RCB                  15952 non-null  float64\n",
      " 67  RCM                  15952 non-null  float64\n",
      " 68  RDM                  15952 non-null  float64\n",
      " 69  RF                   15952 non-null  float64\n",
      " 70  RM                   15952 non-null  float64\n",
      " 71  RS                   15952 non-null  float64\n",
      " 72  RW                   15952 non-null  float64\n",
      " 73  RWB                  15952 non-null  float64\n",
      " 74  ST                   15952 non-null  float64\n",
      "dtypes: float64(26), int64(6), object(43)\n",
      "memory usage: 10.3+ MB\n"
     ]
    }
   ],
   "source": [
    "# Leer archivo csv\n",
    "df = pd.read_csv('./Datasets/CompleteDataset.csv', low_memory=False)\n",
    "df.info()"
   ]
  },
  {
   "cell_type": "code",
   "execution_count": 347,
   "id": "aa6b9529-43a6-4d7f-8995-5d9bdc30cd3c",
   "metadata": {},
   "outputs": [
    {
     "data": {
      "text/html": [
       "<div>\n",
       "<style scoped>\n",
       "    .dataframe tbody tr th:only-of-type {\n",
       "        vertical-align: middle;\n",
       "    }\n",
       "\n",
       "    .dataframe tbody tr th {\n",
       "        vertical-align: top;\n",
       "    }\n",
       "\n",
       "    .dataframe thead th {\n",
       "        text-align: right;\n",
       "    }\n",
       "</style>\n",
       "<table border=\"1\" class=\"dataframe\">\n",
       "  <thead>\n",
       "    <tr style=\"text-align: right;\">\n",
       "      <th></th>\n",
       "      <th>Unnamed: 0</th>\n",
       "      <th>Age</th>\n",
       "      <th>Overall</th>\n",
       "      <th>Potential</th>\n",
       "      <th>Special</th>\n",
       "      <th>CAM</th>\n",
       "      <th>CB</th>\n",
       "      <th>CDM</th>\n",
       "      <th>CF</th>\n",
       "      <th>CM</th>\n",
       "      <th>...</th>\n",
       "      <th>RB</th>\n",
       "      <th>RCB</th>\n",
       "      <th>RCM</th>\n",
       "      <th>RDM</th>\n",
       "      <th>RF</th>\n",
       "      <th>RM</th>\n",
       "      <th>RS</th>\n",
       "      <th>RW</th>\n",
       "      <th>RWB</th>\n",
       "      <th>ST</th>\n",
       "    </tr>\n",
       "  </thead>\n",
       "  <tbody>\n",
       "    <tr>\n",
       "      <th>count</th>\n",
       "      <td>17981.000000</td>\n",
       "      <td>17981.000000</td>\n",
       "      <td>17981.000000</td>\n",
       "      <td>17981.000000</td>\n",
       "      <td>17981.000000</td>\n",
       "      <td>15952.000000</td>\n",
       "      <td>15952.000000</td>\n",
       "      <td>15952.000000</td>\n",
       "      <td>15952.000000</td>\n",
       "      <td>15952.000000</td>\n",
       "      <td>...</td>\n",
       "      <td>15952.000000</td>\n",
       "      <td>15952.000000</td>\n",
       "      <td>15952.000000</td>\n",
       "      <td>15952.000000</td>\n",
       "      <td>15952.000000</td>\n",
       "      <td>15952.000000</td>\n",
       "      <td>15952.000000</td>\n",
       "      <td>15952.000000</td>\n",
       "      <td>15952.000000</td>\n",
       "      <td>15952.000000</td>\n",
       "    </tr>\n",
       "    <tr>\n",
       "      <th>mean</th>\n",
       "      <td>8990.000000</td>\n",
       "      <td>25.144541</td>\n",
       "      <td>66.247984</td>\n",
       "      <td>71.190813</td>\n",
       "      <td>1594.095100</td>\n",
       "      <td>59.251755</td>\n",
       "      <td>55.550464</td>\n",
       "      <td>56.865283</td>\n",
       "      <td>59.030028</td>\n",
       "      <td>58.506833</td>\n",
       "      <td>...</td>\n",
       "      <td>56.979689</td>\n",
       "      <td>55.550464</td>\n",
       "      <td>58.506833</td>\n",
       "      <td>56.865283</td>\n",
       "      <td>59.030028</td>\n",
       "      <td>60.057736</td>\n",
       "      <td>58.204050</td>\n",
       "      <td>59.359265</td>\n",
       "      <td>57.698721</td>\n",
       "      <td>58.204050</td>\n",
       "    </tr>\n",
       "    <tr>\n",
       "      <th>std</th>\n",
       "      <td>5190.811931</td>\n",
       "      <td>4.614272</td>\n",
       "      <td>6.987965</td>\n",
       "      <td>6.102199</td>\n",
       "      <td>272.151435</td>\n",
       "      <td>9.880164</td>\n",
       "      <td>12.192579</td>\n",
       "      <td>10.310178</td>\n",
       "      <td>9.926988</td>\n",
       "      <td>8.888040</td>\n",
       "      <td>...</td>\n",
       "      <td>9.791627</td>\n",
       "      <td>12.192579</td>\n",
       "      <td>8.888040</td>\n",
       "      <td>10.310178</td>\n",
       "      <td>9.926988</td>\n",
       "      <td>9.349180</td>\n",
       "      <td>9.181392</td>\n",
       "      <td>9.978084</td>\n",
       "      <td>9.142825</td>\n",
       "      <td>9.181392</td>\n",
       "    </tr>\n",
       "    <tr>\n",
       "      <th>min</th>\n",
       "      <td>0.000000</td>\n",
       "      <td>16.000000</td>\n",
       "      <td>46.000000</td>\n",
       "      <td>46.000000</td>\n",
       "      <td>728.000000</td>\n",
       "      <td>27.000000</td>\n",
       "      <td>25.000000</td>\n",
       "      <td>26.000000</td>\n",
       "      <td>27.000000</td>\n",
       "      <td>30.000000</td>\n",
       "      <td>...</td>\n",
       "      <td>30.000000</td>\n",
       "      <td>25.000000</td>\n",
       "      <td>30.000000</td>\n",
       "      <td>26.000000</td>\n",
       "      <td>27.000000</td>\n",
       "      <td>28.000000</td>\n",
       "      <td>31.000000</td>\n",
       "      <td>26.000000</td>\n",
       "      <td>31.000000</td>\n",
       "      <td>31.000000</td>\n",
       "    </tr>\n",
       "    <tr>\n",
       "      <th>25%</th>\n",
       "      <td>4495.000000</td>\n",
       "      <td>21.000000</td>\n",
       "      <td>62.000000</td>\n",
       "      <td>67.000000</td>\n",
       "      <td>1449.000000</td>\n",
       "      <td>53.000000</td>\n",
       "      <td>45.000000</td>\n",
       "      <td>49.000000</td>\n",
       "      <td>53.000000</td>\n",
       "      <td>53.000000</td>\n",
       "      <td>...</td>\n",
       "      <td>50.000000</td>\n",
       "      <td>45.000000</td>\n",
       "      <td>53.000000</td>\n",
       "      <td>49.000000</td>\n",
       "      <td>53.000000</td>\n",
       "      <td>54.000000</td>\n",
       "      <td>52.000000</td>\n",
       "      <td>53.000000</td>\n",
       "      <td>51.000000</td>\n",
       "      <td>52.000000</td>\n",
       "    </tr>\n",
       "    <tr>\n",
       "      <th>50%</th>\n",
       "      <td>8990.000000</td>\n",
       "      <td>25.000000</td>\n",
       "      <td>66.000000</td>\n",
       "      <td>71.000000</td>\n",
       "      <td>1633.000000</td>\n",
       "      <td>60.000000</td>\n",
       "      <td>57.000000</td>\n",
       "      <td>58.000000</td>\n",
       "      <td>60.000000</td>\n",
       "      <td>59.000000</td>\n",
       "      <td>...</td>\n",
       "      <td>58.000000</td>\n",
       "      <td>57.000000</td>\n",
       "      <td>59.000000</td>\n",
       "      <td>58.000000</td>\n",
       "      <td>60.000000</td>\n",
       "      <td>61.000000</td>\n",
       "      <td>59.000000</td>\n",
       "      <td>60.000000</td>\n",
       "      <td>58.000000</td>\n",
       "      <td>59.000000</td>\n",
       "    </tr>\n",
       "    <tr>\n",
       "      <th>75%</th>\n",
       "      <td>13485.000000</td>\n",
       "      <td>28.000000</td>\n",
       "      <td>71.000000</td>\n",
       "      <td>75.000000</td>\n",
       "      <td>1786.000000</td>\n",
       "      <td>66.000000</td>\n",
       "      <td>65.000000</td>\n",
       "      <td>65.000000</td>\n",
       "      <td>66.000000</td>\n",
       "      <td>65.000000</td>\n",
       "      <td>...</td>\n",
       "      <td>64.000000</td>\n",
       "      <td>65.000000</td>\n",
       "      <td>65.000000</td>\n",
       "      <td>65.000000</td>\n",
       "      <td>66.000000</td>\n",
       "      <td>67.000000</td>\n",
       "      <td>65.000000</td>\n",
       "      <td>66.000000</td>\n",
       "      <td>64.000000</td>\n",
       "      <td>65.000000</td>\n",
       "    </tr>\n",
       "    <tr>\n",
       "      <th>max</th>\n",
       "      <td>17980.000000</td>\n",
       "      <td>47.000000</td>\n",
       "      <td>94.000000</td>\n",
       "      <td>94.000000</td>\n",
       "      <td>2291.000000</td>\n",
       "      <td>92.000000</td>\n",
       "      <td>87.000000</td>\n",
       "      <td>85.000000</td>\n",
       "      <td>92.000000</td>\n",
       "      <td>87.000000</td>\n",
       "      <td>...</td>\n",
       "      <td>84.000000</td>\n",
       "      <td>87.000000</td>\n",
       "      <td>87.000000</td>\n",
       "      <td>85.000000</td>\n",
       "      <td>92.000000</td>\n",
       "      <td>90.000000</td>\n",
       "      <td>92.000000</td>\n",
       "      <td>91.000000</td>\n",
       "      <td>84.000000</td>\n",
       "      <td>92.000000</td>\n",
       "    </tr>\n",
       "  </tbody>\n",
       "</table>\n",
       "<p>8 rows × 32 columns</p>\n",
       "</div>"
      ],
      "text/plain": [
       "         Unnamed: 0           Age       Overall     Potential       Special  \\\n",
       "count  17981.000000  17981.000000  17981.000000  17981.000000  17981.000000   \n",
       "mean    8990.000000     25.144541     66.247984     71.190813   1594.095100   \n",
       "std     5190.811931      4.614272      6.987965      6.102199    272.151435   \n",
       "min        0.000000     16.000000     46.000000     46.000000    728.000000   \n",
       "25%     4495.000000     21.000000     62.000000     67.000000   1449.000000   \n",
       "50%     8990.000000     25.000000     66.000000     71.000000   1633.000000   \n",
       "75%    13485.000000     28.000000     71.000000     75.000000   1786.000000   \n",
       "max    17980.000000     47.000000     94.000000     94.000000   2291.000000   \n",
       "\n",
       "                CAM            CB           CDM            CF            CM  \\\n",
       "count  15952.000000  15952.000000  15952.000000  15952.000000  15952.000000   \n",
       "mean      59.251755     55.550464     56.865283     59.030028     58.506833   \n",
       "std        9.880164     12.192579     10.310178      9.926988      8.888040   \n",
       "min       27.000000     25.000000     26.000000     27.000000     30.000000   \n",
       "25%       53.000000     45.000000     49.000000     53.000000     53.000000   \n",
       "50%       60.000000     57.000000     58.000000     60.000000     59.000000   \n",
       "75%       66.000000     65.000000     65.000000     66.000000     65.000000   \n",
       "max       92.000000     87.000000     85.000000     92.000000     87.000000   \n",
       "\n",
       "       ...            RB           RCB           RCM           RDM  \\\n",
       "count  ...  15952.000000  15952.000000  15952.000000  15952.000000   \n",
       "mean   ...     56.979689     55.550464     58.506833     56.865283   \n",
       "std    ...      9.791627     12.192579      8.888040     10.310178   \n",
       "min    ...     30.000000     25.000000     30.000000     26.000000   \n",
       "25%    ...     50.000000     45.000000     53.000000     49.000000   \n",
       "50%    ...     58.000000     57.000000     59.000000     58.000000   \n",
       "75%    ...     64.000000     65.000000     65.000000     65.000000   \n",
       "max    ...     84.000000     87.000000     87.000000     85.000000   \n",
       "\n",
       "                 RF            RM            RS            RW           RWB  \\\n",
       "count  15952.000000  15952.000000  15952.000000  15952.000000  15952.000000   \n",
       "mean      59.030028     60.057736     58.204050     59.359265     57.698721   \n",
       "std        9.926988      9.349180      9.181392      9.978084      9.142825   \n",
       "min       27.000000     28.000000     31.000000     26.000000     31.000000   \n",
       "25%       53.000000     54.000000     52.000000     53.000000     51.000000   \n",
       "50%       60.000000     61.000000     59.000000     60.000000     58.000000   \n",
       "75%       66.000000     67.000000     65.000000     66.000000     64.000000   \n",
       "max       92.000000     90.000000     92.000000     91.000000     84.000000   \n",
       "\n",
       "                 ST  \n",
       "count  15952.000000  \n",
       "mean      58.204050  \n",
       "std        9.181392  \n",
       "min       31.000000  \n",
       "25%       52.000000  \n",
       "50%       59.000000  \n",
       "75%       65.000000  \n",
       "max       92.000000  \n",
       "\n",
       "[8 rows x 32 columns]"
      ]
     },
     "execution_count": 347,
     "metadata": {},
     "output_type": "execute_result"
    }
   ],
   "source": [
    "df.describe()"
   ]
  },
  {
   "cell_type": "markdown",
   "id": "0b8df924-8057-47be-ad4e-bf292b9f5fb4",
   "metadata": {},
   "source": [
    "En esta ocasión, y debido a la gran cantidad de columnas, se decidió no utilizar el profiler de pandas. Pero, se revisó en la página de dónde se obtuvieron los datos las gráficas sobre cada columna que este brindaba. De ella se pueden hacer las siguientes observaciones: \n",
    "- En las últimas columnas, el 10% de los datos son nulos. \n",
    "- Existen muchos datos atípicos\n",
    "- No se pueden observar muy bien, pero las gráficas de GK son especiales, probablemente porque la mayoría de ellas aplican solo a los porteros. \n"
   ]
  },
  {
   "cell_type": "markdown",
   "id": "4fafc6d2-2315-4a22-89bd-a393a3681540",
   "metadata": {},
   "source": [
    "## Limpieza de datos"
   ]
  },
  {
   "cell_type": "code",
   "execution_count": 348,
   "id": "0a807567-9462-4227-8ed6-bd92afedc6ad",
   "metadata": {},
   "outputs": [
    {
     "data": {
      "text/plain": [
       "'60+7'"
      ]
     },
     "execution_count": 348,
     "metadata": {},
     "output_type": "execute_result"
    }
   ],
   "source": [
    "df['Curve'][412] # Se puede observar que los números no son todos numéricos"
   ]
  },
  {
   "cell_type": "code",
   "execution_count": 349,
   "id": "56d02c58-f4a8-4070-aeb8-ed01388836f2",
   "metadata": {},
   "outputs": [],
   "source": [
    "# Convertir las columnas no númericas a numéricas"
   ]
  },
  {
   "cell_type": "code",
   "execution_count": 350,
   "id": "48bad577-532d-40cc-82e5-b5f96c204524",
   "metadata": {},
   "outputs": [
    {
     "data": {
      "text/plain": [
       "'€95.5M'"
      ]
     },
     "execution_count": 350,
     "metadata": {},
     "output_type": "execute_result"
    }
   ],
   "source": [
    "df['Value'][0]"
   ]
  },
  {
   "cell_type": "code",
   "execution_count": 351,
   "id": "4d67397a-bbce-44a5-b77d-1154d191436b",
   "metadata": {},
   "outputs": [
    {
     "data": {
      "text/plain": [
       "0         95500000\n",
       "1        105000000\n",
       "2        123000000\n",
       "3         97000000\n",
       "4         61000000\n",
       "           ...    \n",
       "17976        50000\n",
       "17977            0\n",
       "17978        60000\n",
       "17979        60000\n",
       "17980        50000\n",
       "Name: Value, Length: 17981, dtype: int32"
      ]
     },
     "execution_count": 351,
     "metadata": {},
     "output_type": "execute_result"
    }
   ],
   "source": [
    "# Columna value de dinero a valor\n",
    "\n",
    "for x in range(len(df['Value'])):\n",
    "    og = df['Value'][x]\n",
    "    temp = og.removeprefix('€')\n",
    "    temp = temp.removesuffix('M')\n",
    "    temp = temp.removesuffix('K')\n",
    "    temp = float(temp)\n",
    "    # convertir los números que eran\n",
    "    if (og[len(og) - 1] == 'M'):\n",
    "        temp = temp * 1000000\n",
    "    if (og[len(og) - 1] == 'K'):\n",
    "        temp = temp * 1000\n",
    "    temp = int(temp)\n",
    "    df.loc[x, 'Value'] = temp\n",
    "\n",
    "df = df.astype({'Value':'int'})\n",
    "df['Value']"
   ]
  },
  {
   "cell_type": "code",
   "execution_count": 352,
   "id": "e58ca43d-ead1-4c35-8d1a-6843f0407291",
   "metadata": {},
   "outputs": [
    {
     "data": {
      "text/plain": [
       "0        565000\n",
       "1        565000\n",
       "2        280000\n",
       "3        510000\n",
       "4        230000\n",
       "          ...  \n",
       "17976      1000\n",
       "17977      1000\n",
       "17978      1000\n",
       "17979      1000\n",
       "17980      1000\n",
       "Name: Wage, Length: 17981, dtype: int32"
      ]
     },
     "execution_count": 352,
     "metadata": {},
     "output_type": "execute_result"
    }
   ],
   "source": [
    "# Columna Wage de dinero a valor\n",
    "\n",
    "for x in range(len(df['Wage'])):\n",
    "    og = df['Wage'][x]\n",
    "    temp = og.removeprefix('€')\n",
    "    temp = temp.removesuffix('M')\n",
    "    temp = temp.removesuffix('K')\n",
    "    temp = float(temp)\n",
    "    # convertir los números que eran\n",
    "    if (og[len(og) - 1] == 'M'):\n",
    "        temp = temp * 1000000\n",
    "    if (og[len(og) - 1] == 'K'):\n",
    "        temp = temp * 1000\n",
    "    temp = int(temp)\n",
    "    df.loc[x, 'Wage'] = temp\n",
    "\n",
    "df = df.astype({'Wage':'int'})\n",
    "df['Wage']"
   ]
  },
  {
   "cell_type": "code",
   "execution_count": 353,
   "id": "134a327d-2ccf-4ab5-a041-a1f38732a92d",
   "metadata": {},
   "outputs": [],
   "source": [
    "# De num + num a total\n",
    "masCols = ['Acceleration', 'Aggression', 'Agility', 'Balance', 'Ball control', 'Composure', 'Crossing',\n",
    "           'Curve', 'Dribbling', 'Finishing', 'Free kick accuracy', 'GK diving', 'GK handling', 'GK positioning', \n",
    "           'GK kicking', 'GK reflexes', 'Heading accuracy', 'Interceptions', 'Jumping', 'Long passing', 'Long shots',\n",
    "           'Marking', 'Penalties', 'Positioning', 'Reactions', 'Short passing', 'Shot power', 'Sliding tackle',\n",
    "           'Sprint speed', 'Stamina', 'Standing tackle', 'Sprint speed', 'Stamina', 'Strength', 'Vision',\n",
    "           'Volleys'\n",
    "          ] # Columnas que sufren de este formato\n",
    "\n",
    "for col in masCols:\n",
    "    for x in range(len(df[col])):\n",
    "        temp = df[col][x]\n",
    "        if (type(temp) != int and type(temp) != np.int32): \n",
    "            if temp.__contains__('+'):\n",
    "                temp2 = temp.split('+')\n",
    "                a = int(temp2[0])\n",
    "                b = int(temp2[1])\n",
    "                temp = a + b\n",
    "            elif temp.__contains__('-'):\n",
    "                a = int(temp2[0])\n",
    "                b = int(temp2[1])\n",
    "                temp = a - b\n",
    "            temp = int(temp)\n",
    "        df.loc[x, col] = temp\n",
    "        \n",
    "    # cambiar el tipo de dato \n",
    "    df = df.astype({col: 'int'})"
   ]
  },
  {
   "cell_type": "code",
   "execution_count": 354,
   "id": "0b2a506b-f936-4e01-8315-08b487c0bffa",
   "metadata": {},
   "outputs": [
    {
     "name": "stdout",
     "output_type": "stream",
     "text": [
      "<class 'pandas.core.frame.DataFrame'>\n",
      "RangeIndex: 17981 entries, 0 to 17980\n",
      "Data columns (total 75 columns):\n",
      " #   Column               Non-Null Count  Dtype  \n",
      "---  ------               --------------  -----  \n",
      " 0   Unnamed: 0           17981 non-null  int64  \n",
      " 1   Name                 17981 non-null  object \n",
      " 2   Age                  17981 non-null  int64  \n",
      " 3   Photo                17981 non-null  object \n",
      " 4   Nationality          17981 non-null  object \n",
      " 5   Flag                 17981 non-null  object \n",
      " 6   Overall              17981 non-null  int64  \n",
      " 7   Potential            17981 non-null  int64  \n",
      " 8   Club                 17733 non-null  object \n",
      " 9   Club Logo            17981 non-null  object \n",
      " 10  Value                17981 non-null  int32  \n",
      " 11  Wage                 17981 non-null  int32  \n",
      " 12  Special              17981 non-null  int64  \n",
      " 13  Acceleration         17981 non-null  int32  \n",
      " 14  Aggression           17981 non-null  int32  \n",
      " 15  Agility              17981 non-null  int32  \n",
      " 16  Balance              17981 non-null  int32  \n",
      " 17  Ball control         17981 non-null  int32  \n",
      " 18  Composure            17981 non-null  int32  \n",
      " 19  Crossing             17981 non-null  int32  \n",
      " 20  Curve                17981 non-null  int32  \n",
      " 21  Dribbling            17981 non-null  int32  \n",
      " 22  Finishing            17981 non-null  int32  \n",
      " 23  Free kick accuracy   17981 non-null  int32  \n",
      " 24  GK diving            17981 non-null  int32  \n",
      " 25  GK handling          17981 non-null  int32  \n",
      " 26  GK kicking           17981 non-null  int32  \n",
      " 27  GK positioning       17981 non-null  int32  \n",
      " 28  GK reflexes          17981 non-null  int32  \n",
      " 29  Heading accuracy     17981 non-null  int32  \n",
      " 30  Interceptions        17981 non-null  int32  \n",
      " 31  Jumping              17981 non-null  int32  \n",
      " 32  Long passing         17981 non-null  int32  \n",
      " 33  Long shots           17981 non-null  int32  \n",
      " 34  Marking              17981 non-null  int32  \n",
      " 35  Penalties            17981 non-null  int32  \n",
      " 36  Positioning          17981 non-null  int32  \n",
      " 37  Reactions            17981 non-null  int32  \n",
      " 38  Short passing        17981 non-null  int32  \n",
      " 39  Shot power           17981 non-null  int32  \n",
      " 40  Sliding tackle       17981 non-null  int32  \n",
      " 41  Sprint speed         17981 non-null  int32  \n",
      " 42  Stamina              17981 non-null  int32  \n",
      " 43  Standing tackle      17981 non-null  int32  \n",
      " 44  Strength             17981 non-null  int32  \n",
      " 45  Vision               17981 non-null  int32  \n",
      " 46  Volleys              17981 non-null  int32  \n",
      " 47  CAM                  15952 non-null  float64\n",
      " 48  CB                   15952 non-null  float64\n",
      " 49  CDM                  15952 non-null  float64\n",
      " 50  CF                   15952 non-null  float64\n",
      " 51  CM                   15952 non-null  float64\n",
      " 52  ID                   17981 non-null  int64  \n",
      " 53  LAM                  15952 non-null  float64\n",
      " 54  LB                   15952 non-null  float64\n",
      " 55  LCB                  15952 non-null  float64\n",
      " 56  LCM                  15952 non-null  float64\n",
      " 57  LDM                  15952 non-null  float64\n",
      " 58  LF                   15952 non-null  float64\n",
      " 59  LM                   15952 non-null  float64\n",
      " 60  LS                   15952 non-null  float64\n",
      " 61  LW                   15952 non-null  float64\n",
      " 62  LWB                  15952 non-null  float64\n",
      " 63  Preferred Positions  17981 non-null  object \n",
      " 64  RAM                  15952 non-null  float64\n",
      " 65  RB                   15952 non-null  float64\n",
      " 66  RCB                  15952 non-null  float64\n",
      " 67  RCM                  15952 non-null  float64\n",
      " 68  RDM                  15952 non-null  float64\n",
      " 69  RF                   15952 non-null  float64\n",
      " 70  RM                   15952 non-null  float64\n",
      " 71  RS                   15952 non-null  float64\n",
      " 72  RW                   15952 non-null  float64\n",
      " 73  RWB                  15952 non-null  float64\n",
      " 74  ST                   15952 non-null  float64\n",
      "dtypes: float64(26), int32(36), int64(6), object(7)\n",
      "memory usage: 7.8+ MB\n"
     ]
    }
   ],
   "source": [
    "df.info()"
   ]
  },
  {
   "cell_type": "code",
   "execution_count": 355,
   "id": "4b30deae-325c-46af-9406-f2905c597c40",
   "metadata": {},
   "outputs": [
    {
     "data": {
      "text/plain": [
       "<AxesSubplot: >"
      ]
     },
     "execution_count": 355,
     "metadata": {},
     "output_type": "execute_result"
    },
    {
     "data": {
      "image/png": "[encoded data removed]",
      "text/plain": [
       "<Figure size 640x480 with 1 Axes>"
      ]
     },
     "metadata": {},
     "output_type": "display_data"
    }
   ],
   "source": [
    "# Revisar datos nulos\n",
    "sns.heatmap(df.isnull(), yticklabels = False, cbar = False, cmap = 'viridis')"
   ]
  },
  {
   "cell_type": "code",
   "execution_count": 356,
   "id": "391c78a5-cda9-41fe-a8f7-6135f88f8448",
   "metadata": {},
   "outputs": [],
   "source": [
    "# Botar las vacías en club\n",
    "df.dropna(subset = ['Club'], inplace = True)"
   ]
  },
  {
   "cell_type": "markdown",
   "id": "bbc91fa3-db29-442b-bb15-c09a83ffbce4",
   "metadata": {},
   "source": [
    "Según los las tablas que muestra donde se consiguieron los datos, para las columnas que se encuentran al final el 11% de los datos falta. Investigando sobre la data y sobre los jugadores, se pudo notar que Todos estos datos faltantes son de jugadores que juegan la posición\n",
    "de portero, por lo que muchos de los atributos no cuentan para ellos. \n",
    "\n",
    "Por esa misma razón se decidión eliminar las columnas con datos faltantes en vez de elimninar a los jugadores para que de esa manera no se tomaran en cuenta todos los jugadores menos porteros. "
   ]
  },
  {
   "cell_type": "code",
   "execution_count": 357,
   "id": "2b64c257-57bc-4893-bd4b-5286b6acd48c",
   "metadata": {},
   "outputs": [],
   "source": [
    "df.dropna(how='any', axis=1, inplace = True)"
   ]
  },
  {
   "cell_type": "code",
   "execution_count": 358,
   "id": "e53732ba-6f42-49bd-b7a8-2b39649ee0b3",
   "metadata": {},
   "outputs": [
    {
     "data": {
      "text/plain": [
       "<AxesSubplot: >"
      ]
     },
     "execution_count": 358,
     "metadata": {},
     "output_type": "execute_result"
    },
    {
     "data": {
      "image/png": "[encoded data removed]",
      "text/plain": [
       "<Figure size 640x480 with 1 Axes>"
      ]
     },
     "metadata": {},
     "output_type": "display_data"
    }
   ],
   "source": [
    "# Revisar si quedaron datos nulos\n",
    "sns.heatmap(df.isnull(), yticklabels = False, cbar = False, cmap = 'viridis')"
   ]
  },
  {
   "cell_type": "code",
   "execution_count": 359,
   "id": "b2931f9e-9c42-4db6-ba44-8741f2299fb8",
   "metadata": {},
   "outputs": [],
   "source": [
    "# botamos otra columnas como el nombre, foto y bandera que no ayudan en el modelo\n",
    "df = df.drop('Unnamed: 0', axis = 1)\n",
    "df = df.drop('Name', axis = 1)\n",
    "df = df.drop('Photo', axis = 1)\n",
    "df = df.drop('Flag', axis = 1)\n",
    "df = df.drop('Club Logo', axis = 1)\n",
    "df = df.drop('ID', axis = 1)"
   ]
  },
  {
   "cell_type": "code",
   "execution_count": 360,
   "id": "6fc70b34-cdeb-41de-9aab-33ab9f1e35a4",
   "metadata": {},
   "outputs": [
    {
     "name": "stdout",
     "output_type": "stream",
     "text": [
      "<class 'pandas.core.frame.DataFrame'>\n",
      "Int64Index: 17733 entries, 0 to 17980\n",
      "Data columns (total 43 columns):\n",
      " #   Column               Non-Null Count  Dtype \n",
      "---  ------               --------------  ----- \n",
      " 0   Age                  17733 non-null  int64 \n",
      " 1   Nationality          17733 non-null  object\n",
      " 2   Overall              17733 non-null  int64 \n",
      " 3   Potential            17733 non-null  int64 \n",
      " 4   Club                 17733 non-null  object\n",
      " 5   Value                17733 non-null  int32 \n",
      " 6   Wage                 17733 non-null  int32 \n",
      " 7   Special              17733 non-null  int64 \n",
      " 8   Acceleration         17733 non-null  int32 \n",
      " 9   Aggression           17733 non-null  int32 \n",
      " 10  Agility              17733 non-null  int32 \n",
      " 11  Balance              17733 non-null  int32 \n",
      " 12  Ball control         17733 non-null  int32 \n",
      " 13  Composure            17733 non-null  int32 \n",
      " 14  Crossing             17733 non-null  int32 \n",
      " 15  Curve                17733 non-null  int32 \n",
      " 16  Dribbling            17733 non-null  int32 \n",
      " 17  Finishing            17733 non-null  int32 \n",
      " 18  Free kick accuracy   17733 non-null  int32 \n",
      " 19  GK diving            17733 non-null  int32 \n",
      " 20  GK handling          17733 non-null  int32 \n",
      " 21  GK kicking           17733 non-null  int32 \n",
      " 22  GK positioning       17733 non-null  int32 \n",
      " 23  GK reflexes          17733 non-null  int32 \n",
      " 24  Heading accuracy     17733 non-null  int32 \n",
      " 25  Interceptions        17733 non-null  int32 \n",
      " 26  Jumping              17733 non-null  int32 \n",
      " 27  Long passing         17733 non-null  int32 \n",
      " 28  Long shots           17733 non-null  int32 \n",
      " 29  Marking              17733 non-null  int32 \n",
      " 30  Penalties            17733 non-null  int32 \n",
      " 31  Positioning          17733 non-null  int32 \n",
      " 32  Reactions            17733 non-null  int32 \n",
      " 33  Short passing        17733 non-null  int32 \n",
      " 34  Shot power           17733 non-null  int32 \n",
      " 35  Sliding tackle       17733 non-null  int32 \n",
      " 36  Sprint speed         17733 non-null  int32 \n",
      " 37  Stamina              17733 non-null  int32 \n",
      " 38  Standing tackle      17733 non-null  int32 \n",
      " 39  Strength             17733 non-null  int32 \n",
      " 40  Vision               17733 non-null  int32 \n",
      " 41  Volleys              17733 non-null  int32 \n",
      " 42  Preferred Positions  17733 non-null  object\n",
      "dtypes: int32(36), int64(4), object(3)\n",
      "memory usage: 3.5+ MB\n"
     ]
    }
   ],
   "source": [
    "df.info()"
   ]
  },
  {
   "cell_type": "markdown",
   "id": "ba0811da-e319-443c-8d49-1a78b5603eb3",
   "metadata": {},
   "source": [
    "### Normalización"
   ]
  },
  {
   "cell_type": "code",
   "execution_count": 362,
   "id": "188f3e42-d041-4c8a-b05d-5526d424b68c",
   "metadata": {},
   "outputs": [],
   "source": [
    "dummies_n = pd.get_dummies(df['Nationality'])\n",
    "dummies_c = pd.get_dummies(df['Club'])\n",
    "dummies_pp = pd.get_dummies(df['Preferred Positions'])"
   ]
  },
  {
   "cell_type": "code",
   "execution_count": 365,
   "id": "9502c361-0c9f-4899-9f26-80a4963456a9",
   "metadata": {},
   "outputs": [],
   "source": [
    "df = pd.concat([df, dummies_n, dummies_c, dummies_pp], axis = 1)"
   ]
  },
  {
   "cell_type": "code",
   "execution_count": 366,
   "id": "94a690cf-c95b-4ce8-8bec-63aaf5bc8f18",
   "metadata": {},
   "outputs": [],
   "source": [
    "df = df.drop(['Nationality', 'Club', 'Preferred Positions'], axis = 1)"
   ]
  },
  {
   "cell_type": "code",
   "execution_count": 369,
   "id": "f7a6b6c7-4289-4d40-a154-138604be4b4f",
   "metadata": {},
   "outputs": [
    {
     "data": {
      "text/html": [
       "<div>\n",
       "<style scoped>\n",
       "    .dataframe tbody tr th:only-of-type {\n",
       "        vertical-align: middle;\n",
       "    }\n",
       "\n",
       "    .dataframe tbody tr th {\n",
       "        vertical-align: top;\n",
       "    }\n",
       "\n",
       "    .dataframe thead th {\n",
       "        text-align: right;\n",
       "    }\n",
       "</style>\n",
       "<table border=\"1\" class=\"dataframe\">\n",
       "  <thead>\n",
       "    <tr style=\"text-align: right;\">\n",
       "      <th></th>\n",
       "      <th>Age</th>\n",
       "      <th>Overall</th>\n",
       "      <th>Potential</th>\n",
       "      <th>Value</th>\n",
       "      <th>Wage</th>\n",
       "      <th>Special</th>\n",
       "      <th>Acceleration</th>\n",
       "      <th>Aggression</th>\n",
       "      <th>Agility</th>\n",
       "      <th>Balance</th>\n",
       "      <th>...</th>\n",
       "      <th>ST RM CF</th>\n",
       "      <th>ST RM LM</th>\n",
       "      <th>ST RM LM CAM</th>\n",
       "      <th>ST RM LW</th>\n",
       "      <th>ST RM RB</th>\n",
       "      <th>ST RM RW</th>\n",
       "      <th>ST RW</th>\n",
       "      <th>ST RW CAM</th>\n",
       "      <th>ST RW LW</th>\n",
       "      <th>ST RW RM</th>\n",
       "    </tr>\n",
       "  </thead>\n",
       "  <tbody>\n",
       "    <tr>\n",
       "      <th>0</th>\n",
       "      <td>32</td>\n",
       "      <td>94</td>\n",
       "      <td>94</td>\n",
       "      <td>95500000</td>\n",
       "      <td>565000</td>\n",
       "      <td>2228</td>\n",
       "      <td>89</td>\n",
       "      <td>63</td>\n",
       "      <td>89</td>\n",
       "      <td>63</td>\n",
       "      <td>...</td>\n",
       "      <td>0</td>\n",
       "      <td>0</td>\n",
       "      <td>0</td>\n",
       "      <td>0</td>\n",
       "      <td>0</td>\n",
       "      <td>0</td>\n",
       "      <td>0</td>\n",
       "      <td>0</td>\n",
       "      <td>0</td>\n",
       "      <td>0</td>\n",
       "    </tr>\n",
       "    <tr>\n",
       "      <th>1</th>\n",
       "      <td>30</td>\n",
       "      <td>93</td>\n",
       "      <td>93</td>\n",
       "      <td>105000000</td>\n",
       "      <td>565000</td>\n",
       "      <td>2154</td>\n",
       "      <td>92</td>\n",
       "      <td>48</td>\n",
       "      <td>90</td>\n",
       "      <td>95</td>\n",
       "      <td>...</td>\n",
       "      <td>0</td>\n",
       "      <td>0</td>\n",
       "      <td>0</td>\n",
       "      <td>0</td>\n",
       "      <td>0</td>\n",
       "      <td>0</td>\n",
       "      <td>0</td>\n",
       "      <td>0</td>\n",
       "      <td>0</td>\n",
       "      <td>0</td>\n",
       "    </tr>\n",
       "    <tr>\n",
       "      <th>2</th>\n",
       "      <td>25</td>\n",
       "      <td>92</td>\n",
       "      <td>94</td>\n",
       "      <td>123000000</td>\n",
       "      <td>280000</td>\n",
       "      <td>2100</td>\n",
       "      <td>94</td>\n",
       "      <td>56</td>\n",
       "      <td>96</td>\n",
       "      <td>82</td>\n",
       "      <td>...</td>\n",
       "      <td>0</td>\n",
       "      <td>0</td>\n",
       "      <td>0</td>\n",
       "      <td>0</td>\n",
       "      <td>0</td>\n",
       "      <td>0</td>\n",
       "      <td>0</td>\n",
       "      <td>0</td>\n",
       "      <td>0</td>\n",
       "      <td>0</td>\n",
       "    </tr>\n",
       "    <tr>\n",
       "      <th>3</th>\n",
       "      <td>30</td>\n",
       "      <td>92</td>\n",
       "      <td>92</td>\n",
       "      <td>97000000</td>\n",
       "      <td>510000</td>\n",
       "      <td>2291</td>\n",
       "      <td>88</td>\n",
       "      <td>78</td>\n",
       "      <td>86</td>\n",
       "      <td>60</td>\n",
       "      <td>...</td>\n",
       "      <td>0</td>\n",
       "      <td>0</td>\n",
       "      <td>0</td>\n",
       "      <td>0</td>\n",
       "      <td>0</td>\n",
       "      <td>0</td>\n",
       "      <td>0</td>\n",
       "      <td>0</td>\n",
       "      <td>0</td>\n",
       "      <td>0</td>\n",
       "    </tr>\n",
       "    <tr>\n",
       "      <th>4</th>\n",
       "      <td>31</td>\n",
       "      <td>92</td>\n",
       "      <td>92</td>\n",
       "      <td>61000000</td>\n",
       "      <td>230000</td>\n",
       "      <td>1493</td>\n",
       "      <td>58</td>\n",
       "      <td>29</td>\n",
       "      <td>52</td>\n",
       "      <td>35</td>\n",
       "      <td>...</td>\n",
       "      <td>0</td>\n",
       "      <td>0</td>\n",
       "      <td>0</td>\n",
       "      <td>0</td>\n",
       "      <td>0</td>\n",
       "      <td>0</td>\n",
       "      <td>0</td>\n",
       "      <td>0</td>\n",
       "      <td>0</td>\n",
       "      <td>0</td>\n",
       "    </tr>\n",
       "  </tbody>\n",
       "</table>\n",
       "<p>5 rows × 1644 columns</p>\n",
       "</div>"
      ],
      "text/plain": [
       "   Age  Overall  Potential      Value    Wage  Special  Acceleration  \\\n",
       "0   32       94         94   95500000  565000     2228            89   \n",
       "1   30       93         93  105000000  565000     2154            92   \n",
       "2   25       92         94  123000000  280000     2100            94   \n",
       "3   30       92         92   97000000  510000     2291            88   \n",
       "4   31       92         92   61000000  230000     1493            58   \n",
       "\n",
       "   Aggression  Agility  Balance  ...  ST RM CF   ST RM LM   ST RM LM CAM   \\\n",
       "0          63       89       63  ...          0          0              0   \n",
       "1          48       90       95  ...          0          0              0   \n",
       "2          56       96       82  ...          0          0              0   \n",
       "3          78       86       60  ...          0          0              0   \n",
       "4          29       52       35  ...          0          0              0   \n",
       "\n",
       "   ST RM LW   ST RM RB   ST RM RW   ST RW   ST RW CAM   ST RW LW   ST RW RM   \n",
       "0          0          0          0       0           0          0          0  \n",
       "1          0          0          0       0           0          0          0  \n",
       "2          0          0          0       0           0          0          0  \n",
       "3          0          0          0       0           0          0          0  \n",
       "4          0          0          0       0           0          0          0  \n",
       "\n",
       "[5 rows x 1644 columns]"
      ]
     },
     "execution_count": 369,
     "metadata": {},
     "output_type": "execute_result"
    }
   ],
   "source": [
    "df.head()"
   ]
  },
  {
   "cell_type": "code",
   "execution_count": 370,
   "id": "96509574-cc08-4a6c-9e98-2875dd1f0490",
   "metadata": {},
   "outputs": [
    {
     "name": "stdout",
     "output_type": "stream",
     "text": [
      "<class 'pandas.core.frame.DataFrame'>\n",
      "Int64Index: 17733 entries, 0 to 17980\n",
      "Columns: 1644 entries, Age to ST RW RM \n",
      "dtypes: int32(36), int64(4), uint8(1604)\n",
      "memory usage: 30.2 MB\n"
     ]
    }
   ],
   "source": [
    "df.info()"
   ]
  },
  {
   "cell_type": "markdown",
   "id": "09d976b9-3e82-4d47-9d4e-6b43952a52d9",
   "metadata": {},
   "source": [
    "## Modelo\n",
    "\n",
    "Basado en: https://anderfernandez.com/en/blog/code-decision-tree-python-from-scratch/"
   ]
  },
  {
   "cell_type": "markdown",
   "id": "cc5dfb2e-5ae7-4875-bf97-ec3af4b95338",
   "metadata": {},
   "source": [
    "### Generación de dataframe con valores"
   ]
  },
  {
   "cell_type": "code",
   "execution_count": 371,
   "id": "60730a9a-7c8f-44ce-9e8a-1c03b73450b1",
   "metadata": {},
   "outputs": [
    {
     "data": {
      "text/plain": [
       "array([[       32,        94,  95500000, ...,         0,         0,\n",
       "                0],\n",
       "       [       30,        93, 105000000, ...,         0,         0,\n",
       "                0],\n",
       "       [       25,        92, 123000000, ...,         0,         0,\n",
       "                0],\n",
       "       ...,\n",
       "       [       17,        46,     60000, ...,         0,         0,\n",
       "                0],\n",
       "       [       18,        46,     60000, ...,         0,         0,\n",
       "                0],\n",
       "       [       18,        46,     50000, ...,         0,         0,\n",
       "                0]], dtype=int64)"
      ]
     },
     "execution_count": 371,
     "metadata": {},
     "output_type": "execute_result"
    }
   ],
   "source": [
    "df_X = df.drop(['Potential'], axis = 1) # Potential es nuestro y\n",
    "X = df_X.iloc[:, :].values\n",
    "X"
   ]
  },
  {
   "cell_type": "code",
   "execution_count": 372,
   "id": "75f72231-1ca9-423d-82a5-620c332e829a",
   "metadata": {},
   "outputs": [
    {
     "data": {
      "text/plain": [
       "array([63, 48, 56, ..., 26, 46, 52])"
      ]
     },
     "execution_count": 372,
     "metadata": {},
     "output_type": "execute_result"
    }
   ],
   "source": [
    "# y = df.iloc[:, 7].values\n",
    "y = df.iloc[:, 7].values\n",
    "y"
   ]
  },
  {
   "cell_type": "markdown",
   "id": "8304d61f-f080-491a-a57f-01239312ae64",
   "metadata": {},
   "source": [
    "### Separación del modelo"
   ]
  },
  {
   "cell_type": "code",
   "execution_count": 373,
   "id": "abd251ad-b012-4065-8d73-167a85e163b1",
   "metadata": {},
   "outputs": [],
   "source": [
    "from sklearn.model_selection import train_test_split\n",
    "X_entreno, X_prueba, y_entreno, y_prueba = train_test_split(X, y, test_size = 0.2, random_state = 100)\n"
   ]
  },
  {
   "cell_type": "code",
   "execution_count": 374,
   "id": "c056bc15-3063-4e8a-a877-587af61c6c6c",
   "metadata": {},
   "outputs": [
    {
     "data": {
      "text/plain": [
       "array([[     19,      55,  160000, ...,       0,       0,       0],\n",
       "       [     25,      68, 1200000, ...,       0,       0,       0],\n",
       "       [     23,      60,  230000, ...,       0,       0,       0],\n",
       "       ...,\n",
       "       [     25,      63,  400000, ...,       0,       0,       0],\n",
       "       [     24,      60,  280000, ...,       0,       0,       0],\n",
       "       [     28,      70, 1800000, ...,       0,       0,       0]],\n",
       "      dtype=int64)"
      ]
     },
     "execution_count": 374,
     "metadata": {},
     "output_type": "execute_result"
    }
   ],
   "source": [
    "X_entreno "
   ]
  },
  {
   "cell_type": "code",
   "execution_count": 375,
   "id": "232b9f91-7504-4308-a39a-cc5d881d6ac9",
   "metadata": {},
   "outputs": [
    {
     "data": {
      "text/plain": [
       "array([26, 31, 20, ..., 22, 41, 53])"
      ]
     },
     "execution_count": 375,
     "metadata": {},
     "output_type": "execute_result"
    }
   ],
   "source": [
    "y_entreno"
   ]
  },
  {
   "cell_type": "markdown",
   "id": "e34eeb1b-bb23-43c2-b022-26e14dd927c0",
   "metadata": {},
   "source": [
    "## Impureza de Gini y otras funciones"
   ]
  },
  {
   "cell_type": "code",
   "execution_count": 376,
   "id": "4e912af5-049a-4a0e-96c8-aeefe35a3dcb",
   "metadata": {},
   "outputs": [
    {
     "data": {
      "text/html": [
       "<style>#sk-container-id-1 {color: black;background-color: white;}#sk-container-id-1 pre{padding: 0;}#sk-container-id-1 div.sk-toggleable {background-color: white;}#sk-container-id-1 label.sk-toggleable__label {cursor: pointer;display: block;width: 100%;margin-bottom: 0;padding: 0.3em;box-sizing: border-box;text-align: center;}#sk-container-id-1 label.sk-toggleable__label-arrow:before {content: \"▸\";float: left;margin-right: 0.25em;color: #696969;}#sk-container-id-1 label.sk-toggleable__label-arrow:hover:before {color: black;}#sk-container-id-1 div.sk-estimator:hover label.sk-toggleable__label-arrow:before {color: black;}#sk-container-id-1 div.sk-toggleable__content {max-height: 0;max-width: 0;overflow: hidden;text-align: left;background-color: #f0f8ff;}#sk-container-id-1 div.sk-toggleable__content pre {margin: 0.2em;color: black;border-radius: 0.25em;background-color: #f0f8ff;}#sk-container-id-1 input.sk-toggleable__control:checked~div.sk-toggleable__content {max-height: 200px;max-width: 100%;overflow: auto;}#sk-container-id-1 input.sk-toggleable__control:checked~label.sk-toggleable__label-arrow:before {content: \"▾\";}#sk-container-id-1 div.sk-estimator input.sk-toggleable__control:checked~label.sk-toggleable__label {background-color: #d4ebff;}#sk-container-id-1 div.sk-label input.sk-toggleable__control:checked~label.sk-toggleable__label {background-color: #d4ebff;}#sk-container-id-1 input.sk-hidden--visually {border: 0;clip: rect(1px 1px 1px 1px);clip: rect(1px, 1px, 1px, 1px);height: 1px;margin: -1px;overflow: hidden;padding: 0;position: absolute;width: 1px;}#sk-container-id-1 div.sk-estimator {font-family: monospace;background-color: #f0f8ff;border: 1px dotted black;border-radius: 0.25em;box-sizing: border-box;margin-bottom: 0.5em;}#sk-container-id-1 div.sk-estimator:hover {background-color: #d4ebff;}#sk-container-id-1 div.sk-parallel-item::after {content: \"\";width: 100%;border-bottom: 1px solid gray;flex-grow: 1;}#sk-container-id-1 div.sk-label:hover label.sk-toggleable__label {background-color: #d4ebff;}#sk-container-id-1 div.sk-serial::before {content: \"\";position: absolute;border-left: 1px solid gray;box-sizing: border-box;top: 0;bottom: 0;left: 50%;z-index: 0;}#sk-container-id-1 div.sk-serial {display: flex;flex-direction: column;align-items: center;background-color: white;padding-right: 0.2em;padding-left: 0.2em;position: relative;}#sk-container-id-1 div.sk-item {position: relative;z-index: 1;}#sk-container-id-1 div.sk-parallel {display: flex;align-items: stretch;justify-content: center;background-color: white;position: relative;}#sk-container-id-1 div.sk-item::before, #sk-container-id-1 div.sk-parallel-item::before {content: \"\";position: absolute;border-left: 1px solid gray;box-sizing: border-box;top: 0;bottom: 0;left: 50%;z-index: -1;}#sk-container-id-1 div.sk-parallel-item {display: flex;flex-direction: column;z-index: 1;position: relative;background-color: white;}#sk-container-id-1 div.sk-parallel-item:first-child::after {align-self: flex-end;width: 50%;}#sk-container-id-1 div.sk-parallel-item:last-child::after {align-self: flex-start;width: 50%;}#sk-container-id-1 div.sk-parallel-item:only-child::after {width: 0;}#sk-container-id-1 div.sk-dashed-wrapped {border: 1px dashed gray;margin: 0 0.4em 0.5em 0.4em;box-sizing: border-box;padding-bottom: 0.4em;background-color: white;}#sk-container-id-1 div.sk-label label {font-family: monospace;font-weight: bold;display: inline-block;line-height: 1.2em;}#sk-container-id-1 div.sk-label-container {text-align: center;}#sk-container-id-1 div.sk-container {/* jupyter's `normalize.less` sets `[hidden] { display: none; }` but bootstrap.min.css set `[hidden] { display: none !important; }` so we also need the `!important` here to be able to override the default hidden behavior on the sphinx rendered scikit-learn.org. See: https://github.com/scikit-learn/scikit-learn/issues/21755 */display: inline-block !important;position: relative;}#sk-container-id-1 div.sk-text-repr-fallback {display: none;}</style><div id=\"sk-container-id-1\" class=\"sk-top-container\"><div class=\"sk-text-repr-fallback\"><pre>DecisionTreeClassifier(max_depth=10, min_samples_leaf=2)</pre><b>In a Jupyter environment, please rerun this cell to show the HTML representation or trust the notebook. <br />On GitHub, the HTML representation is unable to render, please try loading this page with nbviewer.org.</b></div><div class=\"sk-container\" hidden><div class=\"sk-item\"><div class=\"sk-estimator sk-toggleable\"><input class=\"sk-toggleable__control sk-hidden--visually\" id=\"sk-estimator-id-1\" type=\"checkbox\" checked><label for=\"sk-estimator-id-1\" class=\"sk-toggleable__label sk-toggleable__label-arrow\">DecisionTreeClassifier</label><div class=\"sk-toggleable__content\"><pre>DecisionTreeClassifier(max_depth=10, min_samples_leaf=2)</pre></div></div></div></div></div>"
      ],
      "text/plain": [
       "DecisionTreeClassifier(max_depth=10, min_samples_leaf=2)"
      ]
     },
     "execution_count": 376,
     "metadata": {},
     "output_type": "execute_result"
    }
   ],
   "source": [
    "model = DecisionTreeClassifier(max_depth = 10, min_samples_leaf=2, min_samples_split=2)\n",
    "model.fit(X_entreno, y_entreno)"
   ]
  },
  {
   "cell_type": "code",
   "execution_count": 377,
   "id": "3dfa8848-ae70-4761-a7e8-b59f2f4f4302",
   "metadata": {},
   "outputs": [
    {
     "name": "stdout",
     "output_type": "stream",
     "text": [
      "Accuracy for self built model 0.5678037778404286\n"
     ]
    }
   ],
   "source": [
    "from sklearn.metrics import accuracy_score\n",
    "y_pred = model.predict(X_prueba)\n",
    "print(f'Accuracy for self built model {accuracy_score(y_prueba, y_pred)}')"
   ]
  },
  {
   "cell_type": "code",
   "execution_count": null,
   "id": "57a58969-3522-4e85-a401-e732b61d14ed",
   "metadata": {},
   "outputs": [],
   "source": [
    "\n"
   ]
  },
  {
   "cell_type": "markdown",
   "id": "80a003a6-3f50-4b5e-b00f-93ddc0bd54f5",
   "metadata": {},
   "source": [
    "## Comparación"
   ]
  },
  {
   "cell_type": "code",
   "execution_count": 386,
   "id": "30006f2e-f60e-4279-8ad6-47c965bb9f4d",
   "metadata": {},
   "outputs": [],
   "source": [
    "from sklearn.tree import DecisionTreeRegressor"
   ]
  },
  {
   "cell_type": "code",
   "execution_count": 388,
   "id": "16fd0920-cba1-46f3-af66-043061893c9b",
   "metadata": {},
   "outputs": [],
   "source": [
    "modeloR = DecisionTreeRegressor()"
   ]
  },
  {
   "cell_type": "code",
   "execution_count": 389,
   "id": "721b81b0-8b54-4d4f-b849-5a5830f7666c",
   "metadata": {},
   "outputs": [
    {
     "data": {
      "text/html": [
       "<style>#sk-container-id-3 {color: black;background-color: white;}#sk-container-id-3 pre{padding: 0;}#sk-container-id-3 div.sk-toggleable {background-color: white;}#sk-container-id-3 label.sk-toggleable__label {cursor: pointer;display: block;width: 100%;margin-bottom: 0;padding: 0.3em;box-sizing: border-box;text-align: center;}#sk-container-id-3 label.sk-toggleable__label-arrow:before {content: \"▸\";float: left;margin-right: 0.25em;color: #696969;}#sk-container-id-3 label.sk-toggleable__label-arrow:hover:before {color: black;}#sk-container-id-3 div.sk-estimator:hover label.sk-toggleable__label-arrow:before {color: black;}#sk-container-id-3 div.sk-toggleable__content {max-height: 0;max-width: 0;overflow: hidden;text-align: left;background-color: #f0f8ff;}#sk-container-id-3 div.sk-toggleable__content pre {margin: 0.2em;color: black;border-radius: 0.25em;background-color: #f0f8ff;}#sk-container-id-3 input.sk-toggleable__control:checked~div.sk-toggleable__content {max-height: 200px;max-width: 100%;overflow: auto;}#sk-container-id-3 input.sk-toggleable__control:checked~label.sk-toggleable__label-arrow:before {content: \"▾\";}#sk-container-id-3 div.sk-estimator input.sk-toggleable__control:checked~label.sk-toggleable__label {background-color: #d4ebff;}#sk-container-id-3 div.sk-label input.sk-toggleable__control:checked~label.sk-toggleable__label {background-color: #d4ebff;}#sk-container-id-3 input.sk-hidden--visually {border: 0;clip: rect(1px 1px 1px 1px);clip: rect(1px, 1px, 1px, 1px);height: 1px;margin: -1px;overflow: hidden;padding: 0;position: absolute;width: 1px;}#sk-container-id-3 div.sk-estimator {font-family: monospace;background-color: #f0f8ff;border: 1px dotted black;border-radius: 0.25em;box-sizing: border-box;margin-bottom: 0.5em;}#sk-container-id-3 div.sk-estimator:hover {background-color: #d4ebff;}#sk-container-id-3 div.sk-parallel-item::after {content: \"\";width: 100%;border-bottom: 1px solid gray;flex-grow: 1;}#sk-container-id-3 div.sk-label:hover label.sk-toggleable__label {background-color: #d4ebff;}#sk-container-id-3 div.sk-serial::before {content: \"\";position: absolute;border-left: 1px solid gray;box-sizing: border-box;top: 0;bottom: 0;left: 50%;z-index: 0;}#sk-container-id-3 div.sk-serial {display: flex;flex-direction: column;align-items: center;background-color: white;padding-right: 0.2em;padding-left: 0.2em;position: relative;}#sk-container-id-3 div.sk-item {position: relative;z-index: 1;}#sk-container-id-3 div.sk-parallel {display: flex;align-items: stretch;justify-content: center;background-color: white;position: relative;}#sk-container-id-3 div.sk-item::before, #sk-container-id-3 div.sk-parallel-item::before {content: \"\";position: absolute;border-left: 1px solid gray;box-sizing: border-box;top: 0;bottom: 0;left: 50%;z-index: -1;}#sk-container-id-3 div.sk-parallel-item {display: flex;flex-direction: column;z-index: 1;position: relative;background-color: white;}#sk-container-id-3 div.sk-parallel-item:first-child::after {align-self: flex-end;width: 50%;}#sk-container-id-3 div.sk-parallel-item:last-child::after {align-self: flex-start;width: 50%;}#sk-container-id-3 div.sk-parallel-item:only-child::after {width: 0;}#sk-container-id-3 div.sk-dashed-wrapped {border: 1px dashed gray;margin: 0 0.4em 0.5em 0.4em;box-sizing: border-box;padding-bottom: 0.4em;background-color: white;}#sk-container-id-3 div.sk-label label {font-family: monospace;font-weight: bold;display: inline-block;line-height: 1.2em;}#sk-container-id-3 div.sk-label-container {text-align: center;}#sk-container-id-3 div.sk-container {/* jupyter's `normalize.less` sets `[hidden] { display: none; }` but bootstrap.min.css set `[hidden] { display: none !important; }` so we also need the `!important` here to be able to override the default hidden behavior on the sphinx rendered scikit-learn.org. See: https://github.com/scikit-learn/scikit-learn/issues/21755 */display: inline-block !important;position: relative;}#sk-container-id-3 div.sk-text-repr-fallback {display: none;}</style><div id=\"sk-container-id-3\" class=\"sk-top-container\"><div class=\"sk-text-repr-fallback\"><pre>DecisionTreeRegressor()</pre><b>In a Jupyter environment, please rerun this cell to show the HTML representation or trust the notebook. <br />On GitHub, the HTML representation is unable to render, please try loading this page with nbviewer.org.</b></div><div class=\"sk-container\" hidden><div class=\"sk-item\"><div class=\"sk-estimator sk-toggleable\"><input class=\"sk-toggleable__control sk-hidden--visually\" id=\"sk-estimator-id-3\" type=\"checkbox\" checked><label for=\"sk-estimator-id-3\" class=\"sk-toggleable__label sk-toggleable__label-arrow\">DecisionTreeRegressor</label><div class=\"sk-toggleable__content\"><pre>DecisionTreeRegressor()</pre></div></div></div></div></div>"
      ],
      "text/plain": [
       "DecisionTreeRegressor()"
      ]
     },
     "execution_count": 389,
     "metadata": {},
     "output_type": "execute_result"
    }
   ],
   "source": [
    "modeloR.fit(X_entreno, y_entreno)"
   ]
  },
  {
   "cell_type": "code",
   "execution_count": 390,
   "id": "11635c30-5090-484a-858c-f45ebe92bee7",
   "metadata": {},
   "outputs": [],
   "source": [
    "y_predicciones = modeloR.predict(X_prueba)"
   ]
  },
  {
   "cell_type": "code",
   "execution_count": 403,
   "id": "0d8a989f-5ba2-4cbf-a6cd-c0d2ba38b3d7",
   "metadata": {},
   "outputs": [
    {
     "data": {
      "text/plain": [
       "<seaborn.axisgrid.FacetGrid at 0x28fcf32bf10>"
      ]
     },
     "execution_count": 403,
     "metadata": {},
     "output_type": "execute_result"
    },
    {
     "data": {
      "image/png": "[encoded data removed]",
      "text/plain": [
       "<Figure size 500x500 with 1 Axes>"
      ]
     },
     "metadata": {},
     "output_type": "display_data"
    },
    {
     "data": {
      "image/png": "[encoded data removed]",
      "text/plain": [
       "<Figure size 500x500 with 1 Axes>"
      ]
     },
     "metadata": {},
     "output_type": "display_data"
    }
   ],
   "source": [
    "sns.displot(y_prueba, kind=\"kde\")\n",
    "sns.displot(y_predicciones, kind=\"kde\")"
   ]
  },
  {
   "cell_type": "code",
   "execution_count": 404,
   "id": "d691d8d4-3cd5-4670-a289-f121a88cf157",
   "metadata": {},
   "outputs": [],
   "source": [
    "from sklearn.metrics import confusion_matrix, classification_report"
   ]
  },
  {
   "cell_type": "code",
   "execution_count": 405,
   "id": "ca311c23-8bcb-45f9-af81-3e70eeba623c",
   "metadata": {},
   "outputs": [
    {
     "data": {
      "text/plain": [
       "array([[1, 0, 0, ..., 0, 0, 0],\n",
       "       [0, 2, 0, ..., 0, 0, 0],\n",
       "       [0, 0, 1, ..., 0, 0, 0],\n",
       "       ...,\n",
       "       [0, 0, 0, ..., 6, 0, 0],\n",
       "       [0, 0, 0, ..., 0, 5, 0],\n",
       "       [0, 0, 0, ..., 0, 0, 1]], dtype=int64)"
      ]
     },
     "execution_count": 405,
     "metadata": {},
     "output_type": "execute_result"
    }
   ],
   "source": [
    "confusion_matrix(y_prueba, y_predicciones)"
   ]
  },
  {
   "cell_type": "code",
   "execution_count": 408,
   "id": "36d22d30-35fb-422b-bcaa-248b88de3266",
   "metadata": {},
   "outputs": [
    {
     "data": {
      "text/plain": [
       "1.0"
      ]
     },
     "execution_count": 408,
     "metadata": {},
     "output_type": "execute_result"
    }
   ],
   "source": [
    "from sklearn.metrics import accuracy_score\n",
    "accuracy_score(y_prueba, y_predicciones)"
   ]
  },
  {
   "cell_type": "code",
   "execution_count": null,
   "id": "833cfa93-186c-4fd8-9dd6-0bf12f866f4d",
   "metadata": {},
   "outputs": [],
   "source": []
  }
 ],
 "metadata": {
  "kernelspec": {
   "display_name": "Python 3 (ipykernel)",
   "language": "python",
   "name": "python3"
  },
  "language_info": {
   "codemirror_mode": {
    "name": "ipython",
    "version": 3
   },
   "file_extension": ".py",
   "mimetype": "text/x-python",
   "name": "python",
   "nbconvert_exporter": "python",
   "pygments_lexer": "ipython3",
   "version": "3.10.2"
  }
 },
 "nbformat": 4,
 "nbformat_minor": 5
}
